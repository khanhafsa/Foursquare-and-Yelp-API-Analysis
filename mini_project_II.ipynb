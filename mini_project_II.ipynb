{
 "cells": [
  {
   "cell_type": "code",
   "execution_count": 2,
   "metadata": {},
   "outputs": [],
   "source": [
    "import requests as re\n",
    "import pandas as pd\n",
    "import os\n",
    "from IPython.display import JSON\n",
    "import json"
   ]
  },
  {
   "cell_type": "code",
   "execution_count": 34,
   "metadata": {},
   "outputs": [],
   "source": [
    "foursquare_app_id = os.environ[\"FOURSQUARE_CLIENT_ID\"]\n",
    "foursquare_client_secret = ['FOURSQUARE_CLIENT_SECRET']\n",
    "yelp_api_key = os.environ[\"YELP_API_KEY\"]\n",
    "yelp_client_id = os.environ[\"YELP_CLIENT_ID\"]"
   ]
  },
  {
   "cell_type": "code",
   "execution_count": 35,
   "metadata": {},
   "outputs": [
    {
     "name": "stdout",
     "output_type": "stream",
     "text": [
      "GVK1LPU4O34WE2KW2WC0B4KRTS5K3UHNVSMEN3PT5GYVIO2R\n",
      "WPQHXKXXTKE0TS4OKQWQ3MDXTKNDWJUMJEKFP1MGBOZAXRO0\n"
     ]
    }
   ],
   "source": [
    "print(foursquare_client_secret)\n",
    "print(foursquare_app_id)"
   ]
  },
  {
   "cell_type": "code",
   "execution_count": 9,
   "metadata": {},
   "outputs": [],
   "source": [
    "endpoint_url_yelp = 'https://api.yelp.com/v3'\n",
    "endpoint_url_foursquare = 'https://api.foursquare.com/v2/venues/explore'"
   ]
  },
  {
   "cell_type": "code",
   "execution_count": 89,
   "metadata": {},
   "outputs": [
    {
     "data": {
      "application/json": {
       "meta": {
        "code": 200,
        "requestId": "604ac1bbccb5ce3c75d6fa48"
       },
       "response": {
        "confident": false,
        "venues": [
         {
          "categories": [
           {
            "icon": {
             "prefix": "https://ss3.4sqi.net/img/categories_v2/shops/food_butcher_",
             "suffix": ".png"
            },
            "id": "58daa1558bbb0b01f18ec1b4",
            "name": "Kitchen Supply Store",
            "pluralName": "Kitchen Supply Stores",
            "primary": true,
            "shortName": "Kitchen Supply"
           }
          ],
          "hasPerk": false,
          "id": "4aa45625f964a5207b4620e3",
          "location": {
           "address": "340 Post St",
           "cc": "US",
           "city": "San Francisco",
           "country": "United States",
           "crossStreet": "btwn Powell & Stockton",
           "distance": 15,
           "formattedAddress": [
            "340 Post St (btwn Powell & Stockton)",
            "San Francisco, CA 94108",
            "United States"
           ],
           "labeledLatLngs": [
            {
             "label": "display",
             "lat": 37.78837660319474,
             "lng": -122.40744602791888
            },
            {
             "label": "entrance",
             "lat": 37.788491,
             "lng": -122.407467
            }
           ],
           "lat": 37.78837660319474,
           "lng": -122.40744602791888,
           "postalCode": "94108",
           "state": "CA"
          },
          "name": "Williams-Sonoma",
          "referralId": "v-1615511995"
         },
         {
          "categories": [
           {
            "icon": {
             "prefix": "https://ss3.4sqi.net/img/categories_v2/shops/technology_",
             "suffix": ".png"
            },
            "id": "4bf58dd8d48988d122951735",
            "name": "Electronics Store",
            "pluralName": "Electronics Stores",
            "primary": true,
            "shortName": "Electronics"
           }
          ],
          "hasPerk": false,
          "id": "42cc7080f964a520e9251fe3",
          "location": {
           "address": "300 Post St",
           "cc": "US",
           "city": "San Francisco",
           "country": "United States",
           "crossStreet": "at Stockton St",
           "distance": 54,
           "formattedAddress": [
            "300 Post St (at Stockton St)",
            "San Francisco, CA 94108",
            "United States"
           ],
           "labeledLatLngs": [
            {
             "label": "display",
             "lat": 37.788689736326674,
             "lng": -122.4071735143661
            }
           ],
           "lat": 37.788689736326674,
           "lng": -122.4071735143661,
           "postalCode": "94108",
           "state": "CA"
          },
          "name": "Apple Union Square",
          "referralId": "v-1615511995"
         },
         {
          "categories": [
           {
            "icon": {
             "prefix": "https://ss3.4sqi.net/img/categories_v2/parks_outdoors/default_",
             "suffix": ".png"
            },
            "id": "52e81612bcbc57f1066b7a25",
            "name": "Pedestrian Plaza",
            "pluralName": "Pedestrian Plazas",
            "primary": true,
            "shortName": "Pedestrian Street/Plaza"
           }
          ],
          "hasPerk": false,
          "id": "40bbc700f964a520b1001fe3",
          "location": {
           "address": "333 Post St",
           "cc": "US",
           "city": "San Francisco",
           "country": "United States",
           "crossStreet": "btwn Powell & Stockton St",
           "distance": 35,
           "formattedAddress": [
            "333 Post St (btwn Powell & Stockton St)",
            "San Francisco, CA 94108",
            "United States"
           ],
           "labeledLatLngs": [
            {
             "label": "display",
             "lat": 37.78793300477387,
             "lng": -122.40750074386597
            }
           ],
           "lat": 37.78793300477387,
           "lng": -122.40750074386597,
           "neighborhood": "Downtown San Francisco-Union Square",
           "postalCode": "94108",
           "state": "CA"
          },
          "name": "Union Square",
          "referralId": "v-1615511995",
          "venuePage": {
           "id": "34303229"
          }
         },
         {
          "categories": [
           {
            "icon": {
             "prefix": "https://ss3.4sqi.net/img/categories_v2/shops/sports_outdoors_",
             "suffix": ".png"
            },
            "id": "4bf58dd8d48988d1f2941735",
            "name": "Sporting Goods Shop",
            "pluralName": "Sporting Goods Shops",
            "primary": true,
            "shortName": "Sporting Goods"
           }
          ],
          "hasPerk": false,
          "id": "4a283a63f964a520ff941fe3",
          "location": {
           "address": "278 Post St",
           "cc": "US",
           "city": "San Francisco",
           "country": "United States",
           "crossStreet": "at Stockton St.",
           "distance": 78,
           "formattedAddress": [
            "278 Post St (at Stockton St.)",
            "San Francisco, CA 94108",
            "United States"
           ],
           "labeledLatLngs": [
            {
             "label": "display",
             "lat": 37.7886538,
             "lng": -122.4066784
            }
           ],
           "lat": 37.7886538,
           "lng": -122.4066784,
           "postalCode": "94108",
           "state": "CA"
          },
          "name": "Nike",
          "referralId": "v-1615511995"
         },
         {
          "categories": [
           {
            "icon": {
             "prefix": "https://ss3.4sqi.net/img/categories_v2/building/medical_dentist_",
             "suffix": ".png"
            },
            "id": "4bf58dd8d48988d178941735",
            "name": "Dentist's Office",
            "pluralName": "Dentist's Offices",
            "primary": true,
            "shortName": "Dentist's Office"
           }
          ],
          "hasPerk": false,
          "id": "4a3bcd16f964a520c7a01fe3",
          "location": {
           "address": "360 Post St Ste 704",
           "cc": "US",
           "city": "San Francisco",
           "country": "United States",
           "crossStreet": "Powell St",
           "distance": 39,
           "formattedAddress": [
            "360 Post St Ste 704 (Powell St)",
            "San Francisco, CA 94108",
            "United States"
           ],
           "labeledLatLngs": [
            {
             "label": "display",
             "lat": 37.788538017157094,
             "lng": -122.40764343802869
            },
            {
             "label": "entrance",
             "lat": 37.788489,
             "lng": -122.407688
            }
           ],
           "lat": 37.788538017157094,
           "lng": -122.40764343802869,
           "postalCode": "94108",
           "state": "CA"
          },
          "name": "Green Dentistry",
          "referralId": "v-1615511995",
          "venuePage": {
           "id": "478111723"
          }
         },
         {
          "categories": [
           {
            "icon": {
             "prefix": "https://ss3.4sqi.net/img/categories_v2/shops/jewelry_",
             "suffix": ".png"
            },
            "id": "4bf58dd8d48988d111951735",
            "name": "Jewelry Store",
            "pluralName": "Jewelry Stores",
            "primary": true,
            "shortName": "Jewelry"
           }
          ],
          "hasPerk": false,
          "id": "4a791992f964a520efe61fe3",
          "location": {
           "address": "350 Post St",
           "cc": "US",
           "city": "San Francisco",
           "country": "United States",
           "crossStreet": "btwn Powell & Stockton",
           "distance": 48,
           "formattedAddress": [
            "350 Post St (btwn Powell & Stockton)",
            "San Francisco, CA 94108",
            "United States"
           ],
           "labeledLatLngs": [
            {
             "label": "display",
             "lat": 37.7885979,
             "lng": -122.4077075
            },
            {
             "label": "entrance",
             "lat": 37.7885,
             "lng": -122.407603
            }
           ],
           "lat": 37.7885979,
           "lng": -122.4077075,
           "postalCode": "94108",
           "state": "CA"
          },
          "name": "Tiffany & Co.",
          "referralId": "v-1615511995"
         },
         {
          "categories": [
           {
            "icon": {
             "prefix": "https://ss3.4sqi.net/img/categories_v2/building/medical_dentist_",
             "suffix": ".png"
            },
            "id": "4bf58dd8d48988d178941735",
            "name": "Dentist's Office",
            "pluralName": "Dentist's Offices",
            "primary": true,
            "shortName": "Dentist's Office"
           }
          ],
          "hasPerk": false,
          "id": "4bd8b69111dcc9286574f733",
          "location": {
           "address": "260 Stockton St",
           "cc": "US",
           "city": "San Francisco",
           "country": "United States",
           "crossStreet": "Post",
           "distance": 79,
           "formattedAddress": [
            "260 Stockton St (Post)",
            "San Francisco, CA 94108",
            "United States"
           ],
           "labeledLatLngs": [
            {
             "label": "display",
             "lat": 37.78831100463867,
             "lng": -122.40650177001953
            }
           ],
           "lat": 37.78831100463867,
           "lng": -122.40650177001953,
           "postalCode": "94108",
           "state": "CA"
          },
          "name": "Dr. Serdar's office",
          "referralId": "v-1615511995"
         },
         {
          "categories": [
           {
            "icon": {
             "prefix": "https://ss3.4sqi.net/img/categories_v2/building/medical_doctorsoffice_",
             "suffix": ".png"
            },
            "id": "4bf58dd8d48988d177941735",
            "name": "Doctor's Office",
            "pluralName": "Doctor's Offices",
            "primary": true,
            "shortName": "Doctor's Office"
           }
          ],
          "hasPerk": false,
          "id": "4b16c206f964a52009bd23e3",
          "location": {
           "address": "360 Post St",
           "cc": "US",
           "city": "San Francisco",
           "country": "United States",
           "distance": 18,
           "formattedAddress": [
            "360 Post St",
            "San Francisco, CA 94108",
            "United States"
           ],
           "labeledLatLngs": [
            {
             "label": "display",
             "lat": 37.78838397379925,
             "lng": -122.4075071366674
            },
            {
             "label": "entrance",
             "lat": 37.788489,
             "lng": -122.407688
            }
           ],
           "lat": 37.78838397379925,
           "lng": -122.4075071366674,
           "postalCode": "94108",
           "state": "CA"
          },
          "name": "Dr. William Kwan, MD",
          "referralId": "v-1615511995",
          "venuePage": {
           "id": "124476576"
          }
         },
         {
          "categories": [
           {
            "icon": {
             "prefix": "https://ss3.4sqi.net/img/categories_v2/building/parking_",
             "suffix": ".png"
            },
            "id": "4c38df4de52ce0d596b336e1",
            "name": "Parking",
            "pluralName": "Parking",
            "primary": true,
            "shortName": "Parking"
           }
          ],
          "hasPerk": false,
          "id": "4c368a391e06d13ac67e743e",
          "location": {
           "address": "333 Post St",
           "cc": "US",
           "city": "San Francisco",
           "country": "United States",
           "crossStreet": "btwn Powell & Stockton St",
           "distance": 45,
           "formattedAddress": [
            "333 Post St (btwn Powell & Stockton St)",
            "San Francisco, CA 94108",
            "United States"
           ],
           "labeledLatLngs": [
            {
             "label": "display",
             "lat": 37.78784674402222,
             "lng": -122.40754841281385
            }
           ],
           "lat": 37.78784674402222,
           "lng": -122.40754841281385,
           "postalCode": "94108",
           "state": "CA"
          },
          "name": "Union Square Garage",
          "referralId": "v-1615511995"
         },
         {
          "categories": [
           {
            "icon": {
             "prefix": "https://ss3.4sqi.net/img/categories_v2/arts_entertainment/default_",
             "suffix": ".png"
            },
            "id": "507c8c4091d498d9fc8c67a9",
            "name": "Public Art",
            "pluralName": "Public Art",
            "primary": true,
            "shortName": "Public Art"
           }
          ],
          "hasPerk": false,
          "id": "53b0a134498e513b904af60b",
          "location": {
           "address": "Union Square",
           "cc": "US",
           "city": "San Francisco",
           "country": "United States",
           "distance": 70,
           "formattedAddress": [
            "Union Square",
            "San Francisco, CA 94108",
            "United States"
           ],
           "labeledLatLngs": [
            {
             "label": "display",
             "lat": 37.78810555390803,
             "lng": -122.40818430267474
            }
           ],
           "lat": 37.78810555390803,
           "lng": -122.40818430267474,
           "postalCode": "94108",
           "state": "CA"
          },
          "name": "Hearts of San Francisco",
          "referralId": "v-1615511995"
         },
         {
          "categories": [
           {
            "icon": {
             "prefix": "https://ss3.4sqi.net/img/categories_v2/food/juicebar_",
             "suffix": ".png"
            },
            "id": "4bf58dd8d48988d112941735",
            "name": "Juice Bar",
            "pluralName": "Juice Bars",
            "primary": true,
            "shortName": "Juice Bar"
           }
          ],
          "delivery": {
           "id": "1753439",
           "provider": {
            "icon": {
             "name": "/delivery_provider_grubhub_20180129.png",
             "prefix": "https://fastly.4sqi.net/img/general/cap/",
             "sizes": [
              40,
              50
             ]
            },
            "name": "grubhub"
           },
           "url": "https://www.grubhub.com/restaurant/jamba-170-ofarrell-st-san-francisco/1753439?affiliate=1131&utm_source=foursquare-affiliate-network&utm_medium=affiliate&utm_campaign=1131&utm_content=1753439"
          },
          "hasPerk": false,
          "id": "52e31ab811d28dddf8bfe07f",
          "location": {
           "address": "170 O'Farrell St",
           "cc": "US",
           "city": "San Francisco",
           "country": "United States",
           "distance": 174,
           "formattedAddress": [
            "170 O'Farrell St",
            "San Francisco, CA 94102",
            "United States"
           ],
           "labeledLatLngs": [
            {
             "label": "display",
             "lat": 37.786732,
             "lng": -122.406852
            }
           ],
           "lat": 37.786732,
           "lng": -122.406852,
           "postalCode": "94102",
           "state": "CA"
          },
          "name": "Jamba Juice",
          "referralId": "v-1615511995"
         },
         {
          "categories": [
           {
            "icon": {
             "prefix": "https://ss3.4sqi.net/img/categories_v2/shops/departmentstore_",
             "suffix": ".png"
            },
            "id": "4bf58dd8d48988d1f6941735",
            "name": "Department Store",
            "pluralName": "Department Stores",
            "primary": true,
            "shortName": "Department Store"
           }
          ],
          "hasPerk": false,
          "id": "4ace3dd5f964a52056cf20e3",
          "location": {
           "address": "384 Post St",
           "cc": "US",
           "city": "San Francisco",
           "country": "United States",
           "crossStreet": "Powell St",
           "distance": 74,
           "formattedAddress": [
            "384 Post St (Powell St)",
            "San Francisco, CA 94108",
            "United States"
           ],
           "labeledLatLngs": [
            {
             "label": "display",
             "lat": 37.78860367704878,
             "lng": -122.40810665486606
            },
            {
             "label": "entrance",
             "lat": 37.788444,
             "lng": -122.40796
            }
           ],
           "lat": 37.78860367704878,
           "lng": -122.40810665486606,
           "postalCode": "94108",
           "state": "CA"
          },
          "name": "Saks Fifth Avenue",
          "referralId": "v-1615511995",
          "venuePage": {
           "id": "568172958"
          }
         },
         {
          "categories": [
           {
            "icon": {
             "prefix": "https://ss3.4sqi.net/img/categories_v2/shops/departmentstore_",
             "suffix": ".png"
            },
            "id": "4bf58dd8d48988d1f6941735",
            "name": "Department Store",
            "pluralName": "Department Stores",
            "primary": true,
            "shortName": "Department Store"
           }
          ],
          "hasPerk": false,
          "id": "4fad79ab7bebb7e19fc8dfdf",
          "location": {
           "address": "220 Post St",
           "cc": "US",
           "city": "San Francisco",
           "country": "United States",
           "distance": 23,
           "formattedAddress": [
            "220 Post St",
            "San Francisco, CA 94108",
            "United States"
           ],
           "labeledLatLngs": [
            {
             "label": "display",
             "lat": 37.78806388980379,
             "lng": -122.40755631964154
            },
            {
             "label": "entrance",
             "lat": 37.788729,
             "lng": -122.405698
            }
           ],
           "lat": 37.78806388980379,
           "lng": -122.40755631964154,
           "postalCode": "94108",
           "state": "CA"
          },
          "name": "Saks Fifth Avenue",
          "referralId": "v-1615511995"
         },
         {
          "categories": [
           {
            "icon": {
             "prefix": "https://ss3.4sqi.net/img/categories_v2/travel/hotel_",
             "suffix": ".png"
            },
            "id": "4bf58dd8d48988d1fa931735",
            "name": "Hotel",
            "pluralName": "Hotels",
            "primary": true,
            "shortName": "Hotel"
           }
          ],
          "hasPerk": false,
          "id": "42bf4180f964a520b1251fe3",
          "location": {
           "address": "335 Powell St",
           "cc": "US",
           "city": "San Francisco",
           "country": "United States",
           "crossStreet": "at Post St",
           "distance": 140,
           "formattedAddress": [
            "335 Powell St (at Post St)",
            "San Francisco, CA 94102",
            "United States"
           ],
           "labeledLatLngs": [
            {
             "label": "display",
             "lat": 37.787618,
             "lng": -122.4087882
            }
           ],
           "lat": 37.787618,
           "lng": -122.4087882,
           "postalCode": "94102",
           "state": "CA"
          },
          "name": "The Westin St. Francis on Union Square",
          "referralId": "v-1615511995",
          "venuePage": {
           "id": "154942610"
          }
         },
         {
          "categories": [
           {
            "icon": {
             "prefix": "https://ss3.4sqi.net/img/categories_v2/shops/apparel_shoestore_",
             "suffix": ".png"
            },
            "id": "4bf58dd8d48988d107951735",
            "name": "Shoe Store",
            "pluralName": "Shoe Stores",
            "primary": true,
            "shortName": "Shoes"
           }
          ],
          "hasPerk": false,
          "id": "4b3be713f964a520fd7d25e3",
          "location": {
           "address": "324 Stockton St",
           "cc": "US",
           "city": "San Francisco",
           "country": "United States",
           "distance": 89,
           "formattedAddress": [
            "324 Stockton St",
            "San Francisco, CA 94108",
            "United States"
           ],
           "labeledLatLngs": [
            {
             "label": "display",
             "lat": 37.788789,
             "lng": -122.406663
            },
            {
             "label": "entrance",
             "lat": 37.788777,
             "lng": -122.406725
            }
           ],
           "lat": 37.788789,
           "lng": -122.406663,
           "postalCode": "94108",
           "state": "CA"
          },
          "name": "Cole Haan",
          "referralId": "v-1615511995"
         },
         {
          "categories": [
           {
            "icon": {
             "prefix": "https://ss3.4sqi.net/img/categories_v2/building/default_",
             "suffix": ".png"
            },
            "id": "4bf58dd8d48988d124941735",
            "name": "Office",
            "pluralName": "Offices",
            "primary": true,
            "shortName": "Office"
           }
          ],
          "hasPerk": false,
          "id": "4bd2368fb221c9b6363cd7d0",
          "location": {
           "address": "360 Post St",
           "cc": "US",
           "city": "San Francisco",
           "country": "United States",
           "distance": 18,
           "formattedAddress": [
            "360 Post St",
            "San Francisco, CA 94108",
            "United States"
           ],
           "labeledLatLngs": [
            {
             "label": "display",
             "lat": 37.78814745365351,
             "lng": -122.40757656149265
            }
           ],
           "lat": 37.78814745365351,
           "lng": -122.40757656149265,
           "postalCode": "94108",
           "state": "CA"
          },
          "name": "Tiffany Building",
          "referralId": "v-1615511995"
         },
         {
          "categories": [
           {
            "icon": {
             "prefix": "https://ss3.4sqi.net/img/categories_v2/building/medical_dentist_",
             "suffix": ".png"
            },
            "id": "4bf58dd8d48988d178941735",
            "name": "Dentist's Office",
            "pluralName": "Dentist's Offices",
            "primary": true,
            "shortName": "Dentist's Office"
           }
          ],
          "hasPerk": false,
          "id": "4da744db04377705c30b1aba",
          "location": {
           "address": "260 Stockton St Fl 6",
           "cc": "US",
           "city": "San Francisco",
           "country": "United States",
           "crossStreet": "Between Post and Maiden Lane",
           "distance": 67,
           "formattedAddress": [
            "260 Stockton St Fl 6 (Between Post and Maiden Lane)",
            "San Francisco, CA 94108",
            "United States"
           ],
           "labeledLatLngs": [
            {
             "label": "display",
             "lat": 37.788507985813276,
             "lng": -122.40671898597598
            }
           ],
           "lat": 37.788507985813276,
           "lng": -122.40671898597598,
           "postalCode": "94108",
           "state": "CA"
          },
          "name": "Joseph Gabany DMD MSD",
          "referralId": "v-1615511995"
         },
         {
          "categories": [
           {
            "icon": {
             "prefix": "https://ss3.4sqi.net/img/categories_v2/building/medical_dentist_",
             "suffix": ".png"
            },
            "id": "4bf58dd8d48988d178941735",
            "name": "Dentist's Office",
            "pluralName": "Dentist's Offices",
            "primary": true,
            "shortName": "Dentist's Office"
           }
          ],
          "hasPerk": false,
          "id": "4c21340e99282d7fb13b65b0",
          "location": {
           "address": "260 Stockton St",
           "cc": "US",
           "city": "San Francisco",
           "country": "United States",
           "crossStreet": "Post St",
           "distance": 79,
           "formattedAddress": [
            "260 Stockton St (Post St)",
            "San Francisco, CA 94108",
            "United States"
           ],
           "labeledLatLngs": [
            {
             "label": "display",
             "lat": 37.78831100463867,
             "lng": -122.40650177001953
            }
           ],
           "lat": 37.78831100463867,
           "lng": -122.40650177001953,
           "postalCode": "94108",
           "state": "CA"
          },
          "name": "260 Stockton Dentistry",
          "referralId": "v-1615511995"
         },
         {
          "categories": [
           {
            "icon": {
             "prefix": "https://ss3.4sqi.net/img/categories_v2/shops/apparel_women_",
             "suffix": ".png"
            },
            "id": "4bf58dd8d48988d108951735",
            "name": "Women's Store",
            "pluralName": "Women's Stores",
            "primary": true,
            "shortName": "Women's Store"
           }
          ],
          "hasPerk": false,
          "id": "4a74564ef964a520e2dd1fe3",
          "location": {
           "address": "240 Stockton Street",
           "cc": "US",
           "city": "San Francisco",
           "country": "United States",
           "crossStreet": "at Maiden Lane",
           "distance": 80,
           "formattedAddress": [
            "240 Stockton Street (at Maiden Lane)",
            "San Francisco, CA 94108",
            "United States"
           ],
           "labeledLatLngs": [
            {
             "label": "display",
             "lat": 37.7881349,
             "lng": -122.4065008
            }
           ],
           "lat": 37.7881349,
           "lng": -122.4065008,
           "postalCode": "94108",
           "state": "CA"
          },
          "name": "Gucci",
          "referralId": "v-1615511995"
         },
         {
          "categories": [
           {
            "icon": {
             "prefix": "https://ss3.4sqi.net/img/categories_v2/food/cafe_",
             "suffix": ".png"
            },
            "id": "4bf58dd8d48988d16d941735",
            "name": "Café",
            "pluralName": "Cafés",
            "primary": true,
            "shortName": "Café"
           }
          ],
          "hasPerk": false,
          "id": "4b92c5a9f964a520521a34e3",
          "location": {
           "address": "225 Stockton St.",
           "cc": "US",
           "city": "San Francisco",
           "country": "United States",
           "crossStreet": "btwn Post & Geary",
           "distance": 41,
           "formattedAddress": [
            "225 Stockton St. (btwn Post & Geary)",
            "San Francisco, CA 94102",
            "United States"
           ],
           "labeledLatLngs": [
            {
             "label": "display",
             "lat": 37.78792275692093,
             "lng": -122.40765446183707
            }
           ],
           "lat": 37.78792275692093,
           "lng": -122.40765446183707,
           "postalCode": "94102",
           "state": "CA"
          },
          "name": "Emporio Rulli Caffè",
          "referralId": "v-1615511995",
          "venuePage": {
           "id": "52309727"
          }
         },
         {
          "categories": [
           {
            "icon": {
             "prefix": "https://ss3.4sqi.net/img/categories_v2/food/coffeeshop_",
             "suffix": ".png"
            },
            "id": "4bf58dd8d48988d1e0931735",
            "name": "Coffee Shop",
            "pluralName": "Coffee Shops",
            "primary": true,
            "shortName": "Coffee Shop"
           }
          ],
          "hasPerk": false,
          "id": "5850768b5d6ec67d737094c4",
          "location": {
           "address": "170 O'Farrell St.",
           "cc": "US",
           "city": "San Francisco",
           "country": "United States",
           "distance": 29,
           "formattedAddress": [
            "170 O'Farrell St.",
            "San Francisco, CA 94102",
            "United States"
           ],
           "labeledLatLngs": [
            {
             "label": "display",
             "lat": 37.78798892302771,
             "lng": -122.40752226809711
            }
           ],
           "lat": 37.78798892302771,
           "lng": -122.40752226809711,
           "postalCode": "94102",
           "state": "CA"
          },
          "name": "Starbucks",
          "referralId": "v-1615511995"
         },
         {
          "categories": [
           {
            "icon": {
             "prefix": "https://ss3.4sqi.net/img/categories_v2/building/medical_dentist_",
             "suffix": ".png"
            },
            "id": "4bf58dd8d48988d178941735",
            "name": "Dentist's Office",
            "pluralName": "Dentist's Offices",
            "primary": true,
            "shortName": "Dentist's Office"
           }
          ],
          "hasPerk": false,
          "id": "4e417c7f45dd246ccb78ef4c",
          "location": {
           "cc": "US",
           "city": "San Francisco",
           "country": "United States",
           "distance": 47,
           "formattedAddress": [
            "San Francisco, CA",
            "United States"
           ],
           "labeledLatLngs": [
            {
             "label": "display",
             "lat": 37.788391693679344,
             "lng": -122.40690111067977
            }
           ],
           "lat": 37.788391693679344,
           "lng": -122.40690111067977,
           "state": "CA"
          },
          "name": "Good + Sears Orthodontics",
          "referralId": "v-1615511995"
         },
         {
          "categories": [],
          "hasPerk": false,
          "id": "4e59668cb993732579e91722",
          "location": {
           "cc": "US",
           "city": "San Francisco",
           "country": "United States",
           "distance": 46,
           "formattedAddress": [
            "San Francisco, CA",
            "United States"
           ],
           "labeledLatLngs": [
            {
             "label": "display",
             "lat": 37.788580788581214,
             "lng": -122.40769459983439
            }
           ],
           "lat": 37.788580788581214,
           "lng": -122.40769459983439,
           "state": "CA"
          },
          "name": "Korea Day",
          "referralId": "v-1615511995"
         },
         {
          "categories": [
           {
            "icon": {
             "prefix": "https://ss3.4sqi.net/img/categories_v2/building/default_",
             "suffix": ".png"
            },
            "id": "4bf58dd8d48988d124941735",
            "name": "Office",
            "pluralName": "Offices",
            "primary": true,
            "shortName": "Office"
           }
          ],
          "hasPerk": false,
          "id": "4e80a0df61af5299ac9bbed1",
          "location": {
           "address": "360 Post St",
           "cc": "US",
           "city": "San Francisco",
           "country": "United States",
           "distance": 14,
           "formattedAddress": [
            "360 Post St",
            "San Francisco, CA 94108",
            "United States"
           ],
           "labeledLatLngs": [
            {
             "label": "display",
             "lat": 37.788175369176955,
             "lng": -122.40755235789013
            },
            {
             "label": "entrance",
             "lat": 37.788489,
             "lng": -122.407688
            }
           ],
           "lat": 37.788175369176955,
           "lng": -122.40755235789013,
           "postalCode": "94108",
           "state": "CA"
          },
          "name": "Cathay Pacific",
          "referralId": "v-1615511995"
         },
         {
          "categories": [
           {
            "icon": {
             "prefix": "https://ss3.4sqi.net/img/categories_v2/building/medical_opticalshop_",
             "suffix": ".png"
            },
            "id": "522e32fae4b09b556e370f19",
            "name": "Eye Doctor",
            "pluralName": "Eye Doctors",
            "primary": true,
            "shortName": "Eye Doctor"
           }
          ],
          "hasPerk": false,
          "id": "4d30cae65b31a0930c5606de",
          "location": {
           "address": "291 Geary St Ste 700",
           "cc": "US",
           "city": "San Francisco",
           "country": "United States",
           "crossStreet": "Powell St.",
           "distance": 113,
           "formattedAddress": [
            "291 Geary St Ste 700 (Powell St.)",
            "San Francisco, CA 94102",
            "United States"
           ],
           "labeledLatLngs": [
            {
             "label": "display",
             "lat": 37.78733505311719,
             "lng": -122.4079901815289
            }
           ],
           "lat": 37.78733505311719,
           "lng": -122.4079901815289,
           "postalCode": "94102",
           "state": "CA"
          },
          "name": "Dr. Hirabayashi - Opthamologist",
          "referralId": "v-1615511995"
         },
         {
          "categories": [
           {
            "icon": {
             "prefix": "https://ss3.4sqi.net/img/categories_v2/parks_outdoors/sculpture_",
             "suffix": ".png"
            },
            "id": "52e81612bcbc57f1066b79ed",
            "name": "Outdoor Sculpture",
            "pluralName": "Outdoor Sculptures",
            "primary": true,
            "shortName": "Outdoor Sculpture"
           }
          ],
          "hasPerk": false,
          "id": "5f3ebfc77cb3cc227cf74a50",
          "location": {
           "cc": "US",
           "city": "San Francisco",
           "country": "United States",
           "distance": 15,
           "formattedAddress": [
            "San Francisco, CA 94108",
            "United States"
           ],
           "labeledLatLngs": [
            {
             "label": "display",
             "lat": 37.788364,
             "lng": -122.40734
            }
           ],
           "lat": 37.788364,
           "lng": -122.40734,
           "postalCode": "94108",
           "state": "CA"
          },
          "name": "Heart Annie",
          "referralId": "v-1615511995"
         },
         {
          "categories": [
           {
            "icon": {
             "prefix": "https://ss3.4sqi.net/img/categories_v2/building/medical_dentist_",
             "suffix": ".png"
            },
            "id": "4bf58dd8d48988d178941735",
            "name": "Dentist's Office",
            "pluralName": "Dentist's Offices",
            "primary": true,
            "shortName": "Dentist's Office"
           }
          ],
          "hasPerk": false,
          "id": "4b6b5922f964a52090022ce3",
          "location": {
           "address": "260 Stockton St Fl 5",
           "cc": "US",
           "city": "San Francisco",
           "country": "United States",
           "distance": 53,
           "formattedAddress": [
            "260 Stockton St Fl 5",
            "San Francisco, CA 94108",
            "United States"
           ],
           "labeledLatLngs": [
            {
             "label": "display",
             "lat": 37.78845520671966,
             "lng": -122.4068583556041
            }
           ],
           "lat": 37.78845520671966,
           "lng": -122.4068583556041,
           "postalCode": "94108",
           "state": "CA"
          },
          "name": "Polly D Rivas DDS",
          "referralId": "v-1615511995"
         },
         {
          "categories": [
           {
            "icon": {
             "prefix": "https://ss3.4sqi.net/img/categories_v2/building/medical_dentist_",
             "suffix": ".png"
            },
            "id": "4bf58dd8d48988d178941735",
            "name": "Dentist's Office",
            "pluralName": "Dentist's Offices",
            "primary": true,
            "shortName": "Dentist's Office"
           }
          ],
          "hasPerk": false,
          "id": "4c47461196abd13a52387001",
          "location": {
           "address": "260 Stockton St",
           "cc": "US",
           "city": "San Francisco",
           "country": "United States",
           "distance": 40,
           "formattedAddress": [
            "260 Stockton St",
            "San Francisco, CA 94108",
            "United States"
           ],
           "labeledLatLngs": [
            {
             "label": "display",
             "lat": 37.78833663725291,
             "lng": -122.40695630602566
            },
            {
             "label": "entrance",
             "lat": 37.788318,
             "lng": -122.406631
            }
           ],
           "lat": 37.78833663725291,
           "lng": -122.40695630602566,
           "postalCode": "94108",
           "state": "CA"
          },
          "name": "Dr. Ivan A. Serdar",
          "referralId": "v-1615511995"
         },
         {
          "categories": [
           {
            "icon": {
             "prefix": "https://ss3.4sqi.net/img/categories_v2/building/medical_dentist_",
             "suffix": ".png"
            },
            "id": "4bf58dd8d48988d178941735",
            "name": "Dentist's Office",
            "pluralName": "Dentist's Offices",
            "primary": true,
            "shortName": "Dentist's Office"
           }
          ],
          "hasPerk": false,
          "id": "4b6c979ff964a52036452ce3",
          "location": {
           "address": "260 Stockton St",
           "cc": "US",
           "city": "San Francisco",
           "country": "United States",
           "crossStreet": "at Post St",
           "distance": 79,
           "formattedAddress": [
            "260 Stockton St (at Post St)",
            "San Francisco, CA 94108",
            "United States"
           ],
           "labeledLatLngs": [
            {
             "label": "display",
             "lat": 37.788242,
             "lng": -122.406498
            }
           ],
           "lat": 37.788242,
           "lng": -122.406498,
           "postalCode": "94108",
           "state": "CA"
          },
          "name": "Dr. Jarrod C Cornehl, DDS",
          "referralId": "v-1615511995"
         },
         {
          "categories": [
           {
            "icon": {
             "prefix": "https://ss3.4sqi.net/img/categories_v2/building/medical_opticalshop_",
             "suffix": ".png"
            },
            "id": "4d954afda243a5684865b473",
            "name": "Optical Shop",
            "pluralName": "Optical Shops",
            "primary": true,
            "shortName": "Optical"
           }
          ],
          "hasPerk": false,
          "id": "4bfd3f45bf6576b0f6f1acb8",
          "location": {
           "address": "360 Post St",
           "cc": "US",
           "city": "San Francisco",
           "country": "United States",
           "distance": 220,
           "formattedAddress": [
            "360 Post St",
            "San Francisco, CA 94102",
            "United States"
           ],
           "labeledLatLngs": [
            {
             "label": "display",
             "lat": 37.78849205041646,
             "lng": -122.40988585565545
            },
            {
             "label": "entrance",
             "lat": 37.788211,
             "lng": -122.409839
            }
           ],
           "lat": 37.78849205041646,
           "lng": -122.40988585565545,
           "postalCode": "94102",
           "state": "CA"
          },
          "name": "EyeCare Associates",
          "referralId": "v-1615511995"
         },
         {
          "categories": [
           {
            "icon": {
             "prefix": "https://ss3.4sqi.net/img/categories_v2/shops/apparel_shoestore_",
             "suffix": ".png"
            },
            "id": "4bf58dd8d48988d107951735",
            "name": "Shoe Store",
            "pluralName": "Shoe Stores",
            "primary": true,
            "shortName": "Shoes"
           }
          ],
          "hasPerk": false,
          "id": "4b11cd19f964a520e98423e3",
          "location": {
           "address": "865 Market St #306",
           "cc": "US",
           "city": "San Francisco",
           "country": "United States",
           "crossStreet": "at Post St",
           "distance": 28,
           "formattedAddress": [
            "865 Market St #306 (at Post St)",
            "San Francisco, CA 94103",
            "United States"
           ],
           "labeledLatLngs": [
            {
             "label": "display",
             "lat": 37.788121,
             "lng": -122.407108
            }
           ],
           "lat": 37.788121,
           "lng": -122.407108,
           "postalCode": "94103",
           "state": "CA"
          },
          "name": "Nine West",
          "referralId": "v-1615511995"
         },
         {
          "categories": [
           {
            "icon": {
             "prefix": "https://ss3.4sqi.net/img/categories_v2/shops/sports_outdoors_",
             "suffix": ".png"
            },
            "id": "4f4528bc4b90abdf24c9de85",
            "name": "Athletics & Sports",
            "pluralName": "Athletics & Sports",
            "primary": true,
            "shortName": "Athletics & Sports"
           }
          ],
          "hasPerk": false,
          "id": "4de6fd8818381a514bed1bb4",
          "location": {
           "address": "278 Post St",
           "cc": "US",
           "city": "San Francisco",
           "country": "United States",
           "crossStreet": "Stockton",
           "distance": 48,
           "formattedAddress": [
            "278 Post St (Stockton)",
            "San Francisco, CA 94108",
            "United States"
           ],
           "labeledLatLngs": [
            {
             "label": "display",
             "lat": 37.788554205089085,
             "lng": -122.40701715620762
            }
           ],
           "lat": 37.788554205089085,
           "lng": -122.40701715620762,
           "postalCode": "94108",
           "state": "CA"
          },
          "name": "Niketown SF Run Club",
          "referralId": "v-1615511995"
         },
         {
          "categories": [
           {
            "icon": {
             "prefix": "https://ss3.4sqi.net/img/categories_v2/building/default_",
             "suffix": ".png"
            },
            "id": "4bf58dd8d48988d124941735",
            "name": "Office",
            "pluralName": "Offices",
            "primary": true,
            "shortName": "Office"
           }
          ],
          "hasPerk": false,
          "id": "4c91540f57e5b60cc2c15f1c",
          "location": {
           "address": "360 Post St",
           "cc": "US",
           "city": "San Francisco",
           "country": "United States",
           "crossStreet": "Powell St",
           "distance": 32,
           "formattedAddress": [
            "360 Post St (Powell St)",
            "San Francisco, CA 94108",
            "United States"
           ],
           "labeledLatLngs": [
            {
             "label": "display",
             "lat": 37.787962020499,
             "lng": -122.40750697020798
            }
           ],
           "lat": 37.787962020499,
           "lng": -122.40750697020798,
           "postalCode": "94108",
           "state": "CA"
          },
          "name": "Technorati Media Office",
          "referralId": "v-1615511995"
         },
         {
          "categories": [
           {
            "icon": {
             "prefix": "https://ss3.4sqi.net/img/categories_v2/building/school_",
             "suffix": ".png"
            },
            "id": "56aa371ce4b08b9a8d573570",
            "name": "Adult Education Center",
            "pluralName": "Adult Education Centers",
            "primary": true,
            "shortName": "Adult Education Center"
           }
          ],
          "hasPerk": false,
          "id": "5a5aead523a2e63d533e4aa3",
          "location": {
           "address": "360 Post St",
           "cc": "US",
           "city": "San Francisco",
           "country": "United States",
           "distance": 54,
           "formattedAddress": [
            "360 Post St",
            "San Francisco, CA 94108",
            "United States"
           ],
           "labeledLatLngs": [
            {
             "label": "display",
             "lat": 37.788665,
             "lng": -122.40769499999999
            },
            {
             "label": "entrance",
             "lat": 37.788489,
             "lng": -122.407688
            }
           ],
           "lat": 37.788665,
           "lng": -122.40769499999999,
           "postalCode": "94108",
           "state": "CA"
          },
          "name": "San Francisco School Of Needlework And Design",
          "referralId": "v-1615511995"
         },
         {
          "categories": [
           {
            "icon": {
             "prefix": "https://ss3.4sqi.net/img/categories_v2/parks_outdoors/sculpture_",
             "suffix": ".png"
            },
            "id": "52e81612bcbc57f1066b79ed",
            "name": "Outdoor Sculpture",
            "pluralName": "Outdoor Sculptures",
            "primary": true,
            "shortName": "Outdoor Sculpture"
           }
          ],
          "hasPerk": false,
          "id": "5f3ec14e2e6d3b5553a82cc9",
          "location": {
           "cc": "US",
           "city": "San Francisco",
           "country": "United States",
           "distance": 62,
           "formattedAddress": [
            "San Francisco, CA 94102",
            "United States"
           ],
           "labeledLatLngs": [
            {
             "label": "display",
             "lat": 37.78821,
             "lng": -122.40811
            }
           ],
           "lat": 37.78821,
           "lng": -122.40811,
           "postalCode": "94102",
           "state": "CA"
          },
          "name": "Hearts- America's Greatest City By The Bay. Tony Bennett",
          "referralId": "v-1615511995"
         },
         {
          "categories": [
           {
            "icon": {
             "prefix": "https://ss3.4sqi.net/img/categories_v2/shops/apparel_boutique_",
             "suffix": ".png"
            },
            "id": "4bf58dd8d48988d104951735",
            "name": "Boutique",
            "pluralName": "Boutiques",
            "primary": true,
            "shortName": "Boutique"
           }
          ],
          "hasPerk": false,
          "id": "520db96b11d2639dc446428c",
          "location": {
           "address": "291 Geary St Ste 201",
           "cc": "US",
           "city": "San Francisco",
           "country": "United States",
           "crossStreet": "at Powell St",
           "distance": 92,
           "formattedAddress": [
            "291 Geary St Ste 201 (at Powell St)",
            "San Francisco, CA 94102",
            "United States"
           ],
           "labeledLatLngs": [
            {
             "label": "display",
             "lat": 37.78757294286968,
             "lng": -122.40803577397571
            },
            {
             "label": "entrance",
             "lat": 37.787313,
             "lng": -122.407968
            }
           ],
           "lat": 37.78757294286968,
           "lng": -122.40803577397571,
           "postalCode": "94102",
           "state": "CA"
          },
          "name": "Cuyana",
          "referralId": "v-1615511995",
          "venuePage": {
           "id": "104841713"
          }
         },
         {
          "categories": [
           {
            "icon": {
             "prefix": "https://ss3.4sqi.net/img/categories_v2/building/medical_dentist_",
             "suffix": ".png"
            },
            "id": "4bf58dd8d48988d178941735",
            "name": "Dentist's Office",
            "pluralName": "Dentist's Offices",
            "primary": true,
            "shortName": "Dentist's Office"
           }
          ],
          "hasPerk": false,
          "id": "5419e74e498ee2261663f3dd",
          "location": {
           "address": "450 Sutter St Rm 2640",
           "cc": "US",
           "city": "San Francisco",
           "country": "United States",
           "distance": 166,
           "formattedAddress": [
            "450 Sutter St Rm 2640",
            "San Francisco, CA 94108",
            "United States"
           ],
           "labeledLatLngs": [
            {
             "label": "display",
             "lat": 37.7896952,
             "lng": -122.4078356
            }
           ],
           "lat": 37.7896952,
           "lng": -122.4078356,
           "postalCode": "94108",
           "state": "CA"
          },
          "name": "Urban Pacific Dental Associates",
          "referralId": "v-1615511995"
         },
         {
          "categories": [
           {
            "icon": {
             "prefix": "https://ss3.4sqi.net/img/categories_v2/travel/default_",
             "suffix": ".png"
            },
            "id": "4bf58dd8d48988d1f6931735",
            "name": "General Travel",
            "pluralName": "General Travel",
            "primary": true,
            "shortName": "Travel"
           }
          ],
          "hasPerk": false,
          "id": "50259b0ee4b092aac57687ec",
          "location": {
           "cc": "US",
           "city": "San Francisco",
           "country": "United States",
           "distance": 14,
           "formattedAddress": [
            "San Francisco, CA 94108",
            "United States"
           ],
           "labeledLatLngs": [
            {
             "label": "display",
             "lat": 37.788302,
             "lng": -122.407539
            }
           ],
           "lat": 37.788302,
           "lng": -122.407539,
           "postalCode": "94108",
           "state": "CA"
          },
          "name": "Borneo Travel",
          "referralId": "v-1615511995"
         },
         {
          "categories": [
           {
            "icon": {
             "prefix": "https://ss3.4sqi.net/img/categories_v2/parks_outdoors/sculpture_",
             "suffix": ".png"
            },
            "id": "52e81612bcbc57f1066b79ed",
            "name": "Outdoor Sculpture",
            "pluralName": "Outdoor Sculptures",
            "primary": true,
            "shortName": "Outdoor Sculpture"
           }
          ],
          "hasPerk": false,
          "id": "4ec6e26d6da1d1092de0db67",
          "location": {
           "address": "Union Square",
           "cc": "US",
           "city": "San Francisco",
           "country": "United States",
           "distance": 57,
           "formattedAddress": [
            "Union Square",
            "San Francisco, CA 94108",
            "United States"
           ],
           "labeledLatLngs": [
            {
             "label": "display",
             "lat": 37.787721033761876,
             "lng": -122.40747392177582
            }
           ],
           "lat": 37.787721033761876,
           "lng": -122.40747392177582,
           "postalCode": "94108",
           "state": "CA"
          },
          "name": "Union Square Colomnade",
          "referralId": "v-1615511995"
         },
         {
          "categories": [
           {
            "icon": {
             "prefix": "https://ss3.4sqi.net/img/categories_v2/building/default_",
             "suffix": ".png"
            },
            "id": "4bf58dd8d48988d124941735",
            "name": "Office",
            "pluralName": "Offices",
            "primary": true,
            "shortName": "Office"
           }
          ],
          "hasPerk": false,
          "id": "4e29abe4152078c77b080523",
          "location": {
           "address": "360 Post St Ste 701",
           "cc": "US",
           "city": "San Francisco",
           "country": "United States",
           "distance": 54,
           "formattedAddress": [
            "360 Post St Ste 701",
            "San Francisco, CA 94108",
            "United States"
           ],
           "labeledLatLngs": [
            {
             "label": "display",
             "lat": 37.788665,
             "lng": -122.40769499999999
            },
            {
             "label": "entrance",
             "lat": 37.788489,
             "lng": -122.407688
            }
           ],
           "lat": 37.788665,
           "lng": -122.40769499999999,
           "postalCode": "94108",
           "state": "CA"
          },
          "name": "Gauger + Associates",
          "referralId": "v-1615511995"
         },
         {
          "categories": [
           {
            "icon": {
             "prefix": "https://ss3.4sqi.net/img/categories_v2/shops/default_",
             "suffix": ".png"
            },
            "id": "52f2ab2ebcbc57f1066b8b3d",
            "name": "Pop-Up Shop",
            "pluralName": "Pop-Up Shops",
            "primary": true,
            "shortName": "Pop-Up Shop"
           }
          ],
          "hasPerk": false,
          "id": "5349cb35498ee81aa4f59290",
          "location": {
           "address": "Union Square",
           "cc": "US",
           "city": "San Francisco",
           "country": "United States",
           "distance": 56,
           "formattedAddress": [
            "Union Square",
            "San Francisco, CA",
            "United States"
           ],
           "labeledLatLngs": [
            {
             "label": "display",
             "lat": 37.787933,
             "lng": -122.407916
            }
           ],
           "lat": 37.787933,
           "lng": -122.407916,
           "state": "CA"
          },
          "name": "Nespresso Pop-Up",
          "referralId": "v-1615511995"
         },
         {
          "categories": [
           {
            "icon": {
             "prefix": "https://ss3.4sqi.net/img/categories_v2/building/default_",
             "suffix": ".png"
            },
            "id": "4bf58dd8d48988d124941735",
            "name": "Office",
            "pluralName": "Offices",
            "primary": true,
            "shortName": "Office"
           }
          ],
          "hasPerk": false,
          "id": "4c535bcc30f92d7fbbc2a2b8",
          "location": {
           "address": "360 Post St",
           "cc": "US",
           "city": "San Francisco",
           "country": "United States",
           "distance": 54,
           "formattedAddress": [
            "360 Post St",
            "San Francisco, CA 94108",
            "United States"
           ],
           "labeledLatLngs": [
            {
             "label": "display",
             "lat": 37.788665,
             "lng": -122.40769499999999
            },
            {
             "label": "entrance",
             "lat": 37.788489,
             "lng": -122.407688
            }
           ],
           "lat": 37.788665,
           "lng": -122.40769499999999,
           "postalCode": "94108",
           "state": "CA"
          },
          "name": "Minami Tamaki LLP",
          "referralId": "v-1615511995"
         },
         {
          "categories": [
           {
            "icon": {
             "prefix": "https://ss3.4sqi.net/img/categories_v2/shops/technology_",
             "suffix": ".png"
            },
            "id": "4bf58dd8d48988d125941735",
            "name": "Tech Startup",
            "pluralName": "Tech Startups",
            "primary": true,
            "shortName": "Tech Startup"
           }
          ],
          "hasPerk": false,
          "id": "5dcb4d71011ded00082aba8c",
          "location": {
           "address": "240 Stockton St",
           "cc": "US",
           "city": "San Francisco",
           "country": "United States",
           "distance": 72,
           "formattedAddress": [
            "240 Stockton St",
            "San Francisco, CA 94108",
            "United States"
           ],
           "labeledLatLngs": [
            {
             "label": "display",
             "lat": 37.788193,
             "lng": -122.406576
            }
           ],
           "lat": 37.788193,
           "lng": -122.406576,
           "postalCode": "94108",
           "state": "CA"
          },
          "name": "PeopleGrove",
          "referralId": "v-1615511995"
         },
         {
          "categories": [
           {
            "icon": {
             "prefix": "https://ss3.4sqi.net/img/categories_v2/building/medical_dentist_",
             "suffix": ".png"
            },
            "id": "4bf58dd8d48988d178941735",
            "name": "Dentist's Office",
            "pluralName": "Dentist's Offices",
            "primary": true,
            "shortName": "Dentist's Office"
           }
          ],
          "hasPerk": false,
          "id": "4b8584b5f964a520026331e3",
          "location": {
           "address": "360 Post St #1010",
           "cc": "US",
           "city": "San Francisco",
           "country": "United States",
           "distance": 24,
           "formattedAddress": [
            "360 Post St #1010",
            "San Francisco, CA 94108",
            "United States"
           ],
           "labeledLatLngs": [
            {
             "label": "display",
             "lat": 37.788365,
             "lng": -122.407635
            },
            {
             "label": "entrance",
             "lat": 37.788489,
             "lng": -122.407688
            }
           ],
           "lat": 37.788365,
           "lng": -122.407635,
           "postalCode": "94108",
           "state": "CA"
          },
          "name": "Thomas Bridges DDS",
          "referralId": "v-1615511995"
         },
         {
          "categories": [],
          "hasPerk": false,
          "id": "4be9c4506295c9b690a08508",
          "location": {
           "address": "360 Post St",
           "cc": "US",
           "city": "San Francisco",
           "country": "United States",
           "distance": 48,
           "formattedAddress": [
            "360 Post St",
            "San Francisco, CA 94108",
            "United States"
           ],
           "labeledLatLngs": [
            {
             "label": "display",
             "lat": 37.78806,
             "lng": -122.407908
            },
            {
             "label": "entrance",
             "lat": 37.788489,
             "lng": -122.407688
            }
           ],
           "lat": 37.78806,
           "lng": -122.407908,
           "postalCode": "94108",
           "state": "CA"
          },
          "name": "360 Post",
          "referralId": "v-1615511995"
         },
         {
          "categories": [
           {
            "icon": {
             "prefix": "https://ss3.4sqi.net/img/categories_v2/shops/apparel_boutique_",
             "suffix": ".png"
            },
            "id": "4bf58dd8d48988d104951735",
            "name": "Boutique",
            "pluralName": "Boutiques",
            "primary": true,
            "shortName": "Boutique"
           }
          ],
          "hasPerk": false,
          "id": "528d4fe211d2543b7663f4fd",
          "location": {
           "address": "108 Geary St",
           "cc": "US",
           "city": "San Francisco",
           "country": "United States",
           "distance": 170,
           "formattedAddress": [
            "108 Geary St",
            "San Francisco, CA 94108",
            "United States"
           ],
           "labeledLatLngs": [
            {
             "label": "display",
             "lat": 37.78800081381552,
             "lng": -122.40549132577765
            }
           ],
           "lat": 37.78800081381552,
           "lng": -122.40549132577765,
           "postalCode": "94108",
           "state": "CA"
          },
          "name": "Saint Laurent",
          "referralId": "v-1615511995"
         },
         {
          "categories": [
           {
            "icon": {
             "prefix": "https://ss3.4sqi.net/img/categories_v2/food/cafe_",
             "suffix": ".png"
            },
            "id": "4bf58dd8d48988d16d941735",
            "name": "Café",
            "pluralName": "Cafés",
            "primary": true,
            "shortName": "Café"
           }
          ],
          "hasPerk": false,
          "id": "4ec6f38c4690116a8b800502",
          "location": {
           "cc": "US",
           "city": "San Francisco",
           "country": "United States",
           "distance": 26,
           "formattedAddress": [
            "San Francisco, CA 94108",
            "United States"
           ],
           "labeledLatLngs": [
            {
             "label": "display",
             "lat": 37.78801872290463,
             "lng": -122.40727422748417
            }
           ],
           "lat": 37.78801872290463,
           "lng": -122.40727422748417,
           "postalCode": "94108",
           "state": "CA"
          },
          "name": "Rulli Coffee Cart",
          "referralId": "v-1615511995"
         },
         {
          "categories": [
           {
            "icon": {
             "prefix": "https://ss3.4sqi.net/img/categories_v2/building/medical_doctorsoffice_",
             "suffix": ".png"
            },
            "id": "4bf58dd8d48988d177941735",
            "name": "Doctor's Office",
            "pluralName": "Doctor's Offices",
            "primary": true,
            "shortName": "Doctor's Office"
           }
          ],
          "hasPerk": false,
          "id": "58dc25c16f20d155d330ac1d",
          "location": {
           "address": "390 Post St",
           "cc": "US",
           "city": "San Francisco",
           "country": "United States",
           "distance": 64,
           "formattedAddress": [
            "390 Post St",
            "San Francisco, CA 94108",
            "United States"
           ],
           "labeledLatLngs": [
            {
             "label": "display",
             "lat": 37.788453,
             "lng": -122.408085
            }
           ],
           "lat": 37.788453,
           "lng": -122.408085,
           "postalCode": "94108",
           "state": "CA"
          },
          "name": "TMS Health Solutions",
          "referralId": "v-1615511995"
         },
         {
          "categories": [
           {
            "icon": {
             "prefix": "https://ss3.4sqi.net/img/categories_v2/shops/salon_barber_",
             "suffix": ".png"
            },
            "id": "4bf58dd8d48988d110951735",
            "name": "Salon / Barbershop",
            "pluralName": "Salons / Barbershops",
            "primary": true,
            "shortName": "Salon / Barbershop"
           }
          ],
          "hasPerk": false,
          "id": "5837d03a04f4d70f94a1d2de",
          "location": {
           "address": "166 Geary St Ste 1606",
           "cc": "US",
           "city": "San Francisco",
           "country": "United States",
           "distance": 94,
           "formattedAddress": [
            "166 Geary St Ste 1606",
            "San Francisco, CA 94108",
            "United States"
           ],
           "labeledLatLngs": [
            {
             "label": "display",
             "lat": 37.78789145855517,
             "lng": -122.40641713142395
            }
           ],
           "lat": 37.78789145855517,
           "lng": -122.40641713142395,
           "postalCode": "94108",
           "state": "CA"
          },
          "name": "Gib Bolton Penthouse 1606",
          "referralId": "v-1615511995"
         },
         {
          "categories": [
           {
            "icon": {
             "prefix": "https://ss3.4sqi.net/img/categories_v2/arts_entertainment/historicsite_",
             "suffix": ".png"
            },
            "id": "4deefb944765f83613cdba6e",
            "name": "Historic Site",
            "pluralName": "Historic Sites",
            "primary": true,
            "shortName": "Historic Site"
           }
          ],
          "hasPerk": false,
          "id": "4fc0664ce4b06229f9051526",
          "location": {
           "address": "Union Square",
           "cc": "US",
           "city": "San Francisco",
           "country": "United States",
           "crossStreet": "Stocktom & Post",
           "distance": 45,
           "formattedAddress": [
            "Union Square (Stocktom & Post)",
            "San Francisco, CA 94108",
            "United States"
           ],
           "labeledLatLngs": [
            {
             "label": "display",
             "lat": 37.78784110615844,
             "lng": -122.40729082116145
            }
           ],
           "lat": 37.78784110615844,
           "lng": -122.40729082116145,
           "postalCode": "94108",
           "state": "CA"
          },
          "name": "Heart Number 3",
          "referralId": "v-1615511995"
         }
        ]
       }
      },
      "text/plain": [
       "<IPython.core.display.JSON object>"
      ]
     },
     "execution_count": 89,
     "metadata": {
      "application/json": {
       "expanded": false,
       "root": "root"
      }
     },
     "output_type": "execute_result"
    }
   ],
   "source": [
    "url = 'https://api.foursquare.com/v2/venues/search?ll=45.6387,-122.6615&client_id='+ foursquare_app_id + '&client_secret=' + foursquare_client_secret + '&v=20200731'\n",
    "\n",
    "params = dict(\n",
    "ll='37.788238266945065, -122.40740159308447',\n",
    "query'art'\n",
    "radius='1000',\n",
    "limit=50,\n",
    "price='1,2,3',\n",
    "sortByPopularity=1\n",
    ")\n",
    "resp = re.get(url=url, params=params)\n",
    "data = json.loads(resp.text)\n",
    "JSON(data)\n"
   ]
  },
  {
   "cell_type": "code",
   "execution_count": 198,
   "metadata": {},
   "outputs": [],
   "source": [
    "url = 'https://api.foursquare.com/v2/venues/4e97163f02d5458d04b57326?&client_id='+ foursquare_app_id + '&client_secret=' + foursquare_client_secret + '&v=20200731'\n",
    "\n",
    "params = dict(\n",
    "query='food',\n",
    "radius='1000',\n",
    "limit=5,\n",
    "price='1,2,3',\n",
    "sortByPopularity=1\n",
    ")\n",
    "foursquare_resp = re.get(url=url, params=params)\n",
    "foursquare_data = json.loads(foursquare_resp.text)"
   ]
  },
  {
   "cell_type": "code",
   "execution_count": 199,
   "metadata": {},
   "outputs": [
    {
     "data": {
      "application/json": {
       "meta": {
        "code": 200,
        "requestId": "604afa9fa2c86b7b8adbe8d9"
       },
       "response": {
        "venue": {
         "allowMenuUrlEdit": true,
         "attributes": {
          "groups": [
           {
            "count": 1,
            "items": [
             {
              "displayName": "Price",
              "displayValue": "$",
              "priceTier": 1
             }
            ],
            "name": "Price",
            "summary": "$",
            "type": "price"
           },
           {
            "count": 3,
            "items": [
             {
              "displayName": "Reservations",
              "displayValue": "No"
             }
            ],
            "name": "Reservations",
            "type": "reservations"
           },
           {
            "count": 7,
            "items": [
             {
              "displayName": "Credit Cards",
              "displayValue": "Yes"
             }
            ],
            "name": "Credit Cards",
            "summary": "Credit Cards",
            "type": "payments"
           },
           {
            "count": 1,
            "items": [
             {
              "displayName": "Outdoor Seating",
              "displayValue": "Yes"
             }
            ],
            "name": "Outdoor Seating",
            "summary": "Outdoor Seating",
            "type": "outdoorSeating"
           },
           {
            "count": 1,
            "items": [
             {
              "displayName": "Wi-Fi",
              "displayValue": "Yes"
             }
            ],
            "name": "Wi-Fi",
            "summary": "Wi-Fi",
            "type": "wifi"
           },
           {
            "count": 8,
            "items": [
             {
              "displayName": "Breakfast",
              "displayValue": "Breakfast"
             },
             {
              "displayName": "Brunch",
              "displayValue": "Brunch"
             },
             {
              "displayName": "Lunch",
              "displayValue": "Lunch"
             },
             {
              "displayName": "Dinner",
              "displayValue": "Dinner"
             }
            ],
            "name": "Menus",
            "summary": "Dinner, Breakfast & more",
            "type": "serves"
           }
          ]
         },
         "beenHere": {
          "count": 0,
          "lastCheckinExpiredAt": 0,
          "marked": false,
          "unconfirmedCount": 0
         },
         "bestPhoto": {
          "createdAt": 1365703040,
          "height": 960,
          "id": "5166f980e4b09b7cc7f13af9",
          "prefix": "https://fastly.4sqi.net/img/general/",
          "source": {
           "name": "Foursquare for iOS",
           "url": "https://foursquare.com/download/#/iphone"
          },
          "suffix": "/26185667_byaO3xogzWpVTQqL3jbL1a9iUqAwh0oKUXe3DB-Qq8U.jpg",
          "visibility": "public",
          "width": 720
         },
         "canonicalUrl": "https://foursquare.com/v/another-cafe/4e97163f02d5458d04b57326",
         "categories": [
          {
           "icon": {
            "prefix": "https://ss3.4sqi.net/img/categories_v2/food/cafe_",
            "suffix": ".png"
           },
           "id": "4bf58dd8d48988d16d941735",
           "name": "Café",
           "pluralName": "Cafés",
           "primary": true,
           "shortName": "Café"
          },
          {
           "icon": {
            "prefix": "https://ss3.4sqi.net/img/categories_v2/food/deli_",
            "suffix": ".png"
           },
           "id": "4bf58dd8d48988d1c5941735",
           "name": "Sandwich Place",
           "pluralName": "Sandwich Places",
           "shortName": "Sandwiches"
          },
          {
           "icon": {
            "prefix": "https://ss3.4sqi.net/img/categories_v2/arts_entertainment/artgallery_",
            "suffix": ".png"
           },
           "id": "4bf58dd8d48988d1e2931735",
           "name": "Art Gallery",
           "pluralName": "Art Galleries",
           "shortName": "Art Gallery"
          }
         ],
         "colors": {
          "algoVersion": 3,
          "highlightColor": {
           "photoId": "5166f980e4b09b7cc7f13af9",
           "value": -10989504
          },
          "highlightTextColor": {
           "photoId": "5166f980e4b09b7cc7f13af9",
           "value": -1
          }
         },
         "contact": {
          "facebook": "683766388371044",
          "formattedPhone": "(415) 857-5770",
          "phone": "4158575770",
          "twitter": "anothercafe"
         },
         "createdAt": 1318524479,
         "defaultHours": {
          "dayData": [],
          "isLocalHoliday": false,
          "isOpen": true,
          "richStatus": {
           "entities": [],
           "text": "Open until 10:00 PM"
          },
          "status": "Open until 10:00 PM",
          "timeframes": [
           {
            "days": "Mon–Fri",
            "includesToday": true,
            "open": [
             {
              "renderedTime": "6:00 AM–10:00 PM"
             }
            ],
            "segments": []
           },
           {
            "days": "Sat–Sun",
            "open": [
             {
              "renderedTime": "7:00 AM–9:00 PM"
             }
            ],
            "segments": []
           }
          ]
         },
         "description": "Another Cafe is the newest local gourmet cafe in Nob Hill. We are passionate coffee lovers specializing in the artisan latte, cappucino, mocha and drip coffee. Our coffee is organic and free trade certified and is delivered freshly in sustainable fashion by bicycle!",
         "dislike": false,
         "hasMenu": true,
         "hereNow": {
          "count": 0,
          "groups": [],
          "summary": "Nobody here"
         },
         "hours": {
          "dayData": [],
          "isLocalHoliday": false,
          "isOpen": true,
          "richStatus": {
           "entities": [],
           "text": "Open until 10:00 PM"
          },
          "status": "Open until 10:00 PM",
          "timeframes": [
           {
            "days": "Mon–Fri",
            "includesToday": true,
            "open": [
             {
              "renderedTime": "6:00 AM–10:00 PM"
             }
            ],
            "segments": []
           },
           {
            "days": "Sat–Sun",
            "open": [
             {
              "renderedTime": "7:00 AM–9:00 PM"
             }
            ],
            "segments": []
           }
          ]
         },
         "id": "4e97163f02d5458d04b57326",
         "inbox": {
          "count": 0,
          "items": []
         },
         "likes": {
          "count": 227,
          "groups": [
           {
            "count": 227,
            "items": [],
            "type": "others"
           }
          ],
          "summary": "227 Likes"
         },
         "listed": {
          "count": 253,
          "groups": [
           {
            "count": 253,
            "items": [
             {
              "canonicalUrl": "https://foursquare.com/cofficenearme/list/best-coffices-in-san-francisco",
              "collaborative": false,
              "createdAt": 1363735343,
              "description": "Got some time between meetings? Get work done at one of these coffee shops offering free wifi, power outlets to recharge your laptop, and great coffee to recharge yourself! More at http://coffices.co",
              "editable": false,
              "entities": [
               {
                "indices": [
                 181,
                 199
                ],
                "object": {
                 "url": "http://coffices.co"
                },
                "type": "url"
               }
              ],
              "followers": {
               "count": 527
              },
              "id": "5148f32fe4b0aa2e16298548",
              "listItems": {
               "count": 54,
               "items": [
                {
                 "createdAt": 1365461069,
                 "id": "t514fb5f2e4b023ae1f60621f",
                 "photo": {
                  "createdAt": 1360093517,
                  "height": 612,
                  "id": "5111614de4b0e228ba37e83d",
                  "prefix": "https://fastly.4sqi.net/img/general/",
                  "suffix": "/6220024_gSl3DnS-CL9vtwiLwfxvfRS1EobdKl4OJQu9H7Ucz-M.jpg",
                  "visibility": "public",
                  "width": 612
                 }
                }
               ]
              },
              "logView": true,
              "name": "Best Coffices in San Francisco",
              "photo": {
               "createdAt": 1361213968,
               "height": 960,
               "id": "51227a10e4b07e643d9a2c6c",
               "prefix": "https://fastly.4sqi.net/img/general/",
               "suffix": "/16563_IKsxzxTdH65I5EUlSCXVo1S4kP-Kxev5kqBmhRiFbCc.jpg",
               "visibility": "public",
               "width": 720
              },
              "public": true,
              "type": "others",
              "updatedAt": 1558126516,
              "url": "/cofficenearme/list/best-coffices-in-san-francisco",
              "user": {
               "countryCode": "US",
               "firstName": "Find a Coffice",
               "type": "page"
              }
             },
             {
              "canonicalUrl": "https://foursquare.com/les733/list/best-places-to-study-in-sf",
              "collaborative": true,
              "createdAt": 1314336949,
              "description": "\"Best\" because there's usually wifi, friendly people, late hours, and electrical outlets, but most DEFINITELY this collection of places bookmarks the places with the BEST ambiance.",
              "editable": false,
              "followers": {
               "count": 172
              },
              "id": "4e5730b5b0fbc75800b4fbfd",
              "listItems": {
               "count": 63,
               "items": [
                {
                 "createdAt": 1334601425,
                 "id": "v4e97163f02d5458d04b57326"
                }
               ]
              },
              "name": "Best places to study in SF",
              "photo": {
               "createdAt": 1323821201,
               "height": 720,
               "id": "4ee7e891f790a9d737c53c17",
               "prefix": "https://fastly.4sqi.net/img/general/",
               "suffix": "/PZGKICHJKA3OLI0XMUFIH2JLNKB4LQUPNHXER0RZHJH1WEPA.jpg",
               "visibility": "public",
               "width": 431
              },
              "public": true,
              "type": "others",
              "updatedAt": 1558126549,
              "url": "/les733/list/best-places-to-study-in-sf",
              "user": {
               "countryCode": "US",
               "firstName": "Leslie",
               "lastName": "T"
              }
             },
             {
              "canonicalUrl": "https://foursquare.com/kylemeyer/list/sf-work-spots",
              "collaborative": false,
              "createdAt": 1348688970,
              "description": "My favorite places to get some work done in San Francisco or recommended to me for that purpose. Places I haven't been are marked.\n\nRequirements: Chill vibe + free reliable wifi + good coffee",
              "editable": false,
              "followers": {
               "count": 29
              },
              "id": "50635c4ae4b05ef2f2a0549b",
              "listItems": {
               "count": 26,
               "items": [
                {
                 "createdAt": 1348689451,
                 "id": "v4e97163f02d5458d04b57326"
                }
               ]
              },
              "name": "SF Work Spots",
              "photo": {
               "createdAt": 1382209802,
               "height": 640,
               "id": "5262d90a498e769d3096b640",
               "prefix": "https://fastly.4sqi.net/img/general/",
               "suffix": "/4260960_5XXke6ziek1CLKHOqTaBQc73CIV_TMLgz4jgnyrOyuA.jpg",
               "visibility": "public",
               "width": 640
              },
              "public": true,
              "type": "others",
              "updatedAt": 1521822338,
              "url": "/kylemeyer/list/sf-work-spots",
              "user": {
               "countryCode": "US",
               "firstName": "Kyle",
               "lastName": "M"
              }
             },
             {
              "canonicalUrl": "https://foursquare.com/liang/list/places-to-work-from",
              "collaborative": false,
              "createdAt": 1367251708,
              "description": "Wifi + outlets = mandatory. I update/remove places that have time limits or unreliable wifi.",
              "editable": false,
              "followers": {
               "count": 28
              },
              "id": "517e9afce4b0c5190c71baa4",
              "listItems": {
               "count": 121,
               "items": [
                {
                 "createdAt": 1399646462,
                 "id": "v4e97163f02d5458d04b57326"
                }
               ]
              },
              "name": "Places to work from",
              "photo": {
               "createdAt": 1338729810,
               "height": 720,
               "id": "4fcb6552e4b0a6bf4fd4c83a",
               "prefix": "https://fastly.4sqi.net/img/general/",
               "suffix": "/DfYIf1SqWwevR1pB6XzxjUYPraIHeQeSZM2bHY95D4c.jpg",
               "visibility": "public",
               "width": 540
              },
              "public": true,
              "type": "others",
              "updatedAt": 1571572966,
              "url": "/liang/list/places-to-work-from",
              "user": {
               "countryCode": "US",
               "firstName": "Liang",
               "lastName": "S"
              }
             }
            ],
            "name": "Lists from other people",
            "type": "others"
           }
          ]
         },
         "location": {
          "address": "1191 Pine St",
          "cc": "US",
          "city": "San Francisco",
          "country": "United States",
          "crossStreet": "at Leavenworth St.",
          "formattedAddress": [
           "1191 Pine St (at Leavenworth St.)",
           "San Francisco, CA 94109",
           "United States"
          ],
          "labeledLatLngs": [
           {
            "label": "display",
            "lat": 37.790169,
            "lng": -122.415404
           },
           {
            "label": "entrance",
            "lat": 37.790202,
            "lng": -122.415405
           }
          ],
          "lat": 37.790169,
          "lng": -122.415404,
          "postalCode": "94109",
          "state": "CA"
         },
         "menu": {
          "anchor": "View Menu",
          "label": "Menu",
          "mobileUrl": "https://foursquare.com/v/4e97163f02d5458d04b57326/device_menu",
          "type": "Menu",
          "url": "https://foursquare.com/v/another-cafe/4e97163f02d5458d04b57326/menu"
         },
         "name": "Another Cafe",
         "ok": false,
         "pageUpdates": {
          "count": 0,
          "items": []
         },
         "photos": {
          "count": 258,
          "groups": [
           {
            "count": 258,
            "items": [
             {
              "createdAt": 1365703040,
              "height": 960,
              "id": "5166f980e4b09b7cc7f13af9",
              "prefix": "https://fastly.4sqi.net/img/general/",
              "source": {
               "name": "Foursquare for iOS",
               "url": "https://foursquare.com/download/#/iphone"
              },
              "suffix": "/26185667_byaO3xogzWpVTQqL3jbL1a9iUqAwh0oKUXe3DB-Qq8U.jpg",
              "visibility": "public",
              "width": 720
             }
            ],
            "name": "Venue photos",
            "type": "venue"
           }
          ]
         },
         "popular": {
          "isLocalHoliday": false,
          "isOpen": false,
          "timeframes": [
           {
            "days": "Today",
            "includesToday": true,
            "open": [
             {
              "renderedTime": "8:00 AM–1:00 PM"
             },
             {
              "renderedTime": "7:00 PM–8:00 PM"
             }
            ],
            "segments": []
           },
           {
            "days": "Fri",
            "open": [
             {
              "renderedTime": "8:00 AM–4:00 PM"
             }
            ],
            "segments": []
           },
           {
            "days": "Sat–Sun",
            "open": [
             {
              "renderedTime": "8:00 AM–7:00 PM"
             }
            ],
            "segments": []
           },
           {
            "days": "Mon",
            "open": [
             {
              "renderedTime": "7:00 AM–3:00 PM"
             },
             {
              "renderedTime": "5:00 PM–8:00 PM"
             }
            ],
            "segments": []
           },
           {
            "days": "Tue",
            "open": [
             {
              "renderedTime": "8:00 AM–2:00 PM"
             },
             {
              "renderedTime": "7:00 PM–8:00 PM"
             }
            ],
            "segments": []
           },
           {
            "days": "Wed",
            "open": [
             {
              "renderedTime": "8:00 AM–2:00 PM"
             },
             {
              "renderedTime": "5:00 PM–7:00 PM"
             }
            ],
            "segments": []
           }
          ]
         },
         "price": {
          "currency": "$",
          "message": "Cheap",
          "tier": 1
         },
         "rating": 7.8,
         "ratingColor": "C5DE35",
         "ratingSignals": 367,
         "reasons": {
          "count": 1,
          "items": [
           {
            "reasonName": "rawLikesReason",
            "summary": "Lots of people like this place",
            "type": "general"
           }
          ]
         },
         "seasonalHours": [],
         "shortUrl": "http://4sq.com/pdkQ6r",
         "specials": {
          "count": 0,
          "items": []
         },
         "stats": {
          "tipCount": 92
         },
         "storeId": "",
         "timeZone": "America/Los_Angeles",
         "tips": {
          "count": 92,
          "groups": [
           {
            "count": 92,
            "items": [
             {
              "agreeCount": 14,
              "canonicalUrl": "https://foursquare.com/item/4eaf573cb8f7116f20ac0cfa",
              "createdAt": 1320113980,
              "disagreeCount": 0,
              "id": "4eaf573cb8f7116f20ac0cfa",
              "lang": "en",
              "likes": {
               "count": 14,
               "groups": [
                {
                 "count": 14,
                 "items": [],
                 "type": "others"
                }
               ],
               "summary": "14 likes"
              },
              "logView": true,
              "text": "The free Wi-Fi here uses WPA2 to protect your web surfing! Way more secure than just leaving it open/unencrypted! :D The WiFi password is: anotherpassword",
              "todo": {
               "count": 0
              },
              "type": "user",
              "user": {
               "countryCode": "US",
               "firstName": "X"
              }
             }
            ],
            "name": "All tips",
            "type": "others"
           }
          ]
         },
         "url": "http://anothercafesf.com",
         "verified": true
        }
       }
      },
      "text/plain": [
       "<IPython.core.display.JSON object>"
      ]
     },
     "execution_count": 199,
     "metadata": {
      "application/json": {
       "expanded": false,
       "root": "root"
      }
     },
     "output_type": "execute_result"
    }
   ],
   "source": [
    "JSON(foursquare_data)\n",
    "\n"
   ]
  },
  {
   "cell_type": "code",
   "execution_count": 84,
   "metadata": {},
   "outputs": [
    {
     "data": {
      "text/html": [
       "<div>\n",
       "<style scoped>\n",
       "    .dataframe tbody tr th:only-of-type {\n",
       "        vertical-align: middle;\n",
       "    }\n",
       "\n",
       "    .dataframe tbody tr th {\n",
       "        vertical-align: top;\n",
       "    }\n",
       "\n",
       "    .dataframe thead th {\n",
       "        text-align: right;\n",
       "    }\n",
       "</style>\n",
       "<table border=\"1\" class=\"dataframe\">\n",
       "  <thead>\n",
       "    <tr style=\"text-align: right;\">\n",
       "      <th></th>\n",
       "      <th>venue-id</th>\n",
       "      <th>name</th>\n",
       "      <th>review</th>\n",
       "      <th>type</th>\n",
       "    </tr>\n",
       "  </thead>\n",
       "  <tbody>\n",
       "    <tr>\n",
       "      <th>0</th>\n",
       "      <td>4ae332f8f964a520959121e3</td>\n",
       "      <td>Good Mong Kok Bakery</td>\n",
       "      <td>This spot is popular</td>\n",
       "      <td>Dim Sum</td>\n",
       "    </tr>\n",
       "    <tr>\n",
       "      <th>1</th>\n",
       "      <td>5aecd497628c83002c67de8e</td>\n",
       "      <td>BAKE Cheese Tart</td>\n",
       "      <td>This spot is popular</td>\n",
       "      <td>Bakery</td>\n",
       "    </tr>\n",
       "    <tr>\n",
       "      <th>2</th>\n",
       "      <td>57e40ce5498e264f523536d8</td>\n",
       "      <td>The Bird</td>\n",
       "      <td>This spot is popular</td>\n",
       "      <td>Fried Chicken</td>\n",
       "    </tr>\n",
       "    <tr>\n",
       "      <th>3</th>\n",
       "      <td>49c2be75f964a52026561fe3</td>\n",
       "      <td>Boudin Bakery Café</td>\n",
       "      <td>This spot is popular</td>\n",
       "      <td>Bakery</td>\n",
       "    </tr>\n",
       "    <tr>\n",
       "      <th>4</th>\n",
       "      <td>5b452be1772fbc002c0a3ecb</td>\n",
       "      <td>Oren's Hummus</td>\n",
       "      <td>This spot is popular</td>\n",
       "      <td>Mediterranean</td>\n",
       "    </tr>\n",
       "    <tr>\n",
       "      <th>...</th>\n",
       "      <td>...</td>\n",
       "      <td>...</td>\n",
       "      <td>...</td>\n",
       "      <td>...</td>\n",
       "    </tr>\n",
       "    <tr>\n",
       "      <th>95</th>\n",
       "      <td>433c8000f964a52043281fe3</td>\n",
       "      <td>Ryoko's Japanese Restaurant &amp; Bar</td>\n",
       "      <td>This spot is popular</td>\n",
       "      <td>Sushi</td>\n",
       "    </tr>\n",
       "    <tr>\n",
       "      <th>96</th>\n",
       "      <td>4b467d19f964a520742226e3</td>\n",
       "      <td>Taqueria Castillo B</td>\n",
       "      <td>This spot is popular</td>\n",
       "      <td>Mexican</td>\n",
       "    </tr>\n",
       "    <tr>\n",
       "      <th>97</th>\n",
       "      <td>4b008eadf964a520733f22e3</td>\n",
       "      <td>farm : table</td>\n",
       "      <td>This spot is popular</td>\n",
       "      <td>Breakfast</td>\n",
       "    </tr>\n",
       "    <tr>\n",
       "      <th>98</th>\n",
       "      <td>49e8affef964a52069651fe3</td>\n",
       "      <td>Angel Cafe &amp; Deli</td>\n",
       "      <td>This spot is popular</td>\n",
       "      <td>Café</td>\n",
       "    </tr>\n",
       "    <tr>\n",
       "      <th>99</th>\n",
       "      <td>43a016cbf964a5201b2c1fe3</td>\n",
       "      <td>Lao Table</td>\n",
       "      <td>This spot is popular</td>\n",
       "      <td>Thai</td>\n",
       "    </tr>\n",
       "  </tbody>\n",
       "</table>\n",
       "<p>100 rows × 4 columns</p>\n",
       "</div>"
      ],
      "text/plain": [
       "                    venue-id                               name  \\\n",
       "0   4ae332f8f964a520959121e3               Good Mong Kok Bakery   \n",
       "1   5aecd497628c83002c67de8e                   BAKE Cheese Tart   \n",
       "2   57e40ce5498e264f523536d8                           The Bird   \n",
       "3   49c2be75f964a52026561fe3                 Boudin Bakery Café   \n",
       "4   5b452be1772fbc002c0a3ecb                      Oren's Hummus   \n",
       "..                       ...                                ...   \n",
       "95  433c8000f964a52043281fe3  Ryoko's Japanese Restaurant & Bar   \n",
       "96  4b467d19f964a520742226e3                Taqueria Castillo B   \n",
       "97  4b008eadf964a520733f22e3                       farm : table   \n",
       "98  49e8affef964a52069651fe3                  Angel Cafe & Deli   \n",
       "99  43a016cbf964a5201b2c1fe3                          Lao Table   \n",
       "\n",
       "                  review           type  \n",
       "0   This spot is popular        Dim Sum  \n",
       "1   This spot is popular         Bakery  \n",
       "2   This spot is popular  Fried Chicken  \n",
       "3   This spot is popular         Bakery  \n",
       "4   This spot is popular  Mediterranean  \n",
       "..                   ...            ...  \n",
       "95  This spot is popular          Sushi  \n",
       "96  This spot is popular        Mexican  \n",
       "97  This spot is popular      Breakfast  \n",
       "98  This spot is popular           Café  \n",
       "99  This spot is popular           Thai  \n",
       "\n",
       "[100 rows x 4 columns]"
      ]
     },
     "execution_count": 84,
     "metadata": {},
     "output_type": "execute_result"
    }
   ],
   "source": [
    "restaurant_dict = {'venue-id': [],\n",
    "                   'name' : [],\n",
    "                  'review': [],\n",
    "                  'type' : []}\n",
    "\n",
    "for i in data['response']['groups'][0]['items']:\n",
    "    id_place = i['venue']['id']\n",
    "    if id_place != restaurant_dict['venue-id']:\n",
    "        restaurant_dict['venue-id'].append(id_place)\n",
    "\n",
    "    name = i['venue']['name']\n",
    "    if name != restaurant_dict['name']:\n",
    "        restaurant_dict['name'].append(name)\n",
    "    \n",
    "    review = i['reasons']['items'][0]['summary']\n",
    "    if review != restaurant_dict['review']:\n",
    "        restaurant_dict['review'].append(review)\n",
    "    \n",
    "    place_type = i['venue']['categories'][0]['shortName']\n",
    "    if place_type != restaurant_dict['type']:\n",
    "        restaurant_dict['type'].append(place_type)\n",
    "\n",
    "df_restaurants_foursquare = pd.DataFrame(restaurant_dict)\n",
    "df_restaurants_foursquare"
   ]
  },
  {
   "cell_type": "code",
   "execution_count": 190,
   "metadata": {},
   "outputs": [],
   "source": [
    "url = 'https://api.foursquare.com/v2/venues/explore??ll=45.6387,-122.6615&client_id='+ foursquare_app_id + '&client_secret=' + foursquare_client_secret + '&v=20200731'\n",
    "\n",
    "params = dict(\n",
    "ll = '37.788153478960155, -122.40776637233326',\n",
    "section='art',\n",
    "query='art',\n",
    "radius='1000',\n",
    "limit=100,\n",
    "price='1,2,3',\n",
    "sortByPopularity=1\n",
    ")\n",
    "art_resp = re.get(url=url, params=params)\n",
    "art_data = json.loads(art_resp.text)\n"
   ]
  },
  {
   "cell_type": "code",
   "execution_count": null,
   "metadata": {},
   "outputs": [],
   "source": []
  },
  {
   "cell_type": "code",
   "execution_count": 191,
   "metadata": {},
   "outputs": [
    {
     "data": {
      "application/json": {
       "meta": {
        "code": 200,
        "requestId": "604af5ae2300963170c81603"
       },
       "response": {
        "groups": [
         {
          "items": [
           {
            "reasons": {
             "count": 0,
             "items": [
              {
               "reasonName": "globalInteractionReason",
               "summary": "This spot is popular",
               "type": "general"
              }
             ]
            },
            "referralId": "e-0-40943a00f964a520e5f21ee3-0",
            "venue": {
             "categories": [
              {
               "icon": {
                "prefix": "https://ss3.4sqi.net/img/categories_v2/arts_entertainment/museum_art_",
                "suffix": ".png"
               },
               "id": "4bf58dd8d48988d18f941735",
               "name": "Art Museum",
               "pluralName": "Art Museums",
               "primary": true,
               "shortName": "Art Museum"
              }
             ],
             "id": "40943a00f964a520e5f21ee3",
             "location": {
              "address": "151 3rd St",
              "cc": "US",
              "city": "San Francisco",
              "country": "United States",
              "crossStreet": "btwn Mission & Howard St",
              "distance": 654,
              "formattedAddress": [
               "151 3rd St (btwn Mission & Howard St)",
               "San Francisco, CA 94103",
               "United States"
              ],
              "lat": 37.78589423994824,
              "lng": -122.40089653026742,
              "postalCode": "94103",
              "state": "CA"
             },
             "name": "San Francisco Museum of Modern Art",
             "photos": {
              "count": 0,
              "groups": []
             }
            }
           },
           {
            "reasons": {
             "count": 0,
             "items": [
              {
               "reasonName": "globalInteractionReason",
               "summary": "This spot is popular",
               "type": "general"
              }
             ]
            },
            "referralId": "e-0-4b0af2a4f964a520862a23e3-1",
            "venue": {
             "categories": [
              {
               "icon": {
                "prefix": "https://ss3.4sqi.net/img/categories_v2/food/fastfood_",
                "suffix": ".png"
               },
               "id": "4bf58dd8d48988d16e941735",
               "name": "Fast Food Restaurant",
               "pluralName": "Fast Food Restaurants",
               "primary": true,
               "shortName": "Fast Food"
              }
             ],
             "delivery": {
              "id": "2453574",
              "provider": {
               "icon": {
                "name": "/delivery_provider_grubhub_20180129.png",
                "prefix": "https://fastly.4sqi.net/img/general/cap/",
                "sizes": [
                 40,
                 50
                ]
               },
               "name": "grubhub"
              },
              "url": "https://www.grubhub.com/restaurant/mcdonalds-609-market-st-san-francisco/2453574?affiliate=1131&utm_source=foursquare-affiliate-network&utm_medium=affiliate&utm_campaign=1131&utm_content=2453574"
             },
             "id": "4b0af2a4f964a520862a23e3",
             "location": {
              "address": "609 Market St",
              "cc": "US",
              "city": "San Francisco",
              "country": "United States",
              "crossStreet": "btwn 2nd & New Montgomery",
              "distance": 569,
              "formattedAddress": [
               "609 Market St (btwn 2nd & New Montgomery)",
               "San Francisco, CA 94105",
               "United States"
              ],
              "labeledLatLngs": [
               {
                "label": "display",
                "lat": 37.78890971198088,
                "lng": -122.40136307359984
               }
              ],
              "lat": 37.78890971198088,
              "lng": -122.40136307359984,
              "postalCode": "94105",
              "state": "CA"
             },
             "name": "McDonald's",
             "photos": {
              "count": 0,
              "groups": []
             }
            }
           },
           {
            "reasons": {
             "count": 0,
             "items": [
              {
               "reasonName": "globalInteractionReason",
               "summary": "This spot is popular",
               "type": "general"
              }
             ]
            },
            "referralId": "e-0-49ca8f4df964a520b9581fe3-2",
            "venue": {
             "categories": [
              {
               "icon": {
                "prefix": "https://ss3.4sqi.net/img/categories_v2/food/coffeeshop_",
                "suffix": ".png"
               },
               "id": "4bf58dd8d48988d1e0931735",
               "name": "Coffee Shop",
               "pluralName": "Coffee Shops",
               "primary": true,
               "shortName": "Coffee Shop"
              }
             ],
             "id": "49ca8f4df964a520b9581fe3",
             "location": {
              "address": "66 Mint Plaza",
              "cc": "US",
              "city": "San Francisco",
              "country": "United States",
              "crossStreet": "at Jessie St",
              "distance": 619,
              "formattedAddress": [
               "66 Mint Plaza (at Jessie St)",
               "San Francisco, CA 94103",
               "United States"
              ],
              "labeledLatLngs": [
               {
                "label": "display",
                "lat": 37.782584031229135,
                "lng": -122.40774270152674
               }
              ],
              "lat": 37.782584031229135,
              "lng": -122.40774270152674,
              "postalCode": "94103",
              "state": "CA"
             },
             "name": "Blue Bottle Coffee",
             "photos": {
              "count": 0,
              "groups": []
             },
             "venuePage": {
              "id": "67189389"
             }
            }
           },
           {
            "reasons": {
             "count": 0,
             "items": [
              {
               "reasonName": "globalInteractionReason",
               "summary": "This spot is popular",
               "type": "general"
              }
             ]
            },
            "referralId": "e-0-4328b980f964a520c4271fe3-3",
            "venue": {
             "categories": [
              {
               "icon": {
                "prefix": "https://ss3.4sqi.net/img/categories_v2/nightlife/pub_",
                "suffix": ".png"
               },
               "id": "4bf58dd8d48988d116941735",
               "name": "Bar",
               "pluralName": "Bars",
               "primary": true,
               "shortName": "Bar"
              }
             ],
             "id": "4328b980f964a520c4271fe3",
             "location": {
              "address": "800 Post St",
              "cc": "US",
              "city": "San Francisco",
              "country": "United States",
              "crossStreet": "at Leavenworth St",
              "distance": 659,
              "formattedAddress": [
               "800 Post St (at Leavenworth St)",
               "San Francisco, CA 94109",
               "United States"
              ],
              "labeledLatLngs": [
               {
                "label": "display",
                "lat": 37.787487,
                "lng": -122.415215
               },
               {
                "label": "entrance",
                "lat": 37.787526,
                "lng": -122.415203
               }
              ],
              "lat": 37.787487,
              "lng": -122.415215,
              "neighborhood": "Lower Nob Hill",
              "postalCode": "94109",
              "state": "CA"
             },
             "name": "The Royale",
             "photos": {
              "count": 0,
              "groups": []
             },
             "venuePage": {
              "id": "575625294"
             }
            }
           },
           {
            "reasons": {
             "count": 0,
             "items": [
              {
               "reasonName": "globalInteractionReason",
               "summary": "This spot is popular",
               "type": "general"
              }
             ]
            },
            "referralId": "e-0-50b57f55e4b09c0e1e84166a-4",
            "venue": {
             "categories": [
              {
               "icon": {
                "prefix": "https://ss3.4sqi.net/img/categories_v2/food/dimsum_",
                "suffix": ".png"
               },
               "id": "4bf58dd8d48988d1f5931735",
               "name": "Dim Sum Restaurant",
               "pluralName": "Dim Sum Restaurants",
               "primary": true,
               "shortName": "Dim Sum"
              }
             ],
             "id": "50b57f55e4b09c0e1e84166a",
             "location": {
              "address": "1 Kearny St",
              "cc": "US",
              "city": "San Francisco",
              "country": "United States",
              "crossStreet": "at Market St",
              "distance": 366,
              "formattedAddress": [
               "1 Kearny St (at Market St)",
               "San Francisco, CA 94108",
               "United States"
              ],
              "labeledLatLngs": [
               {
                "label": "display",
                "lat": 37.78779733353269,
                "lng": -122.40362268905139
               },
               {
                "label": "entrance",
                "lat": 37.787824,
                "lng": -122.403598
               }
              ],
              "lat": 37.78779733353269,
              "lng": -122.40362268905139,
              "neighborhood": "Downtown San Francisco-Union Square",
              "postalCode": "94108",
              "state": "CA"
             },
             "name": "Hakkasan",
             "photos": {
              "count": 0,
              "groups": []
             },
             "venuePage": {
              "id": "81975651"
             }
            }
           },
           {
            "reasons": {
             "count": 0,
             "items": [
              {
               "reasonName": "globalInteractionReason",
               "summary": "This spot is popular",
               "type": "general"
              }
             ]
            },
            "referralId": "e-0-4ce74d7d0f196dcb1cb13dae-5",
            "venue": {
             "categories": [
              {
               "icon": {
                "prefix": "https://ss3.4sqi.net/img/categories_v2/shops/apparel_men_",
                "suffix": ".png"
               },
               "id": "4bf58dd8d48988d106951735",
               "name": "Men's Store",
               "pluralName": "Men's Stores",
               "primary": true,
               "shortName": "Men's Store"
              }
             ],
             "delivery": {
              "id": "2041467",
              "provider": {
               "icon": {
                "name": "/delivery_provider_grubhub_20180129.png",
                "prefix": "https://fastly.4sqi.net/img/general/cap/",
                "sizes": [
                 40,
                 50
                ]
               },
               "name": "grubhub"
              },
              "url": "https://www.grubhub.com/restaurant/wingtip-550-montgomery-st-san-francisco/2041467?affiliate=1131&utm_source=foursquare-affiliate-network&utm_medium=affiliate&utm_campaign=1131&utm_content=2041467"
             },
             "id": "4ce74d7d0f196dcb1cb13dae",
             "location": {
              "address": "550 Montgomery St",
              "cc": "US",
              "city": "San Francisco",
              "country": "United States",
              "crossStreet": "at Clay",
              "distance": 826,
              "formattedAddress": [
               "550 Montgomery St (at Clay)",
               "San Francisco, CA 94111",
               "United States"
              ],
              "labeledLatLngs": [
               {
                "label": "display",
                "lat": 37.79446296800666,
                "lng": -122.40280893399066
               }
              ],
              "lat": 37.79446296800666,
              "lng": -122.40280893399066,
              "postalCode": "94111",
              "state": "CA"
             },
             "name": "Wingtip",
             "photos": {
              "count": 0,
              "groups": []
             },
             "venuePage": {
              "id": "63670324"
             }
            }
           },
           {
            "reasons": {
             "count": 0,
             "items": [
              {
               "reasonName": "globalInteractionReason",
               "summary": "This spot is popular",
               "type": "general"
              }
             ]
            },
            "referralId": "e-0-4e97163f02d5458d04b57326-6",
            "venue": {
             "categories": [
              {
               "icon": {
                "prefix": "https://ss3.4sqi.net/img/categories_v2/food/cafe_",
                "suffix": ".png"
               },
               "id": "4bf58dd8d48988d16d941735",
               "name": "Café",
               "pluralName": "Cafés",
               "primary": true,
               "shortName": "Café"
              }
             ],
             "id": "4e97163f02d5458d04b57326",
             "location": {
              "address": "1191 Pine St",
              "cc": "US",
              "city": "San Francisco",
              "country": "United States",
              "crossStreet": "at Leavenworth St.",
              "distance": 708,
              "formattedAddress": [
               "1191 Pine St (at Leavenworth St.)",
               "San Francisco, CA 94109",
               "United States"
              ],
              "labeledLatLngs": [
               {
                "label": "display",
                "lat": 37.790169,
                "lng": -122.415404
               },
               {
                "label": "entrance",
                "lat": 37.790202,
                "lng": -122.415405
               }
              ],
              "lat": 37.790169,
              "lng": -122.415404,
              "postalCode": "94109",
              "state": "CA"
             },
             "name": "Another Cafe",
             "photos": {
              "count": 0,
              "groups": []
             }
            }
           },
           {
            "reasons": {
             "count": 0,
             "items": [
              {
               "reasonName": "globalInteractionReason",
               "summary": "This spot is popular",
               "type": "general"
              }
             ]
            },
            "referralId": "e-0-5346e51d498e26af52794aff-7",
            "venue": {
             "categories": [
              {
               "icon": {
                "prefix": "https://ss3.4sqi.net/img/categories_v2/nightlife/cocktails_",
                "suffix": ".png"
               },
               "id": "4bf58dd8d48988d11e941735",
               "name": "Cocktail Bar",
               "pluralName": "Cocktail Bars",
               "primary": true,
               "shortName": "Cocktail"
              }
             ],
             "id": "5346e51d498e26af52794aff",
             "location": {
              "address": "12 4th St Fl 5",
              "cc": "US",
              "city": "San Francisco",
              "country": "United States",
              "distance": 370,
              "formattedAddress": [
               "12 4th St Fl 5",
               "San Francisco, CA 94103",
               "United States"
              ],
              "labeledLatLngs": [
               {
                "label": "display",
                "lat": 37.78519461303761,
                "lng": -122.40584801113268
               }
              ],
              "lat": 37.78519461303761,
              "lng": -122.40584801113268,
              "postalCode": "94103",
              "state": "CA"
             },
             "name": "Dirty Habit",
             "photos": {
              "count": 0,
              "groups": []
             },
             "venuePage": {
              "id": "131644822"
             }
            }
           },
           {
            "reasons": {
             "count": 0,
             "items": [
              {
               "reasonName": "globalInteractionReason",
               "summary": "This spot is popular",
               "type": "general"
              }
             ]
            },
            "referralId": "e-0-5d8a6ebe422f4000087ed27e-8",
            "venue": {
             "categories": [
              {
               "icon": {
                "prefix": "https://ss3.4sqi.net/img/categories_v2/food/coffeeshop_",
                "suffix": ".png"
               },
               "id": "4bf58dd8d48988d1e0931735",
               "name": "Coffee Shop",
               "pluralName": "Coffee Shops",
               "primary": true,
               "shortName": "Coffee Shop"
              }
             ],
             "id": "5d8a6ebe422f4000087ed27e",
             "location": {
              "address": "455 Grant Ave",
              "cc": "US",
              "city": "San Francisco",
              "country": "United States",
              "distance": 388,
              "formattedAddress": [
               "455 Grant Ave",
               "San Francisco, CA 94108",
               "United States"
              ],
              "labeledLatLngs": [
               {
                "label": "display",
                "lat": 37.791312,
                "lng": -122.405899
               }
              ],
              "lat": 37.791312,
              "lng": -122.405899,
              "postalCode": "94108",
              "state": "CA"
             },
             "name": "Home",
             "photos": {
              "count": 0,
              "groups": []
             }
            }
           },
           {
            "reasons": {
             "count": 0,
             "items": [
              {
               "reasonName": "globalInteractionReason",
               "summary": "This spot is popular",
               "type": "general"
              }
             ]
            },
            "referralId": "e-0-47d7bd63f964a520254e1fe3-9",
            "venue": {
             "categories": [
              {
               "icon": {
                "prefix": "https://ss3.4sqi.net/img/categories_v2/nightlife/cocktails_",
                "suffix": ".png"
               },
               "id": "4bf58dd8d48988d11e941735",
               "name": "Cocktail Bar",
               "pluralName": "Cocktail Bars",
               "primary": true,
               "shortName": "Cocktail"
              }
             ],
             "id": "47d7bd63f964a520254e1fe3",
             "location": {
              "address": "83 1st St",
              "cc": "US",
              "city": "San Francisco",
              "country": "United States",
              "crossStreet": "btwn Market & Mission",
              "distance": 899,
              "formattedAddress": [
               "83 1st St (btwn Market & Mission)",
               "San Francisco, CA 94105",
               "United States"
              ],
              "labeledLatLngs": [
               {
                "label": "display",
                "lat": 37.79002167264226,
                "lng": -122.39781291710831
               }
              ],
              "lat": 37.79002167264226,
              "lng": -122.39781291710831,
              "postalCode": "94105",
              "state": "CA"
             },
             "name": "83 Proof",
             "photos": {
              "count": 0,
              "groups": []
             },
             "venuePage": {
              "id": "90477757"
             }
            }
           },
           {
            "reasons": {
             "count": 0,
             "items": [
              {
               "reasonName": "globalInteractionReason",
               "summary": "This spot is popular",
               "type": "general"
              }
             ]
            },
            "referralId": "e-0-5a1c333d1ffed7595e5b4a39-10",
            "venue": {
             "categories": [
              {
               "icon": {
                "prefix": "https://ss3.4sqi.net/img/categories_v2/food/coffeeshop_",
                "suffix": ".png"
               },
               "id": "4bf58dd8d48988d1e0931735",
               "name": "Coffee Shop",
               "pluralName": "Coffee Shops",
               "primary": true,
               "shortName": "Coffee Shop"
              }
             ],
             "id": "5a1c333d1ffed7595e5b4a39",
             "location": {
              "address": "64 6th St",
              "cc": "US",
              "city": "San Francisco",
              "country": "United States",
              "crossStreet": "at Jessie St",
              "distance": 767,
              "formattedAddress": [
               "64 6th St (at Jessie St)",
               "San Francisco, CA 94103",
               "United States"
              ],
              "labeledLatLngs": [
               {
                "label": "display",
                "lat": 37.781367002828894,
                "lng": -122.40931446341938
               }
              ],
              "lat": 37.781367002828894,
              "lng": -122.40931446341938,
              "neighborhood": "SoMa",
              "postalCode": "94103",
              "state": "CA"
             },
             "name": "Pentacle Coffee",
             "photos": {
              "count": 0,
              "groups": []
             }
            }
           },
           {
            "reasons": {
             "count": 0,
             "items": [
              {
               "reasonName": "globalInteractionReason",
               "summary": "This spot is popular",
               "type": "general"
              }
             ]
            },
            "referralId": "e-0-547cac4d498ecfcb0018b838-11",
            "venue": {
             "categories": [
              {
               "icon": {
                "prefix": "https://ss3.4sqi.net/img/categories_v2/food/coffeeshop_",
                "suffix": ".png"
               },
               "id": "4bf58dd8d48988d1e0931735",
               "name": "Coffee Shop",
               "pluralName": "Coffee Shops",
               "primary": true,
               "shortName": "Coffee Shop"
              }
             ],
             "id": "547cac4d498ecfcb0018b838",
             "location": {
              "address": "720 Market St",
              "cc": "US",
              "city": "San Francisco",
              "country": "United States",
              "crossStreet": "btwn O'Farrell & Kearny St",
              "distance": 353,
              "formattedAddress": [
               "720 Market St (btwn O'Farrell & Kearny St)",
               "San Francisco, CA 94102",
               "United States"
              ],
              "labeledLatLngs": [
               {
                "label": "display",
                "lat": 37.78745542538577,
                "lng": -122.40384241107367
               }
              ],
              "lat": 37.78745542538577,
              "lng": -122.40384241107367,
              "postalCode": "94102",
              "state": "CA"
             },
             "name": "Mazarine Coffee",
             "photos": {
              "count": 0,
              "groups": []
             }
            }
           },
           {
            "reasons": {
             "count": 0,
             "items": [
              {
               "reasonName": "globalInteractionReason",
               "summary": "This spot is popular",
               "type": "general"
              }
             ]
            },
            "referralId": "e-0-55da2db5498eb79ab95580cb-12",
            "venue": {
             "categories": [
              {
               "icon": {
                "prefix": "https://ss3.4sqi.net/img/categories_v2/food/coffeeshop_",
                "suffix": ".png"
               },
               "id": "4bf58dd8d48988d1e0931735",
               "name": "Coffee Shop",
               "pluralName": "Coffee Shops",
               "primary": true,
               "shortName": "Coffee Shop"
              }
             ],
             "id": "55da2db5498eb79ab95580cb",
             "location": {
              "address": "277 Golden Gate Ave",
              "cc": "US",
              "city": "San Francisco",
              "country": "United States",
              "crossStreet": "Hyde",
              "distance": 972,
              "formattedAddress": [
               "277 Golden Gate Ave (Hyde)",
               "San Francisco, CA 94102",
               "United States"
              ],
              "labeledLatLngs": [
               {
                "label": "display",
                "lat": 37.781701059650835,
                "lng": -122.41521318340857
               }
              ],
              "lat": 37.781701059650835,
              "lng": -122.41521318340857,
              "postalCode": "94102",
              "state": "CA"
             },
             "name": "George and Lennie",
             "photos": {
              "count": 0,
              "groups": []
             }
            }
           },
           {
            "reasons": {
             "count": 0,
             "items": [
              {
               "reasonName": "globalInteractionReason",
               "summary": "This spot is popular",
               "type": "general"
              }
             ]
            },
            "referralId": "e-0-577709b1498ec87e7dcdb1f8-13",
            "venue": {
             "categories": [
              {
               "icon": {
                "prefix": "https://ss3.4sqi.net/img/categories_v2/food/korean_",
                "suffix": ".png"
               },
               "id": "4bf58dd8d48988d113941735",
               "name": "Korean Restaurant",
               "pluralName": "Korean Restaurants",
               "primary": true,
               "shortName": "Korean"
              }
             ],
             "id": "577709b1498ec87e7dcdb1f8",
             "location": {
              "address": "809 Bush St",
              "cc": "US",
              "city": "San Francisco",
              "country": "United States",
              "crossStreet": "at Mason St",
              "distance": 320,
              "formattedAddress": [
               "809 Bush St (at Mason St)",
               "San Francisco, CA 94108",
               "United States"
              ],
              "labeledLatLngs": [
               {
                "label": "display",
                "lat": 37.78976228934146,
                "lng": -122.41079181432723
               },
               {
                "label": "entrance",
                "lat": 37.789847,
                "lng": -122.410665
               }
              ],
              "lat": 37.78976228934146,
              "lng": -122.41079181432723,
              "postalCode": "94108",
              "state": "CA"
             },
             "name": "Tacorea",
             "photos": {
              "count": 0,
              "groups": []
             }
            }
           },
           {
            "reasons": {
             "count": 0,
             "items": [
              {
               "reasonName": "globalInteractionReason",
               "summary": "This spot is popular",
               "type": "general"
              }
             ]
            },
            "referralId": "e-0-46ab3257f964a5206a491fe3-14",
            "venue": {
             "categories": [
              {
               "icon": {
                "prefix": "https://ss3.4sqi.net/img/categories_v2/nightlife/cocktails_",
                "suffix": ".png"
               },
               "id": "4bf58dd8d48988d11e941735",
               "name": "Cocktail Bar",
               "pluralName": "Cocktail Bars",
               "primary": true,
               "shortName": "Cocktail"
              }
             ],
             "id": "46ab3257f964a5206a491fe3",
             "location": {
              "address": "580 Sutter St",
              "cc": "US",
              "city": "San Francisco",
              "country": "United States",
              "crossStreet": "btwn Mason St & Powell St",
              "distance": 225,
              "formattedAddress": [
               "580 Sutter St (btwn Mason St & Powell St)",
               "San Francisco, CA 94102",
               "United States"
              ],
              "labeledLatLngs": [
               {
                "label": "display",
                "lat": 37.78919210005242,
                "lng": -122.40997105836868
               },
               {
                "label": "entrance",
                "lat": 37.789158,
                "lng": -122.409954
               }
              ],
              "lat": 37.78919210005242,
              "lng": -122.40997105836868,
              "neighborhood": "Downtown San Francisco-Union Square",
              "postalCode": "94102",
              "state": "CA"
             },
             "name": "Pacific Cocktail Haven",
             "photos": {
              "count": 0,
              "groups": []
             }
            }
           },
           {
            "reasons": {
             "count": 0,
             "items": [
              {
               "reasonName": "globalInteractionReason",
               "summary": "This spot is popular",
               "type": "general"
              }
             ]
            },
            "referralId": "e-0-49dad117f964a520b65e1fe3-15",
            "venue": {
             "categories": [
              {
               "icon": {
                "prefix": "https://ss3.4sqi.net/img/categories_v2/food/breakfast_",
                "suffix": ".png"
               },
               "id": "4bf58dd8d48988d143941735",
               "name": "Breakfast Spot",
               "pluralName": "Breakfast Spots",
               "primary": true,
               "shortName": "Breakfast"
              }
             ],
             "delivery": {
              "id": "561530",
              "provider": {
               "icon": {
                "name": "/delivery_provider_grubhub_20180129.png",
                "prefix": "https://fastly.4sqi.net/img/general/cap/",
                "sizes": [
                 40,
                 50
                ]
               },
               "name": "grubhub"
              },
              "url": "https://www.grubhub.com/restaurant/honey-honey-cafe-and-crepery-599-post-st-san-francisco/561530?affiliate=1131&utm_source=foursquare-affiliate-network&utm_medium=affiliate&utm_campaign=1131&utm_content=561530"
             },
             "id": "49dad117f964a520b65e1fe3",
             "location": {
              "address": "599 Post St",
              "cc": "US",
              "city": "San Francisco",
              "country": "United States",
              "crossStreet": "at Taylor St.",
              "distance": 339,
              "formattedAddress": [
               "599 Post St (at Taylor St.)",
               "San Francisco, CA 94102",
               "United States"
              ],
              "labeledLatLngs": [
               {
                "label": "display",
                "lat": 37.78783959382514,
                "lng": -122.411605814653
               },
               {
                "label": "entrance",
                "lat": 37.787817,
                "lng": -122.411536
               }
              ],
              "lat": 37.78783959382514,
              "lng": -122.411605814653,
              "postalCode": "94102",
              "state": "CA"
             },
             "name": "Honey Honey Cafe & Crepery",
             "photos": {
              "count": 0,
              "groups": []
             }
            }
           },
           {
            "reasons": {
             "count": 0,
             "items": [
              {
               "reasonName": "globalInteractionReason",
               "summary": "This spot is popular",
               "type": "general"
              }
             ]
            },
            "referralId": "e-0-546eb4e2498e7c8d8624e6e5-16",
            "venue": {
             "categories": [
              {
               "icon": {
                "prefix": "https://ss3.4sqi.net/img/categories_v2/food/bakery_",
                "suffix": ".png"
               },
               "id": "4bf58dd8d48988d16a941735",
               "name": "Bakery",
               "pluralName": "Bakeries",
               "primary": true,
               "shortName": "Bakery"
              }
             ],
             "id": "546eb4e2498e7c8d8624e6e5",
             "location": {
              "address": "1042 Larkin St",
              "cc": "US",
              "city": "San Francisco",
              "country": "United States",
              "crossStreet": "at Sutter St",
              "distance": 938,
              "formattedAddress": [
               "1042 Larkin St (at Sutter St)",
               "San Francisco, CA 94109",
               "United States"
              ],
              "labeledLatLngs": [
               {
                "label": "display",
                "lat": 37.787626304136914,
                "lng": -122.41841702221737
               },
               {
                "label": "entrance",
                "lat": 37.787562,
                "lng": -122.418276
               }
              ],
              "lat": 37.787626304136914,
              "lng": -122.41841702221737,
              "postalCode": "94109",
              "state": "CA"
             },
             "name": "Mr. Holmes Bakehouse",
             "photos": {
              "count": 0,
              "groups": []
             }
            }
           },
           {
            "reasons": {
             "count": 0,
             "items": [
              {
               "reasonName": "globalInteractionReason",
               "summary": "This spot is popular",
               "type": "general"
              }
             ]
            },
            "referralId": "e-0-54b2ebab498e6ffea5742919-17",
            "venue": {
             "categories": [
              {
               "icon": {
                "prefix": "https://ss3.4sqi.net/img/categories_v2/nightlife/cocktails_",
                "suffix": ".png"
               },
               "id": "4bf58dd8d48988d11e941735",
               "name": "Cocktail Bar",
               "pluralName": "Cocktail Bars",
               "primary": true,
               "shortName": "Cocktail"
              }
             ],
             "id": "54b2ebab498e6ffea5742919",
             "location": {
              "address": "895 Bush St",
              "cc": "US",
              "city": "San Francisco",
              "country": "United States",
              "distance": 411,
              "formattedAddress": [
               "895 Bush St",
               "San Francisco, CA 94108",
               "United States"
              ],
              "labeledLatLngs": [
               {
                "label": "display",
                "lat": 37.78967032844174,
                "lng": -122.41203660841622
               }
              ],
              "lat": 37.78967032844174,
              "lng": -122.41203660841622,
              "postalCode": "94108",
              "state": "CA"
             },
             "name": "Stookey's Club Moderne",
             "photos": {
              "count": 0,
              "groups": []
             }
            }
           },
           {
            "reasons": {
             "count": 0,
             "items": [
              {
               "reasonName": "globalInteractionReason",
               "summary": "This spot is popular",
               "type": "general"
              }
             ]
            },
            "referralId": "e-0-43a9dcaef964a5207f2c1fe3-18",
            "venue": {
             "categories": [
              {
               "icon": {
                "prefix": "https://ss3.4sqi.net/img/categories_v2/nightlife/pub_",
                "suffix": ".png"
               },
               "id": "4bf58dd8d48988d116941735",
               "name": "Bar",
               "pluralName": "Bars",
               "primary": true,
               "shortName": "Bar"
              }
             ],
             "id": "43a9dcaef964a5207f2c1fe3",
             "location": {
              "address": "138 Minna St",
              "cc": "US",
              "city": "San Francisco",
              "country": "United States",
              "crossStreet": "at New Montgomery St.",
              "distance": 672,
              "formattedAddress": [
               "138 Minna St (at New Montgomery St.)",
               "San Francisco, CA 94105",
               "United States"
              ],
              "labeledLatLngs": [
               {
                "label": "display",
                "lat": 37.78689821671123,
                "lng": -122.40028651235284
               },
               {
                "label": "entrance",
                "lat": 37.7869,
                "lng": -122.400217
               }
              ],
              "lat": 37.78689821671123,
              "lng": -122.40028651235284,
              "postalCode": "94105",
              "state": "CA"
             },
             "name": "John Colins",
             "photos": {
              "count": 0,
              "groups": []
             },
             "venuePage": {
              "id": "90676195"
             }
            }
           },
           {
            "reasons": {
             "count": 0,
             "items": [
              {
               "reasonName": "globalInteractionReason",
               "summary": "This spot is popular",
               "type": "general"
              }
             ]
            },
            "referralId": "e-0-53042792498eea25c0aab393-19",
            "venue": {
             "categories": [
              {
               "icon": {
                "prefix": "https://ss3.4sqi.net/img/categories_v2/nightlife/cocktails_",
                "suffix": ".png"
               },
               "id": "4bf58dd8d48988d11e941735",
               "name": "Cocktail Bar",
               "pluralName": "Cocktail Bars",
               "primary": true,
               "shortName": "Cocktail"
              }
             ],
             "id": "53042792498eea25c0aab393",
             "location": {
              "address": "260 Kearny St",
              "cc": "US",
              "city": "San Francisco",
              "country": "United States",
              "crossStreet": "at Bush St",
              "distance": 431,
              "formattedAddress": [
               "260 Kearny St (at Bush St)",
               "San Francisco, CA 94108",
               "United States"
              ],
              "labeledLatLngs": [
               {
                "label": "display",
                "lat": 37.79063860767266,
                "lng": -122.40400119002932
               }
              ],
              "lat": 37.79063860767266,
              "lng": -122.40400119002932,
              "postalCode": "94108",
              "state": "CA"
             },
             "name": "Topsy's Fun House",
             "photos": {
              "count": 0,
              "groups": []
             }
            }
           },
           {
            "reasons": {
             "count": 0,
             "items": [
              {
               "reasonName": "globalInteractionReason",
               "summary": "This spot is popular",
               "type": "general"
              }
             ]
            },
            "referralId": "e-0-57226015498e7dbf6d78cc7f-20",
            "venue": {
             "categories": [
              {
               "icon": {
                "prefix": "https://ss3.4sqi.net/img/categories_v2/food/coffeeshop_",
                "suffix": ".png"
               },
               "id": "4bf58dd8d48988d1e0931735",
               "name": "Coffee Shop",
               "pluralName": "Coffee Shops",
               "primary": true,
               "shortName": "Coffee Shop"
              }
             ],
             "id": "57226015498e7dbf6d78cc7f",
             "location": {
              "address": "SFMOMA",
              "cc": "US",
              "city": "San Francisco",
              "country": "United States",
              "crossStreet": "151 3rd St",
              "distance": 661,
              "formattedAddress": [
               "SFMOMA (151 3rd St)",
               "San Francisco, CA 94103",
               "United States"
              ],
              "labeledLatLngs": [
               {
                "label": "display",
                "lat": 37.78588456059807,
                "lng": -122.40081142756917
               }
              ],
              "lat": 37.78588456059807,
              "lng": -122.40081142756917,
              "postalCode": "94103",
              "state": "CA"
             },
             "name": "Sightglass Coffee",
             "photos": {
              "count": 0,
              "groups": []
             }
            }
           },
           {
            "reasons": {
             "count": 0,
             "items": [
              {
               "reasonName": "globalInteractionReason",
               "summary": "This spot is popular",
               "type": "general"
              }
             ]
            },
            "referralId": "e-0-5754dda3498e603bcec06b42-21",
            "venue": {
             "categories": [
              {
               "icon": {
                "prefix": "https://ss3.4sqi.net/img/categories_v2/food/newamerican_",
                "suffix": ".png"
               },
               "id": "4bf58dd8d48988d157941735",
               "name": "New American Restaurant",
               "pluralName": "New American Restaurants",
               "primary": true,
               "shortName": "New American"
              }
             ],
             "id": "5754dda3498e603bcec06b42",
             "location": {
              "address": "SFMOMA",
              "cc": "US",
              "city": "San Francisco",
              "country": "United States",
              "crossStreet": "151 3rd St",
              "distance": 651,
              "formattedAddress": [
               "SFMOMA (151 3rd St)",
               "San Francisco, CA 94103",
               "United States"
              ],
              "labeledLatLngs": [
               {
                "label": "display",
                "lat": 37.78558999582396,
                "lng": -122.40110839096472
               }
              ],
              "lat": 37.78558999582396,
              "lng": -122.40110839096472,
              "postalCode": "94103",
              "state": "CA"
             },
             "name": "In Situ",
             "photos": {
              "count": 0,
              "groups": []
             }
            }
           },
           {
            "reasons": {
             "count": 0,
             "items": [
              {
               "reasonName": "globalInteractionReason",
               "summary": "This spot is popular",
               "type": "general"
              }
             ]
            },
            "referralId": "e-0-44be789af964a520a4351fe3-22",
            "venue": {
             "categories": [
              {
               "icon": {
                "prefix": "https://ss3.4sqi.net/img/categories_v2/food/default_",
                "suffix": ".png"
               },
               "id": "4bf58dd8d48988d14e941735",
               "name": "American Restaurant",
               "pluralName": "American Restaurants",
               "primary": true,
               "shortName": "American"
              }
             ],
             "id": "44be789af964a520a4351fe3",
             "location": {
              "address": "347 Geary St.",
              "cc": "US",
              "city": "San Francisco",
              "country": "United States",
              "crossStreet": "btwn Mason & Powell",
              "distance": 149,
              "formattedAddress": [
               "347 Geary St. (btwn Mason & Powell)",
               "San Francisco, CA 94102",
               "United States"
              ],
              "labeledLatLngs": [
               {
                "label": "display",
                "lat": 37.787156,
                "lng": -122.408909
               }
              ],
              "lat": 37.787156,
              "lng": -122.408909,
              "postalCode": "94102",
              "state": "CA"
             },
             "name": "Daily Grill",
             "photos": {
              "count": 0,
              "groups": []
             }
            }
           },
           {
            "reasons": {
             "count": 0,
             "items": [
              {
               "reasonName": "globalInteractionReason",
               "summary": "This spot is popular",
               "type": "general"
              }
             ]
            },
            "referralId": "e-0-44d31949f964a5203c361fe3-23",
            "venue": {
             "categories": [
              {
               "icon": {
                "prefix": "https://ss3.4sqi.net/img/categories_v2/nightlife/cocktails_",
                "suffix": ".png"
               },
               "id": "4bf58dd8d48988d11e941735",
               "name": "Cocktail Bar",
               "pluralName": "Cocktail Bars",
               "primary": true,
               "shortName": "Cocktail"
              }
             ],
             "id": "44d31949f964a5203c361fe3",
             "location": {
              "address": "65 Post St",
              "cc": "US",
              "city": "San Francisco",
              "country": "United States",
              "crossStreet": "btwn Kearny St & Montgomery St",
              "distance": 419,
              "formattedAddress": [
               "65 Post St (btwn Kearny St & Montgomery St)",
               "San Francisco, CA 94104",
               "United States"
              ],
              "labeledLatLngs": [
               {
                "label": "display",
                "lat": 37.788850832239405,
                "lng": -122.40307778120041
               },
               {
                "label": "entrance",
                "lat": 37.788886,
                "lng": -122.40312
               }
              ],
              "lat": 37.788850832239405,
              "lng": -122.40307778120041,
              "postalCode": "94104",
              "state": "CA"
             },
             "name": "DaDa Bar",
             "photos": {
              "count": 0,
              "groups": []
             },
             "venuePage": {
              "id": "91530065"
             }
            }
           },
           {
            "reasons": {
             "count": 0,
             "items": [
              {
               "reasonName": "globalInteractionReason",
               "summary": "This spot is popular",
               "type": "general"
              }
             ]
            },
            "referralId": "e-0-5abaaf5f89b06a2c76cc4c7e-24",
            "venue": {
             "categories": [
              {
               "icon": {
                "prefix": "https://ss3.4sqi.net/img/categories_v2/food/streetfood_",
                "suffix": ".png"
               },
               "id": "4bf58dd8d48988d1cb941735",
               "name": "Food Truck",
               "pluralName": "Food Trucks",
               "primary": true,
               "shortName": "Food Truck"
              }
             ],
             "id": "5abaaf5f89b06a2c76cc4c7e",
             "location": {
              "address": "10 United Nations Plz",
              "cc": "US",
              "city": "San Francisco",
              "country": "United States",
              "crossStreet": "Market",
              "distance": 833,
              "formattedAddress": [
               "10 United Nations Plz (Market)",
               "San Francisco, CA 94102",
               "United States"
              ],
              "labeledLatLngs": [
               {
                "label": "display",
                "lat": 37.78739236980189,
                "lng": -122.39833538603926
               }
              ],
              "lat": 37.78739236980189,
              "lng": -122.39833538603926,
              "neighborhood": "SoMa",
              "postalCode": "94102",
              "state": "CA"
             },
             "name": "Borsch Mobile",
             "photos": {
              "count": 0,
              "groups": []
             }
            }
           },
           {
            "reasons": {
             "count": 0,
             "items": [
              {
               "reasonName": "globalInteractionReason",
               "summary": "This spot is popular",
               "type": "general"
              }
             ]
            },
            "referralId": "e-0-5150b7c78aca1877ec109926-25",
            "venue": {
             "categories": [
              {
               "icon": {
                "prefix": "https://ss3.4sqi.net/img/categories_v2/food/coffeeshop_",
                "suffix": ".png"
               },
               "id": "4bf58dd8d48988d1e0931735",
               "name": "Coffee Shop",
               "pluralName": "Coffee Shops",
               "primary": true,
               "shortName": "Coffee Shop"
              }
             ],
             "id": "5150b7c78aca1877ec109926",
             "location": {
              "address": "111 Minna St",
              "cc": "US",
              "city": "San Francisco",
              "country": "United States",
              "crossStreet": "2nd St.",
              "distance": 748,
              "formattedAddress": [
               "111 Minna St (2nd St.)",
               "San Francisco, CA 94105",
               "United States"
              ],
              "labeledLatLngs": [
               {
                "label": "display",
                "lat": 37.787363,
                "lng": -122.39932
               }
              ],
              "lat": 37.787363,
              "lng": -122.39932,
              "postalCode": "94105",
              "state": "CA"
             },
             "name": "Red Door Coffee",
             "photos": {
              "count": 0,
              "groups": []
             },
             "venuePage": {
              "id": "51611372"
             }
            }
           }
          ],
          "name": "recommended",
          "type": "Recommended Places"
         }
        ],
        "headerFullLocation": "Downtown San Francisco-Union Square, San Francisco",
        "headerLocation": "Downtown San Francisco-Union Square",
        "headerLocationGranularity": "neighborhood",
        "query": "art",
        "suggestedBounds": {
         "ne": {
          "lat": 37.797153487960166,
          "lng": -122.39639928042313
         },
         "sw": {
          "lat": 37.77915346996014,
          "lng": -122.41913346424339
         }
        },
        "suggestedFilters": {
         "filters": [
          {
           "key": "openNow",
           "name": "Open now"
          }
         ],
         "header": "Tap to show:"
        },
        "totalResults": 26
       }
      },
      "text/plain": [
       "<IPython.core.display.JSON object>"
      ]
     },
     "execution_count": 191,
     "metadata": {
      "application/json": {
       "expanded": false,
       "root": "root"
      }
     },
     "output_type": "execute_result"
    }
   ],
   "source": [
    "JSON(art_data)"
   ]
  },
  {
   "cell_type": "code",
   "execution_count": 197,
   "metadata": {},
   "outputs": [
    {
     "data": {
      "text/html": [
       "<div>\n",
       "<style scoped>\n",
       "    .dataframe tbody tr th:only-of-type {\n",
       "        vertical-align: middle;\n",
       "    }\n",
       "\n",
       "    .dataframe tbody tr th {\n",
       "        vertical-align: top;\n",
       "    }\n",
       "\n",
       "    .dataframe thead th {\n",
       "        text-align: right;\n",
       "    }\n",
       "</style>\n",
       "<table border=\"1\" class=\"dataframe\">\n",
       "  <thead>\n",
       "    <tr style=\"text-align: right;\">\n",
       "      <th></th>\n",
       "      <th>venue-id</th>\n",
       "      <th>type</th>\n",
       "      <th>name</th>\n",
       "      <th>review</th>\n",
       "    </tr>\n",
       "  </thead>\n",
       "  <tbody>\n",
       "    <tr>\n",
       "      <th>0</th>\n",
       "      <td>40943a00f964a520e5f21ee3</td>\n",
       "      <td>Art Museum</td>\n",
       "      <td>San Francisco Museum of Modern Art</td>\n",
       "      <td>This spot is popular</td>\n",
       "    </tr>\n",
       "    <tr>\n",
       "      <th>1</th>\n",
       "      <td>4b0af2a4f964a520862a23e3</td>\n",
       "      <td>Fast Food</td>\n",
       "      <td>McDonald's</td>\n",
       "      <td>This spot is popular</td>\n",
       "    </tr>\n",
       "    <tr>\n",
       "      <th>2</th>\n",
       "      <td>49ca8f4df964a520b9581fe3</td>\n",
       "      <td>Coffee Shop</td>\n",
       "      <td>Blue Bottle Coffee</td>\n",
       "      <td>This spot is popular</td>\n",
       "    </tr>\n",
       "    <tr>\n",
       "      <th>3</th>\n",
       "      <td>4328b980f964a520c4271fe3</td>\n",
       "      <td>Bar</td>\n",
       "      <td>The Royale</td>\n",
       "      <td>This spot is popular</td>\n",
       "    </tr>\n",
       "    <tr>\n",
       "      <th>4</th>\n",
       "      <td>50b57f55e4b09c0e1e84166a</td>\n",
       "      <td>Dim Sum</td>\n",
       "      <td>Hakkasan</td>\n",
       "      <td>This spot is popular</td>\n",
       "    </tr>\n",
       "    <tr>\n",
       "      <th>5</th>\n",
       "      <td>4ce74d7d0f196dcb1cb13dae</td>\n",
       "      <td>Men's Store</td>\n",
       "      <td>Wingtip</td>\n",
       "      <td>This spot is popular</td>\n",
       "    </tr>\n",
       "    <tr>\n",
       "      <th>6</th>\n",
       "      <td>4e97163f02d5458d04b57326</td>\n",
       "      <td>Café</td>\n",
       "      <td>Another Cafe</td>\n",
       "      <td>This spot is popular</td>\n",
       "    </tr>\n",
       "    <tr>\n",
       "      <th>7</th>\n",
       "      <td>5346e51d498e26af52794aff</td>\n",
       "      <td>Cocktail</td>\n",
       "      <td>Dirty Habit</td>\n",
       "      <td>This spot is popular</td>\n",
       "    </tr>\n",
       "    <tr>\n",
       "      <th>8</th>\n",
       "      <td>5d8a6ebe422f4000087ed27e</td>\n",
       "      <td>Coffee Shop</td>\n",
       "      <td>Home</td>\n",
       "      <td>This spot is popular</td>\n",
       "    </tr>\n",
       "    <tr>\n",
       "      <th>9</th>\n",
       "      <td>47d7bd63f964a520254e1fe3</td>\n",
       "      <td>Cocktail</td>\n",
       "      <td>83 Proof</td>\n",
       "      <td>This spot is popular</td>\n",
       "    </tr>\n",
       "    <tr>\n",
       "      <th>10</th>\n",
       "      <td>5a1c333d1ffed7595e5b4a39</td>\n",
       "      <td>Coffee Shop</td>\n",
       "      <td>Pentacle Coffee</td>\n",
       "      <td>This spot is popular</td>\n",
       "    </tr>\n",
       "    <tr>\n",
       "      <th>11</th>\n",
       "      <td>547cac4d498ecfcb0018b838</td>\n",
       "      <td>Coffee Shop</td>\n",
       "      <td>Mazarine Coffee</td>\n",
       "      <td>This spot is popular</td>\n",
       "    </tr>\n",
       "    <tr>\n",
       "      <th>12</th>\n",
       "      <td>55da2db5498eb79ab95580cb</td>\n",
       "      <td>Coffee Shop</td>\n",
       "      <td>George and Lennie</td>\n",
       "      <td>This spot is popular</td>\n",
       "    </tr>\n",
       "    <tr>\n",
       "      <th>13</th>\n",
       "      <td>577709b1498ec87e7dcdb1f8</td>\n",
       "      <td>Korean</td>\n",
       "      <td>Tacorea</td>\n",
       "      <td>This spot is popular</td>\n",
       "    </tr>\n",
       "    <tr>\n",
       "      <th>14</th>\n",
       "      <td>46ab3257f964a5206a491fe3</td>\n",
       "      <td>Cocktail</td>\n",
       "      <td>Pacific Cocktail Haven</td>\n",
       "      <td>This spot is popular</td>\n",
       "    </tr>\n",
       "    <tr>\n",
       "      <th>15</th>\n",
       "      <td>49dad117f964a520b65e1fe3</td>\n",
       "      <td>Breakfast</td>\n",
       "      <td>Honey Honey Cafe &amp; Crepery</td>\n",
       "      <td>This spot is popular</td>\n",
       "    </tr>\n",
       "    <tr>\n",
       "      <th>16</th>\n",
       "      <td>546eb4e2498e7c8d8624e6e5</td>\n",
       "      <td>Bakery</td>\n",
       "      <td>Mr. Holmes Bakehouse</td>\n",
       "      <td>This spot is popular</td>\n",
       "    </tr>\n",
       "    <tr>\n",
       "      <th>17</th>\n",
       "      <td>54b2ebab498e6ffea5742919</td>\n",
       "      <td>Cocktail</td>\n",
       "      <td>Stookey's Club Moderne</td>\n",
       "      <td>This spot is popular</td>\n",
       "    </tr>\n",
       "    <tr>\n",
       "      <th>18</th>\n",
       "      <td>43a9dcaef964a5207f2c1fe3</td>\n",
       "      <td>Bar</td>\n",
       "      <td>John Colins</td>\n",
       "      <td>This spot is popular</td>\n",
       "    </tr>\n",
       "    <tr>\n",
       "      <th>19</th>\n",
       "      <td>53042792498eea25c0aab393</td>\n",
       "      <td>Cocktail</td>\n",
       "      <td>Topsy's Fun House</td>\n",
       "      <td>This spot is popular</td>\n",
       "    </tr>\n",
       "    <tr>\n",
       "      <th>20</th>\n",
       "      <td>57226015498e7dbf6d78cc7f</td>\n",
       "      <td>Coffee Shop</td>\n",
       "      <td>Sightglass Coffee</td>\n",
       "      <td>This spot is popular</td>\n",
       "    </tr>\n",
       "    <tr>\n",
       "      <th>21</th>\n",
       "      <td>5754dda3498e603bcec06b42</td>\n",
       "      <td>New American</td>\n",
       "      <td>In Situ</td>\n",
       "      <td>This spot is popular</td>\n",
       "    </tr>\n",
       "    <tr>\n",
       "      <th>22</th>\n",
       "      <td>44be789af964a520a4351fe3</td>\n",
       "      <td>American</td>\n",
       "      <td>Daily Grill</td>\n",
       "      <td>This spot is popular</td>\n",
       "    </tr>\n",
       "    <tr>\n",
       "      <th>23</th>\n",
       "      <td>44d31949f964a5203c361fe3</td>\n",
       "      <td>Cocktail</td>\n",
       "      <td>DaDa Bar</td>\n",
       "      <td>This spot is popular</td>\n",
       "    </tr>\n",
       "    <tr>\n",
       "      <th>24</th>\n",
       "      <td>5abaaf5f89b06a2c76cc4c7e</td>\n",
       "      <td>Food Truck</td>\n",
       "      <td>Borsch Mobile</td>\n",
       "      <td>This spot is popular</td>\n",
       "    </tr>\n",
       "    <tr>\n",
       "      <th>25</th>\n",
       "      <td>5150b7c78aca1877ec109926</td>\n",
       "      <td>Coffee Shop</td>\n",
       "      <td>Red Door Coffee</td>\n",
       "      <td>This spot is popular</td>\n",
       "    </tr>\n",
       "  </tbody>\n",
       "</table>\n",
       "</div>"
      ],
      "text/plain": [
       "                    venue-id          type  \\\n",
       "0   40943a00f964a520e5f21ee3    Art Museum   \n",
       "1   4b0af2a4f964a520862a23e3     Fast Food   \n",
       "2   49ca8f4df964a520b9581fe3   Coffee Shop   \n",
       "3   4328b980f964a520c4271fe3           Bar   \n",
       "4   50b57f55e4b09c0e1e84166a       Dim Sum   \n",
       "5   4ce74d7d0f196dcb1cb13dae   Men's Store   \n",
       "6   4e97163f02d5458d04b57326          Café   \n",
       "7   5346e51d498e26af52794aff      Cocktail   \n",
       "8   5d8a6ebe422f4000087ed27e   Coffee Shop   \n",
       "9   47d7bd63f964a520254e1fe3      Cocktail   \n",
       "10  5a1c333d1ffed7595e5b4a39   Coffee Shop   \n",
       "11  547cac4d498ecfcb0018b838   Coffee Shop   \n",
       "12  55da2db5498eb79ab95580cb   Coffee Shop   \n",
       "13  577709b1498ec87e7dcdb1f8        Korean   \n",
       "14  46ab3257f964a5206a491fe3      Cocktail   \n",
       "15  49dad117f964a520b65e1fe3     Breakfast   \n",
       "16  546eb4e2498e7c8d8624e6e5        Bakery   \n",
       "17  54b2ebab498e6ffea5742919      Cocktail   \n",
       "18  43a9dcaef964a5207f2c1fe3           Bar   \n",
       "19  53042792498eea25c0aab393      Cocktail   \n",
       "20  57226015498e7dbf6d78cc7f   Coffee Shop   \n",
       "21  5754dda3498e603bcec06b42  New American   \n",
       "22  44be789af964a520a4351fe3      American   \n",
       "23  44d31949f964a5203c361fe3      Cocktail   \n",
       "24  5abaaf5f89b06a2c76cc4c7e    Food Truck   \n",
       "25  5150b7c78aca1877ec109926   Coffee Shop   \n",
       "\n",
       "                                  name                review  \n",
       "0   San Francisco Museum of Modern Art  This spot is popular  \n",
       "1                           McDonald's  This spot is popular  \n",
       "2                   Blue Bottle Coffee  This spot is popular  \n",
       "3                           The Royale  This spot is popular  \n",
       "4                             Hakkasan  This spot is popular  \n",
       "5                              Wingtip  This spot is popular  \n",
       "6                         Another Cafe  This spot is popular  \n",
       "7                          Dirty Habit  This spot is popular  \n",
       "8                                 Home  This spot is popular  \n",
       "9                             83 Proof  This spot is popular  \n",
       "10                     Pentacle Coffee  This spot is popular  \n",
       "11                     Mazarine Coffee  This spot is popular  \n",
       "12                   George and Lennie  This spot is popular  \n",
       "13                             Tacorea  This spot is popular  \n",
       "14              Pacific Cocktail Haven  This spot is popular  \n",
       "15          Honey Honey Cafe & Crepery  This spot is popular  \n",
       "16                Mr. Holmes Bakehouse  This spot is popular  \n",
       "17              Stookey's Club Moderne  This spot is popular  \n",
       "18                         John Colins  This spot is popular  \n",
       "19                   Topsy's Fun House  This spot is popular  \n",
       "20                   Sightglass Coffee  This spot is popular  \n",
       "21                             In Situ  This spot is popular  \n",
       "22                         Daily Grill  This spot is popular  \n",
       "23                            DaDa Bar  This spot is popular  \n",
       "24                       Borsch Mobile  This spot is popular  \n",
       "25                     Red Door Coffee  This spot is popular  "
      ]
     },
     "execution_count": 197,
     "metadata": {},
     "output_type": "execute_result"
    }
   ],
   "source": [
    "art_dict = {'venue-id': [],\n",
    "                   'type' : [],\n",
    "                   'name' : [],\n",
    "                  'review': []}\n",
    "\n",
    "for i in art_data['response']['groups'][0]['items']:\n",
    "    art_place = i['venue']['id']\n",
    "    if art_place != art_dict['venue-id']:\n",
    "        art_dict['venue-id'].append(art_place)\n",
    "\n",
    "    art_name = i['venue']['name']\n",
    "    if art_name != art_dict['name']:\n",
    "        art_dict['name'].append(art_name)\n",
    "    \n",
    "    art_review = i['reasons']['items'][0]['summary']\n",
    "    if art_review != art_dict['review']:\n",
    "        art_dict['review'].append(art_review)\n",
    "    \n",
    "    art_type = i['venue']['categories'][0]['shortName']\n",
    "    if art_type != art_dict['type']:\n",
    "        art_dict['type'].append(art_type)\n",
    "\n",
    "df_art_foursquare = pd.DataFrame(art_dict)\n",
    "df_art_foursquare"
   ]
  },
  {
   "cell_type": "code",
   "execution_count": 106,
   "metadata": {},
   "outputs": [
    {
     "data": {
      "application/json": {
       "error": {
        "code": "VALIDATION_ERROR",
        "description": "'t-jHmz9FvHe6jobQnVxDc8Mh-4XqCCtaumrj7l-AUyQREzYGdXjXYs4LgtcQv4NEqfTYdri2GwzmwVjsep-6IyO8rT8cEwH5wsEki1JSdLaeFHy9B5H1pWg4ZW1KYHYx' does not match '^(?i)Bearer [A-Za-z0-9\\\\-\\\\_]{128}$'",
        "field": "Authorization",
        "instance": "t-jHmz9FvHe6jobQnVxDc8Mh-4XqCCtaumrj7l-AUyQREzYGdXjXYs4LgtcQv4NEqfTYdri2GwzmwVjsep-6IyO8rT8cEwH5wsEki1JSdLaeFHy9B5H1pWg4ZW1KYHYx"
       }
      },
      "text/plain": [
       "<IPython.core.display.JSON object>"
      ]
     },
     "execution_count": 106,
     "metadata": {
      "application/json": {
       "expanded": false,
       "root": "root"
      }
     },
     "output_type": "execute_result"
    }
   ],
   "source": [
    "#YELP\n",
    "\n",
    "headers = {'Authorization': yelp_api_key}\n",
    "\n",
    "yelp_url = 'https://api.yelp.com/v3/businesses/search'\n",
    "\n",
    "params_yelp = dict(\n",
    "longitude ='37.788238266945065', \n",
    "latutude = '-122.40740159308447',\n",
    "term='restaurants',\n",
    "radius='1000',\n",
    "limit=50,\n",
    "price='1,2,3',\n",
    "open_now=True)\n",
    "\n",
    "resp_yelp = re.get(url=yelp_url, headers=headers, params=params_yelp)\n",
    "yelp_data = json.loads(resp_yelp.text)\n",
    "JSON(yelp_data)\n",
    "\n"
   ]
  },
  {
   "cell_type": "code",
   "execution_count": 118,
   "metadata": {},
   "outputs": [],
   "source": [
    "apikey = os.environ['YELP_API_KEY']\n",
    "headers = {\n",
    "        'Authorization': f'Bearer {apikey}'\n",
    "    }\n",
    "# # getting restaurants in the neighborhood (NYC)\n",
    "url_params = {\n",
    "        'term': 'restaurants',\n",
    "        'latitude': '37.788238266945065',\n",
    "        'longitude': '-122.40740159308447',\n",
    "        'limit': 50,\n",
    "        'radius': 1000,\n",
    "        'open_now': True,\n",
    "        'price' : '1,2,3'\n",
    "        \n",
    "    }\n",
    "url = 'https://api.yelp.com/v3/businesses/search'\n",
    "resp = re.get(url=url, headers=headers, params=url_params)\n",
    "data = resp.json()"
   ]
  },
  {
   "cell_type": "code",
   "execution_count": 172,
   "metadata": {},
   "outputs": [
    {
     "data": {
      "text/html": [
       "<div>\n",
       "<style scoped>\n",
       "    .dataframe tbody tr th:only-of-type {\n",
       "        vertical-align: middle;\n",
       "    }\n",
       "\n",
       "    .dataframe tbody tr th {\n",
       "        vertical-align: top;\n",
       "    }\n",
       "\n",
       "    .dataframe thead th {\n",
       "        text-align: right;\n",
       "    }\n",
       "</style>\n",
       "<table border=\"1\" class=\"dataframe\">\n",
       "  <thead>\n",
       "    <tr style=\"text-align: right;\">\n",
       "      <th></th>\n",
       "      <th>venue-id</th>\n",
       "      <th>type</th>\n",
       "      <th>name</th>\n",
       "      <th>rating</th>\n",
       "      <th>review count</th>\n",
       "    </tr>\n",
       "  </thead>\n",
       "  <tbody>\n",
       "    <tr>\n",
       "      <th>30</th>\n",
       "      <td>3a36_kQBI8dB32Dt2aEEHg</td>\n",
       "      <td>Pizza</td>\n",
       "      <td>Gusto Pinsa Romana</td>\n",
       "      <td>5.0</td>\n",
       "      <td>366</td>\n",
       "    </tr>\n",
       "    <tr>\n",
       "      <th>25</th>\n",
       "      <td>KkAVX3Wb7E3lP5F_f_8pXg</td>\n",
       "      <td>Bars</td>\n",
       "      <td>Liholiho Yacht Club</td>\n",
       "      <td>4.5</td>\n",
       "      <td>2439</td>\n",
       "    </tr>\n",
       "    <tr>\n",
       "      <th>0</th>\n",
       "      <td>u39mZEYojBiNic3lqKhPNw</td>\n",
       "      <td>Mexican</td>\n",
       "      <td>Tacorea</td>\n",
       "      <td>4.5</td>\n",
       "      <td>1739</td>\n",
       "    </tr>\n",
       "    <tr>\n",
       "      <th>17</th>\n",
       "      <td>DLpHmXitZxDLdqTwydUSdA</td>\n",
       "      <td>Latin American</td>\n",
       "      <td>La Fusión</td>\n",
       "      <td>4.5</td>\n",
       "      <td>1117</td>\n",
       "    </tr>\n",
       "    <tr>\n",
       "      <th>4</th>\n",
       "      <td>t5OypGYSwYIXKjkEQx3BNw</td>\n",
       "      <td>Gastropubs</td>\n",
       "      <td>Hogwash</td>\n",
       "      <td>4.5</td>\n",
       "      <td>1051</td>\n",
       "    </tr>\n",
       "    <tr>\n",
       "      <th>19</th>\n",
       "      <td>0mNzmmh1mrdh5Cpg2QUBiw</td>\n",
       "      <td>Breakfast &amp; Brunch</td>\n",
       "      <td>Lapisara Eatery</td>\n",
       "      <td>4.5</td>\n",
       "      <td>817</td>\n",
       "    </tr>\n",
       "    <tr>\n",
       "      <th>28</th>\n",
       "      <td>_BDoTBI2YlyUaWFOXBEF8Q</td>\n",
       "      <td>Mediterranean</td>\n",
       "      <td>Sababa</td>\n",
       "      <td>4.5</td>\n",
       "      <td>342</td>\n",
       "    </tr>\n",
       "    <tr>\n",
       "      <th>33</th>\n",
       "      <td>nRxk-JSF_rq1RKqrTfcgRg</td>\n",
       "      <td>Wine Bars</td>\n",
       "      <td>La Marsa</td>\n",
       "      <td>4.5</td>\n",
       "      <td>231</td>\n",
       "    </tr>\n",
       "    <tr>\n",
       "      <th>26</th>\n",
       "      <td>bUllrq8bcGbn9TKtVcjL-A</td>\n",
       "      <td>Japanese</td>\n",
       "      <td>Izakaya Yoki</td>\n",
       "      <td>4.5</td>\n",
       "      <td>215</td>\n",
       "    </tr>\n",
       "    <tr>\n",
       "      <th>42</th>\n",
       "      <td>Hq5ZJEcEViFYMy3vfN8WTA</td>\n",
       "      <td>Burmese</td>\n",
       "      <td>Burma Club</td>\n",
       "      <td>4.5</td>\n",
       "      <td>156</td>\n",
       "    </tr>\n",
       "    <tr>\n",
       "      <th>29</th>\n",
       "      <td>ohWlEV89ljnbDXAHJM6_GQ</td>\n",
       "      <td>American (New)</td>\n",
       "      <td>ONE65 Bistro &amp; Grill</td>\n",
       "      <td>4.5</td>\n",
       "      <td>115</td>\n",
       "    </tr>\n",
       "    <tr>\n",
       "      <th>6</th>\n",
       "      <td>RWOXlFAOGpVa1Pzo_SjhdA</td>\n",
       "      <td>American (New)</td>\n",
       "      <td>Fifth Arrow</td>\n",
       "      <td>4.5</td>\n",
       "      <td>90</td>\n",
       "    </tr>\n",
       "    <tr>\n",
       "      <th>5</th>\n",
       "      <td>mydKjdG8gJOcRQ9cZwkQpQ</td>\n",
       "      <td>Sushi Bars</td>\n",
       "      <td>Ryoko's</td>\n",
       "      <td>4.0</td>\n",
       "      <td>3016</td>\n",
       "    </tr>\n",
       "    <tr>\n",
       "      <th>21</th>\n",
       "      <td>zjlwTVZOyCU8OzzUPEavQQ</td>\n",
       "      <td>Burgers</td>\n",
       "      <td>Super Duper Burgers</td>\n",
       "      <td>4.0</td>\n",
       "      <td>2761</td>\n",
       "    </tr>\n",
       "    <tr>\n",
       "      <th>39</th>\n",
       "      <td>u30abI5AtOKAddJRxUfZTg</td>\n",
       "      <td>Mexican</td>\n",
       "      <td>Colibri Mexican Bistro</td>\n",
       "      <td>4.0</td>\n",
       "      <td>2408</td>\n",
       "    </tr>\n",
       "  </tbody>\n",
       "</table>\n",
       "</div>"
      ],
      "text/plain": [
       "                  venue-id                type                    name  \\\n",
       "30  3a36_kQBI8dB32Dt2aEEHg               Pizza      Gusto Pinsa Romana   \n",
       "25  KkAVX3Wb7E3lP5F_f_8pXg                Bars     Liholiho Yacht Club   \n",
       "0   u39mZEYojBiNic3lqKhPNw             Mexican                 Tacorea   \n",
       "17  DLpHmXitZxDLdqTwydUSdA      Latin American               La Fusión   \n",
       "4   t5OypGYSwYIXKjkEQx3BNw          Gastropubs                 Hogwash   \n",
       "19  0mNzmmh1mrdh5Cpg2QUBiw  Breakfast & Brunch         Lapisara Eatery   \n",
       "28  _BDoTBI2YlyUaWFOXBEF8Q       Mediterranean                  Sababa   \n",
       "33  nRxk-JSF_rq1RKqrTfcgRg           Wine Bars                La Marsa   \n",
       "26  bUllrq8bcGbn9TKtVcjL-A            Japanese            Izakaya Yoki   \n",
       "42  Hq5ZJEcEViFYMy3vfN8WTA             Burmese              Burma Club   \n",
       "29  ohWlEV89ljnbDXAHJM6_GQ      American (New)    ONE65 Bistro & Grill   \n",
       "6   RWOXlFAOGpVa1Pzo_SjhdA      American (New)             Fifth Arrow   \n",
       "5   mydKjdG8gJOcRQ9cZwkQpQ          Sushi Bars                 Ryoko's   \n",
       "21  zjlwTVZOyCU8OzzUPEavQQ             Burgers     Super Duper Burgers   \n",
       "39  u30abI5AtOKAddJRxUfZTg             Mexican  Colibri Mexican Bistro   \n",
       "\n",
       "    rating  review count  \n",
       "30     5.0           366  \n",
       "25     4.5          2439  \n",
       "0      4.5          1739  \n",
       "17     4.5          1117  \n",
       "4      4.5          1051  \n",
       "19     4.5           817  \n",
       "28     4.5           342  \n",
       "33     4.5           231  \n",
       "26     4.5           215  \n",
       "42     4.5           156  \n",
       "29     4.5           115  \n",
       "6      4.5            90  \n",
       "5      4.0          3016  \n",
       "21     4.0          2761  \n",
       "39     4.0          2408  "
      ]
     },
     "execution_count": 172,
     "metadata": {},
     "output_type": "execute_result"
    }
   ],
   "source": [
    "yelp_food_dict = {'venue-id': [],\n",
    "                  'type' : [],\n",
    "                   'name' : [],\n",
    "                  'rating': [],\n",
    "                  'review count': []\n",
    "                  }\n",
    "\n",
    "for i in data['businesses']:\n",
    "    yelp_id = i['id']\n",
    "    if yelp_id != yelp_food_dict['venue-id']:\n",
    "        yelp_food_dict['venue-id'].append(yelp_id)\n",
    "\n",
    "    yelp_name = i['name']\n",
    "    if yelp_name != yelp_food_dict['name']:\n",
    "        yelp_food_dict['name'].append(yelp_name)\n",
    "    \n",
    "    yelp_rating = i['rating']\n",
    "    if yelp_rating != yelp_food_dict['rating']:\n",
    "        yelp_food_dict['rating'].append(yelp_rating)\n",
    "        \n",
    "    review_count = i['review_count']\n",
    "    if review_count != yelp_food_dict['review count']:\n",
    "        yelp_food_dict['review count'].append(review_count)\n",
    "        \n",
    "    yelp_type = i['categories'][0]['title']\n",
    "    if yelp_type != yelp_food_dict['type']:\n",
    "        yelp_food_dict['type'].append(yelp_type)\n",
    "\n",
    "\n",
    "df_yelp = pd.DataFrame(yelp_food_dict)\n",
    "df_yelp.sort_values(by = ['rating', 'review count'], ascending=False).head(15)\n"
   ]
  },
  {
   "cell_type": "code",
   "execution_count": 179,
   "metadata": {},
   "outputs": [
    {
     "data": {
      "text/html": [
       "<div>\n",
       "<style scoped>\n",
       "    .dataframe tbody tr th:only-of-type {\n",
       "        vertical-align: middle;\n",
       "    }\n",
       "\n",
       "    .dataframe tbody tr th {\n",
       "        vertical-align: top;\n",
       "    }\n",
       "\n",
       "    .dataframe thead th {\n",
       "        text-align: right;\n",
       "    }\n",
       "</style>\n",
       "<table border=\"1\" class=\"dataframe\">\n",
       "  <thead>\n",
       "    <tr style=\"text-align: right;\">\n",
       "      <th></th>\n",
       "      <th>venue-id</th>\n",
       "    </tr>\n",
       "    <tr>\n",
       "      <th>type</th>\n",
       "      <th></th>\n",
       "    </tr>\n",
       "  </thead>\n",
       "  <tbody>\n",
       "    <tr>\n",
       "      <th>American (New)</th>\n",
       "      <td>6</td>\n",
       "    </tr>\n",
       "    <tr>\n",
       "      <th>Thai</th>\n",
       "      <td>4</td>\n",
       "    </tr>\n",
       "    <tr>\n",
       "      <th>Korean</th>\n",
       "      <td>3</td>\n",
       "    </tr>\n",
       "    <tr>\n",
       "      <th>Sushi Bars</th>\n",
       "      <td>3</td>\n",
       "    </tr>\n",
       "    <tr>\n",
       "      <th>Pizza</th>\n",
       "      <td>3</td>\n",
       "    </tr>\n",
       "    <tr>\n",
       "      <th>Mexican</th>\n",
       "      <td>3</td>\n",
       "    </tr>\n",
       "    <tr>\n",
       "      <th>Mediterranean</th>\n",
       "      <td>3</td>\n",
       "    </tr>\n",
       "    <tr>\n",
       "      <th>Japanese</th>\n",
       "      <td>3</td>\n",
       "    </tr>\n",
       "    <tr>\n",
       "      <th>Ramen</th>\n",
       "      <td>2</td>\n",
       "    </tr>\n",
       "    <tr>\n",
       "      <th>Burmese</th>\n",
       "      <td>2</td>\n",
       "    </tr>\n",
       "  </tbody>\n",
       "</table>\n",
       "</div>"
      ],
      "text/plain": [
       "                venue-id\n",
       "type                    \n",
       "American (New)         6\n",
       "Thai                   4\n",
       "Korean                 3\n",
       "Sushi Bars             3\n",
       "Pizza                  3\n",
       "Mexican                3\n",
       "Mediterranean          3\n",
       "Japanese               3\n",
       "Ramen                  2\n",
       "Burmese                2"
      ]
     },
     "execution_count": 179,
     "metadata": {},
     "output_type": "execute_result"
    }
   ],
   "source": [
    "df_yelp_count = df_yelp.loc[:, ['venue-id', 'type']].groupby('type').count().sort_values(['venue-id'], ascending=False).head(10)\n",
    "df_yelp_count"
   ]
  },
  {
   "cell_type": "code",
   "execution_count": 119,
   "metadata": {},
   "outputs": [
    {
     "data": {
      "application/json": {
       "businesses": [
        {
         "alias": "tacorea-san-francisco",
         "categories": [
          {
           "alias": "mexican",
           "title": "Mexican"
          },
          {
           "alias": "korean",
           "title": "Korean"
          },
          {
           "alias": "breakfast_brunch",
           "title": "Breakfast & Brunch"
          }
         ],
         "coordinates": {
          "latitude": 37.7897794,
          "longitude": -122.410717
         },
         "display_phone": "(415) 484-8911",
         "distance": 338.3246940884152,
         "id": "u39mZEYojBiNic3lqKhPNw",
         "image_url": "https://s3-media1.fl.yelpcdn.com/bphoto/wWmEPL-j9NwP6zPhMF-SHg/o.jpg",
         "is_closed": false,
         "location": {
          "address1": "809 Bush St",
          "address2": "",
          "address3": null,
          "city": "San Francisco",
          "country": "US",
          "display_address": [
           "809 Bush St",
           "San Francisco, CA 94108"
          ],
          "state": "CA",
          "zip_code": "94108"
         },
         "name": "Tacorea",
         "phone": "+14154848911",
         "price": "$$",
         "rating": 4.5,
         "review_count": 1739,
         "transactions": [],
         "url": "https://www.yelp.com/biz/tacorea-san-francisco?adjust_creative=_dYPnK4bOKVDzAJFX1hsFg&utm_campaign=yelp_api_v3&utm_medium=api_v3_business_search&utm_source=_dYPnK4bOKVDzAJFX1hsFg"
        },
        {
         "alias": "aliment-san-francisco",
         "categories": [
          {
           "alias": "newamerican",
           "title": "American (New)"
          },
          {
           "alias": "cocktailbars",
           "title": "Cocktail Bars"
          },
          {
           "alias": "comfortfood",
           "title": "Comfort Food"
          }
         ],
         "coordinates": {
          "latitude": 37.79012,
          "longitude": -122.41019
         },
         "display_phone": "(415) 829-2737",
         "distance": 325.2884936744985,
         "id": "DGFSR1FnCJWb_3-uksP4ng",
         "image_url": "https://s3-media4.fl.yelpcdn.com/bphoto/sTGF_MRFc2RbgZf_rUEsAw/o.jpg",
         "is_closed": false,
         "location": {
          "address1": "786 Bush St",
          "address2": "",
          "address3": "",
          "city": "San Francisco",
          "country": "US",
          "display_address": [
           "786 Bush St",
           "San Francisco, CA 94108"
          ],
          "state": "CA",
          "zip_code": "94108"
         },
         "name": "Aliment",
         "phone": "+14158292737",
         "price": "$$",
         "rating": 4,
         "review_count": 626,
         "transactions": [
          "pickup",
          "delivery",
          "restaurant_reservation"
         ],
         "url": "https://www.yelp.com/biz/aliment-san-francisco?adjust_creative=_dYPnK4bOKVDzAJFX1hsFg&utm_campaign=yelp_api_v3&utm_medium=api_v3_business_search&utm_source=_dYPnK4bOKVDzAJFX1hsFg"
        },
        {
         "alias": "e-and-o-kitchen-and-bar-san-francisco",
         "categories": [
          {
           "alias": "asianfusion",
           "title": "Asian Fusion"
          },
          {
           "alias": "venues",
           "title": "Venues & Event Spaces"
          }
         ],
         "coordinates": {
          "latitude": 37.789719,
          "longitude": -122.405846
         },
         "display_phone": "(415) 693-0303",
         "distance": 213.99886143617465,
         "id": "if7l8HVMz7kmW0tG9l2LQA",
         "image_url": "https://s3-media4.fl.yelpcdn.com/bphoto/9CHJxodw65D_f_anIxZdlA/o.jpg",
         "is_closed": false,
         "location": {
          "address1": "314 Sutter St",
          "address2": "",
          "address3": "",
          "city": "San Francisco",
          "country": "US",
          "display_address": [
           "314 Sutter St",
           "San Francisco, CA 94108"
          ],
          "state": "CA",
          "zip_code": "94108"
         },
         "name": "E&O Kitchen and Bar",
         "phone": "+14156930303",
         "price": "$$",
         "rating": 4,
         "review_count": 1072,
         "transactions": [
          "delivery"
         ],
         "url": "https://www.yelp.com/biz/e-and-o-kitchen-and-bar-san-francisco?adjust_creative=_dYPnK4bOKVDzAJFX1hsFg&utm_campaign=yelp_api_v3&utm_medium=api_v3_business_search&utm_source=_dYPnK4bOKVDzAJFX1hsFg"
        },
        {
         "alias": "kin-khao-san-francisco-2",
         "categories": [
          {
           "alias": "thai",
           "title": "Thai"
          }
         ],
         "coordinates": {
          "latitude": 37.7852278803726,
          "longitude": -122.409348137336
         },
         "display_phone": "(415) 362-7456",
         "distance": 375.9131323116076,
         "id": "kqk5BoCJU59MC9fH0IB4wQ",
         "image_url": "https://s3-media1.fl.yelpcdn.com/bphoto/zHz6-HG5XuXSZJq2FvNmsQ/o.jpg",
         "is_closed": false,
         "location": {
          "address1": "55 Cyril Magnin St",
          "address2": null,
          "address3": "",
          "city": "San Francisco",
          "country": "US",
          "display_address": [
           "55 Cyril Magnin St",
           "San Francisco, CA 94102"
          ],
          "state": "CA",
          "zip_code": "94102"
         },
         "name": "Kin Khao",
         "phone": "+14153627456",
         "price": "$$",
         "rating": 4,
         "review_count": 2139,
         "transactions": [
          "delivery"
         ],
         "url": "https://www.yelp.com/biz/kin-khao-san-francisco-2?adjust_creative=_dYPnK4bOKVDzAJFX1hsFg&utm_campaign=yelp_api_v3&utm_medium=api_v3_business_search&utm_source=_dYPnK4bOKVDzAJFX1hsFg"
        },
        {
         "alias": "hogwash-san-francisco",
         "categories": [
          {
           "alias": "gastropubs",
           "title": "Gastropubs"
          },
          {
           "alias": "beerbar",
           "title": "Beer Bar"
          }
         ],
         "coordinates": {
          "latitude": 37.7891754,
          "longitude": -122.4099292
         },
         "display_phone": "(415) 361-5500",
         "distance": 245.34147285626887,
         "id": "t5OypGYSwYIXKjkEQx3BNw",
         "image_url": "https://s3-media4.fl.yelpcdn.com/bphoto/_NOkpA8lzI6pohNf_MBlag/o.jpg",
         "is_closed": false,
         "location": {
          "address1": "582 Sutter St",
          "address2": "",
          "address3": "",
          "city": "San Francisco",
          "country": "US",
          "display_address": [
           "582 Sutter St",
           "San Francisco, CA 94102"
          ],
          "state": "CA",
          "zip_code": "94102"
         },
         "name": "Hogwash",
         "phone": "+14153615500",
         "price": "$$",
         "rating": 4.5,
         "review_count": 1051,
         "transactions": [
          "delivery"
         ],
         "url": "https://www.yelp.com/biz/hogwash-san-francisco?adjust_creative=_dYPnK4bOKVDzAJFX1hsFg&utm_campaign=yelp_api_v3&utm_medium=api_v3_business_search&utm_source=_dYPnK4bOKVDzAJFX1hsFg"
        },
        {
         "alias": "ryokos-san-francisco",
         "categories": [
          {
           "alias": "sushi",
           "title": "Sushi Bars"
          },
          {
           "alias": "japanese",
           "title": "Japanese"
          },
          {
           "alias": "bars",
           "title": "Bars"
          }
         ],
         "coordinates": {
          "latitude": 37.7881987776243,
          "longitude": -122.412059158087
         },
         "display_phone": "(415) 775-1028",
         "distance": 409.30774505281295,
         "id": "mydKjdG8gJOcRQ9cZwkQpQ",
         "image_url": "https://s3-media3.fl.yelpcdn.com/bphoto/w3i_dVIjGTyIeiYXUzumkA/o.jpg",
         "is_closed": false,
         "location": {
          "address1": "619 Taylor St",
          "address2": "",
          "address3": "",
          "city": "San Francisco",
          "country": "US",
          "display_address": [
           "619 Taylor St",
           "San Francisco, CA 94102"
          ],
          "state": "CA",
          "zip_code": "94102"
         },
         "name": "Ryoko's",
         "phone": "+14157751028",
         "price": "$$",
         "rating": 4,
         "review_count": 3016,
         "transactions": [
          "delivery"
         ],
         "url": "https://www.yelp.com/biz/ryokos-san-francisco?adjust_creative=_dYPnK4bOKVDzAJFX1hsFg&utm_campaign=yelp_api_v3&utm_medium=api_v3_business_search&utm_source=_dYPnK4bOKVDzAJFX1hsFg"
        },
        {
         "alias": "fifth-arrow-san-francisco-2",
         "categories": [
          {
           "alias": "newamerican",
           "title": "American (New)"
          },
          {
           "alias": "cocktailbars",
           "title": "Cocktail Bars"
          },
          {
           "alias": "bowling",
           "title": "Bowling"
          }
         ],
         "coordinates": {
          "latitude": 37.78756,
          "longitude": -122.40959
         },
         "display_phone": "(415) 872-5744",
         "distance": 223.00095800522547,
         "id": "RWOXlFAOGpVa1Pzo_SjhdA",
         "image_url": "https://s3-media3.fl.yelpcdn.com/bphoto/0lzR-u6EN6DgVBwFeiWVFQ/o.jpg",
         "is_closed": false,
         "location": {
          "address1": "430 Mason St",
          "address2": "",
          "address3": null,
          "city": "San Francisco",
          "country": "US",
          "display_address": [
           "430 Mason St",
           "San Francisco, CA 94102"
          ],
          "state": "CA",
          "zip_code": "94102"
         },
         "name": "Fifth Arrow",
         "phone": "+14158725744",
         "price": "$$",
         "rating": 4.5,
         "review_count": 90,
         "transactions": [
          "delivery",
          "restaurant_reservation"
         ],
         "url": "https://www.yelp.com/biz/fifth-arrow-san-francisco-2?adjust_creative=_dYPnK4bOKVDzAJFX1hsFg&utm_campaign=yelp_api_v3&utm_medium=api_v3_business_search&utm_source=_dYPnK4bOKVDzAJFX1hsFg"
        },
        {
         "alias": "the-bird-san-francisco",
         "categories": [
          {
           "alias": "chickenshop",
           "title": "Chicken Shop"
          },
          {
           "alias": "sandwiches",
           "title": "Sandwiches"
          }
         ],
         "coordinates": {
          "latitude": 37.78724,
          "longitude": -122.39995
         },
         "display_phone": "(415) 872-9825",
         "distance": 651.2174551503323,
         "id": "WOVHQYzSAdyXYOiYDTmujQ",
         "image_url": "https://s3-media1.fl.yelpcdn.com/bphoto/swsVh8zitzh6gipKB4zaUA/o.jpg",
         "is_closed": false,
         "location": {
          "address1": "115 New Montgomery St",
          "address2": null,
          "address3": "",
          "city": "San Francisco",
          "country": "US",
          "display_address": [
           "115 New Montgomery St",
           "San Francisco, CA 94105"
          ],
          "state": "CA",
          "zip_code": "94105"
         },
         "name": "The Bird",
         "phone": "+14158729825",
         "price": "$",
         "rating": 4,
         "review_count": 1956,
         "transactions": [
          "delivery"
         ],
         "url": "https://www.yelp.com/biz/the-bird-san-francisco?adjust_creative=_dYPnK4bOKVDzAJFX1hsFg&utm_campaign=yelp_api_v3&utm_medium=api_v3_business_search&utm_source=_dYPnK4bOKVDzAJFX1hsFg"
        },
        {
         "alias": "matador-san-francisco-2",
         "categories": [
          {
           "alias": "mexican",
           "title": "Mexican"
          },
          {
           "alias": "cocktailbars",
           "title": "Cocktail Bars"
          }
         ],
         "coordinates": {
          "latitude": 37.78873,
          "longitude": -122.41149
         },
         "display_phone": "(415) 923-8146",
         "distance": 363.080785231294,
         "id": "9LwoAkemycBPpO08wqU7SA",
         "image_url": "https://s3-media3.fl.yelpcdn.com/bphoto/0iXpzQAzmGR246ZKOnQacg/o.jpg",
         "is_closed": false,
         "location": {
          "address1": "679 Sutter St",
          "address2": "",
          "address3": "",
          "city": "San Francisco",
          "country": "US",
          "display_address": [
           "679 Sutter St",
           "San Francisco, CA 94102"
          ],
          "state": "CA",
          "zip_code": "94102"
         },
         "name": "Matador",
         "phone": "+14159238146",
         "price": "$$",
         "rating": 4,
         "review_count": 634,
         "transactions": [
          "pickup",
          "delivery"
         ],
         "url": "https://www.yelp.com/biz/matador-san-francisco-2?adjust_creative=_dYPnK4bOKVDzAJFX1hsFg&utm_campaign=yelp_api_v3&utm_medium=api_v3_business_search&utm_source=_dYPnK4bOKVDzAJFX1hsFg"
        },
        {
         "alias": "hops-and-hominy-san-francisco",
         "categories": [
          {
           "alias": "southern",
           "title": "Southern"
          },
          {
           "alias": "tradamerican",
           "title": "American (Traditional)"
          },
          {
           "alias": "bars",
           "title": "Bars"
          }
         ],
         "coordinates": {
          "latitude": 37.789312,
          "longitude": -122.405731
         },
         "display_phone": "(415) 373-6341",
         "distance": 189.22418081040058,
         "id": "AoxdFkE06fQs_ZP0S0VRPw",
         "image_url": "https://s3-media3.fl.yelpcdn.com/bphoto/4Z6aoVQ3fnpxdtKZyue1Ww/o.jpg",
         "is_closed": false,
         "location": {
          "address1": "1 Tillman Pl",
          "address2": "",
          "address3": "",
          "city": "San Francisco",
          "country": "US",
          "display_address": [
           "1 Tillman Pl",
           "San Francisco, CA 94108"
          ],
          "state": "CA",
          "zip_code": "94108"
         },
         "name": "Hops & Hominy",
         "phone": "+14153736341",
         "price": "$$",
         "rating": 4,
         "review_count": 2112,
         "transactions": [
          "pickup",
          "delivery"
         ],
         "url": "https://www.yelp.com/biz/hops-and-hominy-san-francisco?adjust_creative=_dYPnK4bOKVDzAJFX1hsFg&utm_campaign=yelp_api_v3&utm_medium=api_v3_business_search&utm_source=_dYPnK4bOKVDzAJFX1hsFg"
        },
        {
         "alias": "happy-lamb-hot-pot-san-francisco-2",
         "categories": [
          {
           "alias": "hotpot",
           "title": "Hot Pot"
          },
          {
           "alias": "chinese",
           "title": "Chinese"
          }
         ],
         "coordinates": {
          "latitude": 37.787367,
          "longitude": -122.410103
         },
         "display_phone": "(415) 673-9919",
         "distance": 256.3957826796357,
         "id": "6Ux8vMV2-jd6rRR_bnTvfg",
         "image_url": "https://s3-media2.fl.yelpcdn.com/bphoto/yfWN9B_SCIG0wa7wnhGqKg/o.jpg",
         "is_closed": false,
         "location": {
          "address1": "405 Mason St",
          "address2": "",
          "address3": "",
          "city": "San Francisco",
          "country": "US",
          "display_address": [
           "405 Mason St",
           "San Francisco, CA 94102"
          ],
          "state": "CA",
          "zip_code": "94102"
         },
         "name": "Happy Lamb Hot Pot",
         "phone": "+14156739919",
         "price": "$$",
         "rating": 4,
         "review_count": 602,
         "transactions": [
          "pickup",
          "delivery"
         ],
         "url": "https://www.yelp.com/biz/happy-lamb-hot-pot-san-francisco-2?adjust_creative=_dYPnK4bOKVDzAJFX1hsFg&utm_campaign=yelp_api_v3&utm_medium=api_v3_business_search&utm_source=_dYPnK4bOKVDzAJFX1hsFg"
        },
        {
         "alias": "sam-wo-restaurant-san-francisco-3",
         "categories": [
          {
           "alias": "chinese",
           "title": "Chinese"
          }
         ],
         "coordinates": {
          "latitude": 37.7942543029785,
          "longitude": -122.405113220215
         },
         "display_phone": "(415) 989-8898",
         "distance": 696.8562806377363,
         "id": "Z_X0WvSmh9DUxBD9xhet9Q",
         "image_url": "https://s3-media1.fl.yelpcdn.com/bphoto/DvRtrIbSljZLJ3ulyw9qIg/o.jpg",
         "is_closed": false,
         "location": {
          "address1": "713 Clay St",
          "address2": "",
          "address3": "",
          "city": "San Francisco",
          "country": "US",
          "display_address": [
           "713 Clay St",
           "San Francisco, CA 94108"
          ],
          "state": "CA",
          "zip_code": "94108"
         },
         "name": "Sam Wo Restaurant",
         "phone": "+14159898898",
         "price": "$",
         "rating": 4,
         "review_count": 1090,
         "transactions": [
          "pickup",
          "delivery"
         ],
         "url": "https://www.yelp.com/biz/sam-wo-restaurant-san-francisco-3?adjust_creative=_dYPnK4bOKVDzAJFX1hsFg&utm_campaign=yelp_api_v3&utm_medium=api_v3_business_search&utm_source=_dYPnK4bOKVDzAJFX1hsFg"
        },
        {
         "alias": "bota-tapas-and-paella-bar-san-francisco-3",
         "categories": [
          {
           "alias": "spanish",
           "title": "Spanish"
          },
          {
           "alias": "seafood",
           "title": "Seafood"
          },
          {
           "alias": "tapasmallplates",
           "title": "Tapas/Small Plates"
          }
         ],
         "coordinates": {
          "latitude": 37.786985807903,
          "longitude": -122.411396958251
         },
         "display_phone": "(415) 345-2303",
         "distance": 377.7086157727181,
         "id": "2H4HtGBwT8KRfUuWmE3uAg",
         "image_url": "https://s3-media2.fl.yelpcdn.com/bphoto/JCewCTpRiuKVusB_-OQN5g/o.jpg",
         "is_closed": false,
         "location": {
          "address1": "490 Geary St",
          "address2": null,
          "address3": null,
          "city": "San Francisco",
          "country": "US",
          "display_address": [
           "490 Geary St",
           "San Francisco, CA 94102"
          ],
          "state": "CA",
          "zip_code": "94102"
         },
         "name": "Bota Tapas & Paella Bar",
         "phone": "+14153452303",
         "price": "$$$",
         "rating": 4,
         "review_count": 287,
         "transactions": [
          "pickup",
          "delivery",
          "restaurant_reservation"
         ],
         "url": "https://www.yelp.com/biz/bota-tapas-and-paella-bar-san-francisco-3?adjust_creative=_dYPnK4bOKVDzAJFX1hsFg&utm_campaign=yelp_api_v3&utm_medium=api_v3_business_search&utm_source=_dYPnK4bOKVDzAJFX1hsFg"
        },
        {
         "alias": "rooster-and-rice-san-francisco-8",
         "categories": [
          {
           "alias": "thai",
           "title": "Thai"
          }
         ],
         "coordinates": {
          "latitude": 37.78923,
          "longitude": -122.40404
         },
         "display_phone": "(415) 705-1500",
         "distance": 323.5173705568794,
         "id": "UqTdHGPBx730m5D51EOI6Q",
         "image_url": "https://s3-media1.fl.yelpcdn.com/bphoto/5wkmih3ycmQEjmS29BB4dw/o.jpg",
         "is_closed": false,
         "location": {
          "address1": "125 Kearny St",
          "address2": "",
          "address3": null,
          "city": "San Francisco",
          "country": "US",
          "display_address": [
           "125 Kearny St",
           "San Francisco, CA 94108"
          ],
          "state": "CA",
          "zip_code": "94108"
         },
         "name": "Rooster & Rice",
         "phone": "+14157051500",
         "price": "$$",
         "rating": 4,
         "review_count": 350,
         "transactions": [
          "pickup",
          "delivery"
         ],
         "url": "https://www.yelp.com/biz/rooster-and-rice-san-francisco-8?adjust_creative=_dYPnK4bOKVDzAJFX1hsFg&utm_campaign=yelp_api_v3&utm_medium=api_v3_business_search&utm_source=_dYPnK4bOKVDzAJFX1hsFg"
        },
        {
         "alias": "amami-san-francisco-3",
         "categories": [
          {
           "alias": "ramen",
           "title": "Ramen"
          },
          {
           "alias": "noodles",
           "title": "Noodles"
          }
         ],
         "coordinates": {
          "latitude": 37.78541,
          "longitude": -122.42473
         },
         "display_phone": "(415) 829-2424",
         "distance": 289.00472539671614,
         "id": "LshJ8ZFwvhvm3FDzLdYNNQ",
         "image_url": "https://s3-media2.fl.yelpcdn.com/bphoto/P8yi2syP8w__lQHJBiBGUA/o.jpg",
         "is_closed": false,
         "location": {
          "address1": "430 Geary Blvd",
          "address2": "",
          "address3": null,
          "city": "San Francisco",
          "country": "US",
          "display_address": [
           "430 Geary Blvd",
           "San Francisco, CA 94102"
          ],
          "state": "CA",
          "zip_code": "94102"
         },
         "name": "Amami",
         "phone": "+14158292424",
         "price": "$$",
         "rating": 4,
         "review_count": 209,
         "transactions": [
          "delivery"
         ],
         "url": "https://www.yelp.com/biz/amami-san-francisco-3?adjust_creative=_dYPnK4bOKVDzAJFX1hsFg&utm_campaign=yelp_api_v3&utm_medium=api_v3_business_search&utm_source=_dYPnK4bOKVDzAJFX1hsFg"
        },
        {
         "alias": "akikos-restaurant-san-francisco",
         "categories": [
          {
           "alias": "sushi",
           "title": "Sushi Bars"
          },
          {
           "alias": "japanese",
           "title": "Japanese"
          }
         ],
         "coordinates": {
          "latitude": 37.790582,
          "longitude": -122.404653
         },
         "display_phone": "(415) 397-3218",
         "distance": 355.3229148177424,
         "id": "IRD_9JUjR-06zztisuTdAA",
         "image_url": "https://s3-media2.fl.yelpcdn.com/bphoto/XJBfe68tQbZeueKmOgYJIw/o.jpg",
         "is_closed": false,
         "location": {
          "address1": "431 Bush St",
          "address2": "",
          "address3": "",
          "city": "San Francisco",
          "country": "US",
          "display_address": [
           "431 Bush St",
           "San Francisco, CA 94108"
          ],
          "state": "CA",
          "zip_code": "94108"
         },
         "name": "Akiko's Restaurant",
         "phone": "+14153973218",
         "price": "$$$",
         "rating": 4,
         "review_count": 1903,
         "transactions": [
          "delivery"
         ],
         "url": "https://www.yelp.com/biz/akikos-restaurant-san-francisco?adjust_creative=_dYPnK4bOKVDzAJFX1hsFg&utm_campaign=yelp_api_v3&utm_medium=api_v3_business_search&utm_source=_dYPnK4bOKVDzAJFX1hsFg"
        },
        {
         "alias": "urban-tavern-san-francisco-5",
         "categories": [
          {
           "alias": "newamerican",
           "title": "American (New)"
          },
          {
           "alias": "gastropubs",
           "title": "Gastropubs"
          }
         ],
         "coordinates": {
          "latitude": 37.78564,
          "longitude": -122.41041
         },
         "display_phone": "(415) 923-4400",
         "distance": 386.5805284112375,
         "id": "oSdTHO7X-_UdDErz9AjR6w",
         "image_url": "https://s3-media4.fl.yelpcdn.com/bphoto/NaRlkC8dM9y5CGTeOZq7qg/o.jpg",
         "is_closed": false,
         "location": {
          "address1": "333 O'Farrell St",
          "address2": "",
          "address3": "Hilton - San Francisco Union Square",
          "city": "San Francisco",
          "country": "US",
          "display_address": [
           "333 O'Farrell St",
           "Hilton - San Francisco Union Square",
           "San Francisco, CA 94102"
          ],
          "state": "CA",
          "zip_code": "94102"
         },
         "name": "Urban Tavern",
         "phone": "+14159234400",
         "price": "$$",
         "rating": 4,
         "review_count": 275,
         "transactions": [],
         "url": "https://www.yelp.com/biz/urban-tavern-san-francisco-5?adjust_creative=_dYPnK4bOKVDzAJFX1hsFg&utm_campaign=yelp_api_v3&utm_medium=api_v3_business_search&utm_source=_dYPnK4bOKVDzAJFX1hsFg"
        },
        {
         "alias": "la-fusión-san-francisco-2",
         "categories": [
          {
           "alias": "latin",
           "title": "Latin American"
          },
          {
           "alias": "comfortfood",
           "title": "Comfort Food"
          },
          {
           "alias": "peruvian",
           "title": "Peruvian"
          }
         ],
         "coordinates": {
          "latitude": 37.7916357455614,
          "longitude": -122.403691572642
         },
         "display_phone": "(415) 781-0894",
         "distance": 499.0013861950524,
         "id": "DLpHmXitZxDLdqTwydUSdA",
         "image_url": "https://s3-media2.fl.yelpcdn.com/bphoto/oRfx291jFQc0ZhfLjIOY3w/o.jpg",
         "is_closed": false,
         "location": {
          "address1": "475 Pine St",
          "address2": "",
          "address3": "",
          "city": "San Francisco",
          "country": "US",
          "display_address": [
           "475 Pine St",
           "San Francisco, CA 94104"
          ],
          "state": "CA",
          "zip_code": "94104"
         },
         "name": "La Fusión",
         "phone": "+14157810894",
         "price": "$$",
         "rating": 4.5,
         "review_count": 1117,
         "transactions": [
          "delivery"
         ],
         "url": "https://www.yelp.com/biz/la-fusi%C3%B3n-san-francisco-2?adjust_creative=_dYPnK4bOKVDzAJFX1hsFg&utm_campaign=yelp_api_v3&utm_medium=api_v3_business_search&utm_source=_dYPnK4bOKVDzAJFX1hsFg"
        },
        {
         "alias": "707-sutter-san-francisco",
         "categories": [
          {
           "alias": "korean",
           "title": "Korean"
          }
         ],
         "coordinates": {
          "latitude": 37.7886616504901,
          "longitude": -122.412151023746
         },
         "display_phone": "(415) 346-7979",
         "distance": 420.0024202606373,
         "id": "prl4rkVXnSj2eVUFv-VZqw",
         "image_url": "https://s3-media3.fl.yelpcdn.com/bphoto/LMU7EA0RwrM-l_vB4tcLJw/o.jpg",
         "is_closed": false,
         "location": {
          "address1": "707 Sutter St",
          "address2": "",
          "address3": "",
          "city": "San Francisco",
          "country": "US",
          "display_address": [
           "707 Sutter St",
           "San Francisco, CA 94109"
          ],
          "state": "CA",
          "zip_code": "94109"
         },
         "name": "707 Sutter",
         "phone": "+14153467979",
         "price": "$$",
         "rating": 4,
         "review_count": 731,
         "transactions": [
          "pickup",
          "delivery"
         ],
         "url": "https://www.yelp.com/biz/707-sutter-san-francisco?adjust_creative=_dYPnK4bOKVDzAJFX1hsFg&utm_campaign=yelp_api_v3&utm_medium=api_v3_business_search&utm_source=_dYPnK4bOKVDzAJFX1hsFg"
        },
        {
         "alias": "lapisara-eatery-san-francisco-2",
         "categories": [
          {
           "alias": "breakfast_brunch",
           "title": "Breakfast & Brunch"
          },
          {
           "alias": "burgers",
           "title": "Burgers"
          },
          {
           "alias": "thai",
           "title": "Thai"
          }
         ],
         "coordinates": {
          "latitude": 37.7878344,
          "longitude": -122.4131853
         },
         "display_phone": "(415) 655-3556",
         "distance": 509.701545670574,
         "id": "0mNzmmh1mrdh5Cpg2QUBiw",
         "image_url": "https://s3-media1.fl.yelpcdn.com/bphoto/CwnqAaloDtahKb1oYY-Ktg/o.jpg",
         "is_closed": false,
         "location": {
          "address1": "698 Post St",
          "address2": null,
          "address3": "",
          "city": "San Francisco",
          "country": "US",
          "display_address": [
           "698 Post St",
           "San Francisco, CA 94109"
          ],
          "state": "CA",
          "zip_code": "94109"
         },
         "name": "Lapisara Eatery",
         "phone": "+14156553556",
         "price": "$$",
         "rating": 4.5,
         "review_count": 817,
         "transactions": [
          "pickup",
          "delivery"
         ],
         "url": "https://www.yelp.com/biz/lapisara-eatery-san-francisco-2?adjust_creative=_dYPnK4bOKVDzAJFX1hsFg&utm_campaign=yelp_api_v3&utm_medium=api_v3_business_search&utm_source=_dYPnK4bOKVDzAJFX1hsFg"
        },
        {
         "alias": "del-popolo-san-francisco-3",
         "categories": [
          {
           "alias": "pizza",
           "title": "Pizza"
          }
         ],
         "coordinates": {
          "latitude": 37.789627,
          "longitude": -122.411374
         },
         "display_phone": "(415) 589-7940",
         "distance": 381.70287208417216,
         "id": "H2IZSqvr71k9-tBn91mgrA",
         "image_url": "https://s3-media1.fl.yelpcdn.com/bphoto/PtpsPU-o2OVEbDjnDsV7yQ/o.jpg",
         "is_closed": false,
         "location": {
          "address1": "855 Bush St",
          "address2": "",
          "address3": "",
          "city": "San Francisco",
          "country": "US",
          "display_address": [
           "855 Bush St",
           "San Francisco, CA 94108"
          ],
          "state": "CA",
          "zip_code": "94108"
         },
         "name": "Del Popolo",
         "phone": "+14155897940",
         "price": "$$",
         "rating": 4,
         "review_count": 470,
         "transactions": [
          "pickup",
          "delivery"
         ],
         "url": "https://www.yelp.com/biz/del-popolo-san-francisco-3?adjust_creative=_dYPnK4bOKVDzAJFX1hsFg&utm_campaign=yelp_api_v3&utm_medium=api_v3_business_search&utm_source=_dYPnK4bOKVDzAJFX1hsFg"
        },
        {
         "alias": "super-duper-burgers-san-francisco-3",
         "categories": [
          {
           "alias": "burgers",
           "title": "Burgers"
          },
          {
           "alias": "tradamerican",
           "title": "American (Traditional)"
          }
         ],
         "coordinates": {
          "latitude": 37.786953,
          "longitude": -122.403992
         },
         "display_phone": "(415) 407-8014",
         "distance": 331.9600064038388,
         "id": "zjlwTVZOyCU8OzzUPEavQQ",
         "image_url": "https://s3-media4.fl.yelpcdn.com/bphoto/cIH_FO2pXX0fXir4LGebxQ/o.jpg",
         "is_closed": false,
         "location": {
          "address1": "721 Market St",
          "address2": "",
          "address3": "",
          "city": "San Francisco",
          "country": "US",
          "display_address": [
           "721 Market St",
           "San Francisco, CA 94103"
          ],
          "state": "CA",
          "zip_code": "94103"
         },
         "name": "Super Duper Burgers",
         "phone": "+14154078014",
         "price": "$$",
         "rating": 4,
         "review_count": 2761,
         "transactions": [
          "delivery"
         ],
         "url": "https://www.yelp.com/biz/super-duper-burgers-san-francisco-3?adjust_creative=_dYPnK4bOKVDzAJFX1hsFg&utm_campaign=yelp_api_v3&utm_medium=api_v3_business_search&utm_source=_dYPnK4bOKVDzAJFX1hsFg"
        },
        {
         "alias": "aria-korean-street-food-san-francisco",
         "categories": [
          {
           "alias": "korean",
           "title": "Korean"
          },
          {
           "alias": "tapasmallplates",
           "title": "Tapas/Small Plates"
          },
          {
           "alias": "chickenshop",
           "title": "Chicken Shop"
          }
         ],
         "coordinates": {
          "latitude": 37.78655,
          "longitude": -122.41795
         },
         "display_phone": "(415) 292-6914",
         "distance": 948.6509299817731,
         "id": "KA-P3d2NcbJy5SQN-vCzPA",
         "image_url": "https://s3-media1.fl.yelpcdn.com/bphoto/GLvMxRbJGeeEs5PR6h7ucQ/o.jpg",
         "is_closed": false,
         "location": {
          "address1": "932 Larkin St",
          "address2": "",
          "address3": "",
          "city": "San Francisco",
          "country": "US",
          "display_address": [
           "932 Larkin St",
           "San Francisco, CA 94109"
          ],
          "state": "CA",
          "zip_code": "94109"
         },
         "name": "Aria Korean Street Food",
         "phone": "+14152926914",
         "price": "$$",
         "rating": 4,
         "review_count": 917,
         "transactions": [
          "pickup",
          "delivery"
         ],
         "url": "https://www.yelp.com/biz/aria-korean-street-food-san-francisco?adjust_creative=_dYPnK4bOKVDzAJFX1hsFg&utm_campaign=yelp_api_v3&utm_medium=api_v3_business_search&utm_source=_dYPnK4bOKVDzAJFX1hsFg"
        },
        {
         "alias": "sushirrito-san-francisco-55",
         "categories": [
          {
           "alias": "japanese",
           "title": "Japanese"
          },
          {
           "alias": "sushi",
           "title": "Sushi Bars"
          },
          {
           "alias": "asianfusion",
           "title": "Asian Fusion"
          }
         ],
         "coordinates": {
          "latitude": 37.79019,
          "longitude": -122.40366
         },
         "display_phone": "(415) 544-9868",
         "distance": 387.4397258629015,
         "id": "rMuLW1qVB-deU5NStYerWA",
         "image_url": "https://s3-media1.fl.yelpcdn.com/bphoto/32yNKzjDXawK7XoIdQ74ug/o.jpg",
         "is_closed": false,
         "location": {
          "address1": "226 Kearny St",
          "address2": "",
          "address3": "",
          "city": "San Francisco",
          "country": "US",
          "display_address": [
           "226 Kearny St",
           "San Francisco, CA 94108"
          ],
          "state": "CA",
          "zip_code": "94108"
         },
         "name": "Sushirrito",
         "phone": "+14155449868",
         "price": "$$",
         "rating": 4,
         "review_count": 1539,
         "transactions": [
          "pickup",
          "delivery"
         ],
         "url": "https://www.yelp.com/biz/sushirrito-san-francisco-55?adjust_creative=_dYPnK4bOKVDzAJFX1hsFg&utm_campaign=yelp_api_v3&utm_medium=api_v3_business_search&utm_source=_dYPnK4bOKVDzAJFX1hsFg"
        },
        {
         "alias": "the-cheesecake-factory-san-francisco-2",
         "categories": [
          {
           "alias": "newamerican",
           "title": "American (New)"
          },
          {
           "alias": "desserts",
           "title": "Desserts"
          }
         ],
         "coordinates": {
          "latitude": 37.7872658401,
          "longitude": -122.407448
         },
         "display_phone": "(415) 391-4444",
         "distance": 108.20568537515543,
         "id": "aSeldMKv9G6_8-gV0bjwvw",
         "image_url": "https://s3-media2.fl.yelpcdn.com/bphoto/nIYDxWlgNejmBgLwbHCt5A/o.jpg",
         "is_closed": false,
         "location": {
          "address1": "251 Geary St",
          "address2": "",
          "address3": "Union Square",
          "city": "San Francisco",
          "country": "US",
          "display_address": [
           "251 Geary St",
           "Union Square",
           "San Francisco, CA 94102"
          ],
          "state": "CA",
          "zip_code": "94102"
         },
         "name": "The Cheesecake Factory",
         "phone": "+14153914444",
         "price": "$$",
         "rating": 3,
         "review_count": 3269,
         "transactions": [],
         "url": "https://www.yelp.com/biz/the-cheesecake-factory-san-francisco-2?adjust_creative=_dYPnK4bOKVDzAJFX1hsFg&utm_campaign=yelp_api_v3&utm_medium=api_v3_business_search&utm_source=_dYPnK4bOKVDzAJFX1hsFg"
        },
        {
         "alias": "liholiho-yacht-club-san-francisco-2",
         "categories": [
          {
           "alias": "bars",
           "title": "Bars"
          },
          {
           "alias": "newamerican",
           "title": "American (New)"
          },
          {
           "alias": "seafood",
           "title": "Seafood"
          }
         ],
         "coordinates": {
          "latitude": 37.78818,
          "longitude": -122.41458
         },
         "display_phone": "(415) 440-5446",
         "distance": 633.00917159011,
         "id": "KkAVX3Wb7E3lP5F_f_8pXg",
         "image_url": "https://s3-media3.fl.yelpcdn.com/bphoto/DXivotp5hwFovHx8Mk8-Lg/o.jpg",
         "is_closed": false,
         "location": {
          "address1": "871 Sutter St",
          "address2": "",
          "address3": "",
          "city": "San Francisco",
          "country": "US",
          "display_address": [
           "871 Sutter St",
           "San Francisco, CA 94109"
          ],
          "state": "CA",
          "zip_code": "94109"
         },
         "name": "Liholiho Yacht Club",
         "phone": "+14154405446",
         "price": "$$$",
         "rating": 4.5,
         "review_count": 2439,
         "transactions": [
          "delivery"
         ],
         "url": "https://www.yelp.com/biz/liholiho-yacht-club-san-francisco-2?adjust_creative=_dYPnK4bOKVDzAJFX1hsFg&utm_campaign=yelp_api_v3&utm_medium=api_v3_business_search&utm_source=_dYPnK4bOKVDzAJFX1hsFg"
        },
        {
         "alias": "izakaya-yoki-san-francisco-2",
         "categories": [
          {
           "alias": "japanese",
           "title": "Japanese"
          },
          {
           "alias": "korean",
           "title": "Korean"
          }
         ],
         "coordinates": {
          "latitude": 37.789884,
          "longitude": -122.412317
         },
         "display_phone": "(415) 923-1141",
         "distance": 469.1029733347691,
         "id": "bUllrq8bcGbn9TKtVcjL-A",
         "image_url": "https://s3-media4.fl.yelpcdn.com/bphoto/D5d41uxYzjmKvSa4_cUALg/o.jpg",
         "is_closed": false,
         "location": {
          "address1": "900 Bush St",
          "address2": "Ste C101",
          "address3": null,
          "city": "San Francisco",
          "country": "US",
          "display_address": [
           "900 Bush St",
           "Ste C101",
           "San Francisco, CA 94109"
          ],
          "state": "CA",
          "zip_code": "94109"
         },
         "name": "Izakaya Yoki",
         "phone": "+14159231141",
         "price": "$$",
         "rating": 4.5,
         "review_count": 215,
         "transactions": [
          "pickup",
          "delivery",
          "restaurant_reservation"
         ],
         "url": "https://www.yelp.com/biz/izakaya-yoki-san-francisco-2?adjust_creative=_dYPnK4bOKVDzAJFX1hsFg&utm_campaign=yelp_api_v3&utm_medium=api_v3_business_search&utm_source=_dYPnK4bOKVDzAJFX1hsFg"
        },
        {
         "alias": "beyond-burma-san-francisco-2",
         "categories": [
          {
           "alias": "burmese",
           "title": "Burmese"
          },
          {
           "alias": "indonesian",
           "title": "Indonesian"
          },
          {
           "alias": "noodles",
           "title": "Noodles"
          }
         ],
         "coordinates": {
          "latitude": 37.78784,
          "longitude": -122.413565
         },
         "display_phone": "(415) 775-1512",
         "distance": 543.4855106140649,
         "id": "__V4jzP3SNrg3_n0QoDmcQ",
         "image_url": "https://s3-media4.fl.yelpcdn.com/bphoto/zB3owMs-Q4eeKQwFspbqFQ/o.jpg",
         "is_closed": false,
         "location": {
          "address1": "700 Post St",
          "address2": "",
          "address3": null,
          "city": "San Francisco",
          "country": "US",
          "display_address": [
           "700 Post St",
           "San Francisco, CA 94109"
          ],
          "state": "CA",
          "zip_code": "94109"
         },
         "name": "Beyond Burma",
         "phone": "+14157751512",
         "price": "$$",
         "rating": 4,
         "review_count": 98,
         "transactions": [
          "pickup",
          "delivery",
          "restaurant_reservation"
         ],
         "url": "https://www.yelp.com/biz/beyond-burma-san-francisco-2?adjust_creative=_dYPnK4bOKVDzAJFX1hsFg&utm_campaign=yelp_api_v3&utm_medium=api_v3_business_search&utm_source=_dYPnK4bOKVDzAJFX1hsFg"
        },
        {
         "alias": "sababa-san-francisco",
         "categories": [
          {
           "alias": "mediterranean",
           "title": "Mediterranean"
          },
          {
           "alias": "mideastern",
           "title": "Middle Eastern"
          },
          {
           "alias": "greek",
           "title": "Greek"
          }
         ],
         "coordinates": {
          "latitude": 37.7911832391356,
          "longitude": -122.404289804399
         },
         "display_phone": "(415) 800-6853",
         "distance": 426.6204277569487,
         "id": "_BDoTBI2YlyUaWFOXBEF8Q",
         "image_url": "https://s3-media1.fl.yelpcdn.com/bphoto/ZJldXjthPCLVjeJi2H1YVg/o.jpg",
         "is_closed": false,
         "location": {
          "address1": "329 Kearny St",
          "address2": "",
          "address3": "",
          "city": "San Francisco",
          "country": "US",
          "display_address": [
           "329 Kearny St",
           "San Francisco, CA 94108"
          ],
          "state": "CA",
          "zip_code": "94108"
         },
         "name": "Sababa",
         "phone": "+14158006853",
         "price": "$$",
         "rating": 4.5,
         "review_count": 342,
         "transactions": [
          "pickup",
          "delivery"
         ],
         "url": "https://www.yelp.com/biz/sababa-san-francisco?adjust_creative=_dYPnK4bOKVDzAJFX1hsFg&utm_campaign=yelp_api_v3&utm_medium=api_v3_business_search&utm_source=_dYPnK4bOKVDzAJFX1hsFg"
        },
        {
         "alias": "one65-bistro-and-grill-san-francisco-2",
         "categories": [
          {
           "alias": "newamerican",
           "title": "American (New)"
          },
          {
           "alias": "french",
           "title": "French"
          },
          {
           "alias": "bars",
           "title": "Bars"
          }
         ],
         "coordinates": {
          "latitude": 37.78638,
          "longitude": -122.40736
         },
         "display_phone": "(415) 814-8888",
         "distance": 221.52380597362367,
         "id": "ohWlEV89ljnbDXAHJM6_GQ",
         "image_url": "https://s3-media1.fl.yelpcdn.com/bphoto/xGADmWeckf9QSELVqKXcbg/o.jpg",
         "is_closed": false,
         "location": {
          "address1": "165 O'Farrell St",
          "address2": "Fl 3",
          "address3": null,
          "city": "San Francisco",
          "country": "US",
          "display_address": [
           "165 O'Farrell St",
           "Fl 3",
           "San Francisco, CA 94102"
          ],
          "state": "CA",
          "zip_code": "94102"
         },
         "name": "ONE65 Bistro & Grill",
         "phone": "+14158148888",
         "price": "$$$",
         "rating": 4.5,
         "review_count": 115,
         "transactions": [
          "pickup",
          "delivery"
         ],
         "url": "https://www.yelp.com/biz/one65-bistro-and-grill-san-francisco-2?adjust_creative=_dYPnK4bOKVDzAJFX1hsFg&utm_campaign=yelp_api_v3&utm_medium=api_v3_business_search&utm_source=_dYPnK4bOKVDzAJFX1hsFg"
        },
        {
         "alias": "gusto-pinsa-romana-san-francisco-4",
         "categories": [
          {
           "alias": "pizza",
           "title": "Pizza"
          },
          {
           "alias": "italian",
           "title": "Italian"
          },
          {
           "alias": "salad",
           "title": "Salad"
          }
         ],
         "coordinates": {
          "latitude": 37.7896740586658,
          "longitude": -122.413919270039
         },
         "display_phone": "(415) 678-5339",
         "distance": 594.5717456358433,
         "id": "3a36_kQBI8dB32Dt2aEEHg",
         "image_url": "https://s3-media1.fl.yelpcdn.com/bphoto/Mz8_apcnqBm01hzlF4URag/o.jpg",
         "is_closed": false,
         "location": {
          "address1": "1000 Bush St",
          "address2": "",
          "address3": null,
          "city": "San Francisco",
          "country": "US",
          "display_address": [
           "1000 Bush St",
           "San Francisco, CA 94109"
          ],
          "state": "CA",
          "zip_code": "94109"
         },
         "name": "Gusto Pinsa Romana",
         "phone": "+14156785339",
         "price": "$$",
         "rating": 5,
         "review_count": 366,
         "transactions": [
          "pickup",
          "delivery"
         ],
         "url": "https://www.yelp.com/biz/gusto-pinsa-romana-san-francisco-4?adjust_creative=_dYPnK4bOKVDzAJFX1hsFg&utm_campaign=yelp_api_v3&utm_medium=api_v3_business_search&utm_source=_dYPnK4bOKVDzAJFX1hsFg"
        },
        {
         "alias": "king-of-thai-noodle-house-san-francisco-3",
         "categories": [
          {
           "alias": "thai",
           "title": "Thai"
          },
          {
           "alias": "noodles",
           "title": "Noodles"
          }
         ],
         "coordinates": {
          "latitude": 37.786599488702,
          "longitude": -122.407743582944
         },
         "display_phone": "(415) 677-9991",
         "distance": 184.68518094459688,
         "id": "udYo3BZ0Y3nR1iOtk58Inw",
         "image_url": "https://s3-media1.fl.yelpcdn.com/bphoto/qAZZW4E4bdxzbHB0-MypYA/o.jpg",
         "is_closed": false,
         "location": {
          "address1": "184 O'Farrell St",
          "address2": null,
          "address3": "",
          "city": "San Francisco",
          "country": "US",
          "display_address": [
           "184 O'Farrell St",
           "San Francisco, CA 94102"
          ],
          "state": "CA",
          "zip_code": "94102"
         },
         "name": "King Of Thai Noodle House",
         "phone": "+14156779991",
         "price": "$$",
         "rating": 3.5,
         "review_count": 1881,
         "transactions": [
          "pickup",
          "delivery"
         ],
         "url": "https://www.yelp.com/biz/king-of-thai-noodle-house-san-francisco-3?adjust_creative=_dYPnK4bOKVDzAJFX1hsFg&utm_campaign=yelp_api_v3&utm_medium=api_v3_business_search&utm_source=_dYPnK4bOKVDzAJFX1hsFg"
        },
        {
         "alias": "the-thonglor-san-francisco-2",
         "categories": [
          {
           "alias": "thai",
           "title": "Thai"
          },
          {
           "alias": "desserts",
           "title": "Desserts"
          },
          {
           "alias": "soup",
           "title": "Soup"
          }
         ],
         "coordinates": {
          "latitude": 37.78726,
          "longitude": -122.41038
         },
         "display_phone": "(415) 346-3121",
         "distance": 282.3727164685165,
         "id": "VNkYnTGhOYw-IzuKA_msHg",
         "image_url": "https://s3-media4.fl.yelpcdn.com/bphoto/N91H4wB9_CHDzN4flsQ76g/o.jpg",
         "is_closed": false,
         "location": {
          "address1": "420 Geary St",
          "address2": null,
          "address3": "",
          "city": "San Francisco",
          "country": "US",
          "display_address": [
           "420 Geary St",
           "San Francisco, CA 94102"
          ],
          "state": "CA",
          "zip_code": "94102"
         },
         "name": "The Thonglor",
         "phone": "+14153463121",
         "price": "$$",
         "rating": 4,
         "review_count": 91,
         "transactions": [
          "pickup",
          "delivery"
         ],
         "url": "https://www.yelp.com/biz/the-thonglor-san-francisco-2?adjust_creative=_dYPnK4bOKVDzAJFX1hsFg&utm_campaign=yelp_api_v3&utm_medium=api_v3_business_search&utm_source=_dYPnK4bOKVDzAJFX1hsFg"
        },
        {
         "alias": "la-marsa-san-francisco",
         "categories": [
          {
           "alias": "wine_bars",
           "title": "Wine Bars"
          },
          {
           "alias": "mediterranean",
           "title": "Mediterranean"
          }
         ],
         "coordinates": {
          "latitude": 37.7871734,
          "longitude": -122.4107772
         },
         "display_phone": "(415) 872-9767",
         "distance": 318.44297439558363,
         "id": "nRxk-JSF_rq1RKqrTfcgRg",
         "image_url": "https://s3-media3.fl.yelpcdn.com/bphoto/Z_CY6M6sUtRGPiGswN5R7w/o.jpg",
         "is_closed": false,
         "location": {
          "address1": "454 Geary St",
          "address2": "",
          "address3": null,
          "city": "San Francisco",
          "country": "US",
          "display_address": [
           "454 Geary St",
           "San Francisco, CA 94102"
          ],
          "state": "CA",
          "zip_code": "94102"
         },
         "name": "La Marsa",
         "phone": "+14158729767",
         "price": "$$",
         "rating": 4.5,
         "review_count": 231,
         "transactions": [
          "pickup",
          "delivery"
         ],
         "url": "https://www.yelp.com/biz/la-marsa-san-francisco?adjust_creative=_dYPnK4bOKVDzAJFX1hsFg&utm_campaign=yelp_api_v3&utm_medium=api_v3_business_search&utm_source=_dYPnK4bOKVDzAJFX1hsFg"
        },
        {
         "alias": "orens-hummus-san-francisco",
         "categories": [
          {
           "alias": "mediterranean",
           "title": "Mediterranean"
          },
          {
           "alias": "mideastern",
           "title": "Middle Eastern"
          }
         ],
         "coordinates": {
          "latitude": 37.7866074,
          "longitude": -122.4021922
         },
         "display_phone": "(415) 915-6736",
         "distance": 480.7935800122428,
         "id": "56gj15LDt8mcDIeKCbu-tg",
         "image_url": "https://s3-media2.fl.yelpcdn.com/bphoto/Vk621yuP_J4Qp6_fgC0xCQ/o.jpg",
         "is_closed": false,
         "location": {
          "address1": "71 3rd St",
          "address2": "",
          "address3": null,
          "city": "San Francisco",
          "country": "US",
          "display_address": [
           "71 3rd St",
           "San Francisco, CA 94103"
          ],
          "state": "CA",
          "zip_code": "94103"
         },
         "name": "Oren's Hummus",
         "phone": "+14159156736",
         "price": "$$",
         "rating": 4,
         "review_count": 663,
         "transactions": [
          "pickup",
          "delivery",
          "restaurant_reservation"
         ],
         "url": "https://www.yelp.com/biz/orens-hummus-san-francisco?adjust_creative=_dYPnK4bOKVDzAJFX1hsFg&utm_campaign=yelp_api_v3&utm_medium=api_v3_business_search&utm_source=_dYPnK4bOKVDzAJFX1hsFg"
        },
        {
         "alias": "ippudo-san-francisco-san-francisco-3",
         "categories": [
          {
           "alias": "ramen",
           "title": "Ramen"
          },
          {
           "alias": "noodles",
           "title": "Noodles"
          },
          {
           "alias": "soup",
           "title": "Soup"
          }
         ],
         "coordinates": {
          "latitude": 37.785942,
          "longitude": -122.404501
         },
         "display_phone": "(415) 348-1202",
         "distance": 360.7850174133191,
         "id": "aP8bXfX6FzBnhZhQMmC08g",
         "image_url": "https://s3-media2.fl.yelpcdn.com/bphoto/SE7nWXAFunjmSGNHVNyDFQ/o.jpg",
         "is_closed": false,
         "location": {
          "address1": "18 Yerba Buena Ln",
          "address2": "",
          "address3": null,
          "city": "San Francisco",
          "country": "US",
          "display_address": [
           "18 Yerba Buena Ln",
           "San Francisco, CA 94103"
          ],
          "state": "CA",
          "zip_code": "94103"
         },
         "name": "Ippudo San Francisco",
         "phone": "+14153481202",
         "price": "$$",
         "rating": 3.5,
         "review_count": 995,
         "transactions": [
          "pickup",
          "delivery"
         ],
         "url": "https://www.yelp.com/biz/ippudo-san-francisco-san-francisco-3?adjust_creative=_dYPnK4bOKVDzAJFX1hsFg&utm_campaign=yelp_api_v3&utm_medium=api_v3_business_search&utm_source=_dYPnK4bOKVDzAJFX1hsFg"
        },
        {
         "alias": "bluestem-brasserie-san-francisco",
         "categories": [
          {
           "alias": "brasseries",
           "title": "Brasseries"
          },
          {
           "alias": "steak",
           "title": "Steakhouses"
          },
          {
           "alias": "wine_bars",
           "title": "Wine Bars"
          }
         ],
         "coordinates": {
          "latitude": 37.785985,
          "longitude": -122.404921
         },
         "display_phone": "(415) 547-1111",
         "distance": 332.10521427312176,
         "id": "dhTrfvdlpFE33USafJ3cjQ",
         "image_url": "https://s3-media4.fl.yelpcdn.com/bphoto/wuIxaZbc13GtI9cy2Dfy6g/o.jpg",
         "is_closed": false,
         "location": {
          "address1": "One Yerba Buena Ln",
          "address2": "",
          "address3": "",
          "city": "San Francisco",
          "country": "US",
          "display_address": [
           "One Yerba Buena Ln",
           "San Francisco, CA 94103"
          ],
          "state": "CA",
          "zip_code": "94103"
         },
         "name": "Bluestem Brasserie",
         "phone": "+14155471111",
         "price": "$$$",
         "rating": 4,
         "review_count": 1707,
         "transactions": [
          "pickup",
          "delivery"
         ],
         "url": "https://www.yelp.com/biz/bluestem-brasserie-san-francisco?adjust_creative=_dYPnK4bOKVDzAJFX1hsFg&utm_campaign=yelp_api_v3&utm_medium=api_v3_business_search&utm_source=_dYPnK4bOKVDzAJFX1hsFg"
        },
        {
         "alias": "cocobang-san-francisco",
         "categories": [
          {
           "alias": "korean",
           "title": "Korean"
          }
         ],
         "coordinates": {
          "latitude": 37.78771,
          "longitude": -122.41139
         },
         "display_phone": "(415) 292-5144",
         "distance": 367.48674714075156,
         "id": "jBdCBZc7-ab7c2tpoIEWJw",
         "image_url": "https://s3-media4.fl.yelpcdn.com/bphoto/SyVefsuVXf8gztNBjHsAIA/o.jpg",
         "is_closed": false,
         "location": {
          "address1": "550 Taylor St",
          "address2": null,
          "address3": "",
          "city": "San Francisco",
          "country": "US",
          "display_address": [
           "550 Taylor St",
           "San Francisco, CA 94102"
          ],
          "state": "CA",
          "zip_code": "94102"
         },
         "name": "Cocobang",
         "phone": "+14152925144",
         "price": "$$",
         "rating": 3.5,
         "review_count": 942,
         "transactions": [
          "pickup",
          "delivery"
         ],
         "url": "https://www.yelp.com/biz/cocobang-san-francisco?adjust_creative=_dYPnK4bOKVDzAJFX1hsFg&utm_campaign=yelp_api_v3&utm_medium=api_v3_business_search&utm_source=_dYPnK4bOKVDzAJFX1hsFg"
        },
        {
         "alias": "johnny-foleys-san-francisco",
         "categories": [
          {
           "alias": "irish",
           "title": "Irish"
          },
          {
           "alias": "irish_pubs",
           "title": "Irish Pub"
          }
         ],
         "coordinates": {
          "latitude": 37.786208320674476,
          "longitude": -122.40875366505183
         },
         "display_phone": "(415) 954-0777",
         "distance": 255.08099537330648,
         "id": "7iuGZ73QExZmZuzH9pgiJg",
         "image_url": "https://s3-media1.fl.yelpcdn.com/bphoto/DEU1OGS_F_gvQMkvMmS_zA/o.jpg",
         "is_closed": false,
         "location": {
          "address1": "243 O'Farrell St",
          "address2": "",
          "address3": "",
          "city": "San Francisco",
          "country": "US",
          "display_address": [
           "243 O'Farrell St",
           "San Francisco, CA 94102"
          ],
          "state": "CA",
          "zip_code": "94102"
         },
         "name": "Johnny Foley's",
         "phone": "+14159540777",
         "price": "$$",
         "rating": 4,
         "review_count": 1304,
         "transactions": [
          "delivery"
         ],
         "url": "https://www.yelp.com/biz/johnny-foleys-san-francisco?adjust_creative=_dYPnK4bOKVDzAJFX1hsFg&utm_campaign=yelp_api_v3&utm_medium=api_v3_business_search&utm_source=_dYPnK4bOKVDzAJFX1hsFg"
        },
        {
         "alias": "colibri-mexican-bistro-san-francisco",
         "categories": [
          {
           "alias": "mexican",
           "title": "Mexican"
          },
          {
           "alias": "cocktailbars",
           "title": "Cocktail Bars"
          }
         ],
         "coordinates": {
          "latitude": 37.7871606463558,
          "longitude": -122.410636659841
         },
         "display_phone": "(415) 440-2737",
         "distance": 308.5054124103775,
         "id": "u30abI5AtOKAddJRxUfZTg",
         "image_url": "https://s3-media1.fl.yelpcdn.com/bphoto/R5auHoDH3TjnTlFz5RG2Lw/o.jpg",
         "is_closed": false,
         "location": {
          "address1": "438 Geary St",
          "address2": "",
          "address3": "",
          "city": "San Francisco",
          "country": "US",
          "display_address": [
           "438 Geary St",
           "San Francisco, CA 94102"
          ],
          "state": "CA",
          "zip_code": "94102"
         },
         "name": "Colibri Mexican Bistro",
         "phone": "+14154402737",
         "price": "$$",
         "rating": 4,
         "review_count": 2408,
         "transactions": [
          "pickup",
          "delivery"
         ],
         "url": "https://www.yelp.com/biz/colibri-mexican-bistro-san-francisco?adjust_creative=_dYPnK4bOKVDzAJFX1hsFg&utm_campaign=yelp_api_v3&utm_medium=api_v3_business_search&utm_source=_dYPnK4bOKVDzAJFX1hsFg"
        },
        {
         "alias": "uncle-vitos-pizza-san-francisco",
         "categories": [
          {
           "alias": "pizza",
           "title": "Pizza"
          },
          {
           "alias": "italian",
           "title": "Italian"
          }
         ],
         "coordinates": {
          "latitude": 37.7901919931173,
          "longitude": -122.408970594406
         },
         "display_phone": "(415) 391-5008",
         "distance": 253.82479496536183,
         "id": "MDTJK0mH5Xc14aCwNuMg7Q",
         "image_url": "https://s3-media1.fl.yelpcdn.com/bphoto/1a9Ne6Wq3gjDrCPvscPrXQ/o.jpg",
         "is_closed": false,
         "location": {
          "address1": "700 Bush St",
          "address2": "",
          "address3": "",
          "city": "San Francisco",
          "country": "US",
          "display_address": [
           "700 Bush St",
           "San Francisco, CA 94108"
          ],
          "state": "CA",
          "zip_code": "94108"
         },
         "name": "Uncle Vito's Pizza",
         "phone": "+14153915008",
         "price": "$$",
         "rating": 4,
         "review_count": 1248,
         "transactions": [
          "delivery"
         ],
         "url": "https://www.yelp.com/biz/uncle-vitos-pizza-san-francisco?adjust_creative=_dYPnK4bOKVDzAJFX1hsFg&utm_campaign=yelp_api_v3&utm_medium=api_v3_business_search&utm_source=_dYPnK4bOKVDzAJFX1hsFg"
        },
        {
         "alias": "clock-bar-san-francisco-2",
         "categories": [
          {
           "alias": "lounges",
           "title": "Lounges"
          },
          {
           "alias": "cocktailbars",
           "title": "Cocktail Bars"
          },
          {
           "alias": "tapas",
           "title": "Tapas Bars"
          }
         ],
         "coordinates": {
          "latitude": 37.7876416067758,
          "longitude": -122.408322671329
         },
         "display_phone": "(415) 725-4667",
         "distance": 110.28505601823345,
         "id": "KTPTIUyR5i6pf9WJc5yhqA",
         "image_url": "https://s3-media2.fl.yelpcdn.com/bphoto/YvyhoKrRF-QR_2gUta_MoA/o.jpg",
         "is_closed": false,
         "location": {
          "address1": "335 Powell St",
          "address2": "",
          "address3": null,
          "city": "San Francisco",
          "country": "US",
          "display_address": [
           "335 Powell St",
           "San Francisco, CA 94102"
          ],
          "state": "CA",
          "zip_code": "94102"
         },
         "name": "Clock Bar",
         "phone": "+14157254667",
         "price": "$$",
         "rating": 3.5,
         "review_count": 336,
         "transactions": [],
         "url": "https://www.yelp.com/biz/clock-bar-san-francisco-2?adjust_creative=_dYPnK4bOKVDzAJFX1hsFg&utm_campaign=yelp_api_v3&utm_medium=api_v3_business_search&utm_source=_dYPnK4bOKVDzAJFX1hsFg"
        },
        {
         "alias": "burma-club-san-francisco",
         "categories": [
          {
           "alias": "burmese",
           "title": "Burmese"
          },
          {
           "alias": "cocktailbars",
           "title": "Cocktail Bars"
          }
         ],
         "coordinates": {
          "latitude": 37.782909,
          "longitude": -122.40786
         },
         "display_phone": "(415) 764-4965",
         "distance": 593.9544639917658,
         "id": "Hq5ZJEcEViFYMy3vfN8WTA",
         "image_url": "https://s3-media3.fl.yelpcdn.com/bphoto/-J_2J9qlDwQQKjuSD_zNdg/o.jpg",
         "is_closed": false,
         "location": {
          "address1": "8 Mint Plz",
          "address2": "",
          "address3": null,
          "city": "San Francisco",
          "country": "US",
          "display_address": [
           "8 Mint Plz",
           "San Francisco, CA 94103"
          ],
          "state": "CA",
          "zip_code": "94103"
         },
         "name": "Burma Club",
         "phone": "+14157644965",
         "price": "$$",
         "rating": 4.5,
         "review_count": 156,
         "transactions": [
          "delivery"
         ],
         "url": "https://www.yelp.com/biz/burma-club-san-francisco?adjust_creative=_dYPnK4bOKVDzAJFX1hsFg&utm_campaign=yelp_api_v3&utm_medium=api_v3_business_search&utm_source=_dYPnK4bOKVDzAJFX1hsFg"
        },
        {
         "alias": "takoba-sf-san-francisco",
         "categories": [
          {
           "alias": "japanese",
           "title": "Japanese"
          },
          {
           "alias": "sushi",
           "title": "Sushi Bars"
          }
         ],
         "coordinates": {
          "latitude": 37.78704,
          "longitude": -122.40044
         },
         "display_phone": "(415) 361-0448",
         "distance": 633.9958524861191,
         "id": "U2yLmebQ56po6nt5nKcacw",
         "image_url": "https://s3-media1.fl.yelpcdn.com/bphoto/ZCAVINOqZ0uUL4tiJpILQg/o.jpg",
         "is_closed": false,
         "location": {
          "address1": "138 Minna St",
          "address2": "",
          "address3": "",
          "city": "San Francisco",
          "country": "US",
          "display_address": [
           "138 Minna St",
           "San Francisco, CA 94105"
          ],
          "state": "CA",
          "zip_code": "94105"
         },
         "name": "Takoba SF",
         "phone": "+14153610448",
         "price": "$$",
         "rating": 4,
         "review_count": 543,
         "transactions": [
          "pickup"
         ],
         "url": "https://www.yelp.com/biz/takoba-sf-san-francisco?adjust_creative=_dYPnK4bOKVDzAJFX1hsFg&utm_campaign=yelp_api_v3&utm_medium=api_v3_business_search&utm_source=_dYPnK4bOKVDzAJFX1hsFg"
        },
        {
         "alias": "bin-480-san-francisco",
         "categories": [
          {
           "alias": "newamerican",
           "title": "American (New)"
          },
          {
           "alias": "wine_bars",
           "title": "Wine Bars"
          }
         ],
         "coordinates": {
          "latitude": 37.7894504719277,
          "longitude": -122.408413569312
         },
         "display_phone": "(415) 398-8900",
         "distance": 161.48238762037275,
         "id": "e-7bP_LOcC7kWYU9m-Wo0Q",
         "image_url": "https://s3-media3.fl.yelpcdn.com/bphoto/2EvnJ_BhiNOSjt1qIOS_HA/o.jpg",
         "is_closed": false,
         "location": {
          "address1": "480 Sutter St",
          "address2": "",
          "address3": "",
          "city": "San Francisco",
          "country": "US",
          "display_address": [
           "480 Sutter St",
           "San Francisco, CA 94108"
          ],
          "state": "CA",
          "zip_code": "94108"
         },
         "name": "Bin 480",
         "phone": "+14153988900",
         "price": "$$",
         "rating": 4,
         "review_count": 99,
         "transactions": [
          "delivery"
         ],
         "url": "https://www.yelp.com/biz/bin-480-san-francisco?adjust_creative=_dYPnK4bOKVDzAJFX1hsFg&utm_campaign=yelp_api_v3&utm_medium=api_v3_business_search&utm_source=_dYPnK4bOKVDzAJFX1hsFg"
        },
        {
         "alias": "the-vault-garden-san-francisco-2",
         "categories": [
          {
           "alias": "tradamerican",
           "title": "American (Traditional)"
          },
          {
           "alias": "cocktailbars",
           "title": "Cocktail Bars"
          }
         ],
         "coordinates": {
          "latitude": 37.79226,
          "longitude": -122.40348
         },
         "display_phone": "(415) 508-4675",
         "distance": 539.1048862617212,
         "id": "9Irn4OeTU8mj_BQ2HFQaww",
         "image_url": "https://s3-media2.fl.yelpcdn.com/bphoto/qzfVjXOH-VxSZ1nWNmf9Qg/o.jpg",
         "is_closed": false,
         "location": {
          "address1": "555 California St",
          "address2": null,
          "address3": "",
          "city": "San Francisco",
          "country": "US",
          "display_address": [
           "555 California St",
           "San Francisco, CA 94104"
          ],
          "state": "CA",
          "zip_code": "94104"
         },
         "name": "The Vault Garden",
         "phone": "+14155084675",
         "price": "$$$",
         "rating": 4,
         "review_count": 142,
         "transactions": [
          "delivery"
         ],
         "url": "https://www.yelp.com/biz/the-vault-garden-san-francisco-2?adjust_creative=_dYPnK4bOKVDzAJFX1hsFg&utm_campaign=yelp_api_v3&utm_medium=api_v3_business_search&utm_source=_dYPnK4bOKVDzAJFX1hsFg"
        },
        {
         "alias": "sushi-toni-san-francisco",
         "categories": [
          {
           "alias": "sushi",
           "title": "Sushi Bars"
          },
          {
           "alias": "japanese",
           "title": "Japanese"
          }
         ],
         "coordinates": {
          "latitude": 37.7899648,
          "longitude": -122.4092686
         },
         "display_phone": "(415) 986-8664",
         "distance": 241.3582340123947,
         "id": "TJKx-p5TmGjKE1d9z7kqEg",
         "image_url": "https://s3-media3.fl.yelpcdn.com/bphoto/fAtmTheyoKK96lY6ZKCeaA/o.jpg",
         "is_closed": false,
         "location": {
          "address1": "733 Bush St",
          "address2": "",
          "address3": "",
          "city": "San Francisco",
          "country": "US",
          "display_address": [
           "733 Bush St",
           "San Francisco, CA 94108"
          ],
          "state": "CA",
          "zip_code": "94108"
         },
         "name": "Sushi Toni",
         "phone": "+14159868664",
         "price": "$$",
         "rating": 4,
         "review_count": 635,
         "transactions": [
          "pickup",
          "delivery"
         ],
         "url": "https://www.yelp.com/biz/sushi-toni-san-francisco?adjust_creative=_dYPnK4bOKVDzAJFX1hsFg&utm_campaign=yelp_api_v3&utm_medium=api_v3_business_search&utm_source=_dYPnK4bOKVDzAJFX1hsFg"
        },
        {
         "alias": "chong-qing-xiao-mian-san-francisco",
         "categories": [
          {
           "alias": "noodles",
           "title": "Noodles"
          },
          {
           "alias": "szechuan",
           "title": "Szechuan"
          }
         ],
         "coordinates": {
          "latitude": 37.796386,
          "longitude": -122.4053411
         },
         "display_phone": "(415) 983-0888",
         "distance": 926.8836772455979,
         "id": "8GqReA8EJ3UGRuIFbd9jyQ",
         "image_url": "https://s3-media1.fl.yelpcdn.com/bphoto/j1CwHIaGjPjmj-YkR9LmTw/o.jpg",
         "is_closed": false,
         "location": {
          "address1": "915 Kearny St",
          "address2": "",
          "address3": null,
          "city": "San Francisco",
          "country": "US",
          "display_address": [
           "915 Kearny St",
           "San Francisco, CA 94133"
          ],
          "state": "CA",
          "zip_code": "94133"
         },
         "name": "Chong Qing Xiao Mian",
         "phone": "+14159830888",
         "price": "$$",
         "rating": 4,
         "review_count": 851,
         "transactions": [
          "delivery"
         ],
         "url": "https://www.yelp.com/biz/chong-qing-xiao-mian-san-francisco?adjust_creative=_dYPnK4bOKVDzAJFX1hsFg&utm_campaign=yelp_api_v3&utm_medium=api_v3_business_search&utm_source=_dYPnK4bOKVDzAJFX1hsFg"
        },
        {
         "alias": "barcha-san-francisco",
         "categories": [
          {
           "alias": "mediterranean",
           "title": "Mediterranean"
          },
          {
           "alias": "tapasmallplates",
           "title": "Tapas/Small Plates"
          }
         ],
         "coordinates": {
          "latitude": 37.7909966558218,
          "longitude": -122.397482693195
         },
         "display_phone": "(415) 957-5463",
         "distance": 898.5258862572142,
         "id": "5D--FJXQHdC3kZWYm2GREg",
         "image_url": "https://s3-media3.fl.yelpcdn.com/bphoto/dOkeQIAsfVtj-SZBjR8lkA/o.jpg",
         "is_closed": false,
         "location": {
          "address1": "28 Fremont St",
          "address2": "",
          "address3": "",
          "city": "San Francisco",
          "country": "US",
          "display_address": [
           "28 Fremont St",
           "San Francisco, CA 94105"
          ],
          "state": "CA",
          "zip_code": "94105"
         },
         "name": "Barcha",
         "phone": "+14159575463",
         "price": "$$",
         "rating": 4,
         "review_count": 502,
         "transactions": [
          "pickup",
          "delivery"
         ],
         "url": "https://www.yelp.com/biz/barcha-san-francisco?adjust_creative=_dYPnK4bOKVDzAJFX1hsFg&utm_campaign=yelp_api_v3&utm_medium=api_v3_business_search&utm_source=_dYPnK4bOKVDzAJFX1hsFg"
        },
        {
         "alias": "zingari-ristorante-and-rooftop-san-francisco",
         "categories": [
          {
           "alias": "italian",
           "title": "Italian"
          },
          {
           "alias": "cocktailbars",
           "title": "Cocktail Bars"
          },
          {
           "alias": "wine_bars",
           "title": "Wine Bars"
          }
         ],
         "coordinates": {
          "latitude": 37.78782,
          "longitude": -122.41037
         },
         "display_phone": "(415) 885-8850",
         "distance": 268.1672910066182,
         "id": "yQ5_zQbdfiexfvDe90__KQ",
         "image_url": "https://s3-media2.fl.yelpcdn.com/bphoto/5GaDAd8xFN6LLdMR6eD2WQ/o.jpg",
         "is_closed": false,
         "location": {
          "address1": "501 Post St",
          "address2": "",
          "address3": "",
          "city": "San Francisco",
          "country": "US",
          "display_address": [
           "501 Post St",
           "San Francisco, CA 94102"
          ],
          "state": "CA",
          "zip_code": "94102"
         },
         "name": "Zingari Ristorante & Rooftop",
         "phone": "+14158858850",
         "price": "$$$",
         "rating": 3.5,
         "review_count": 606,
         "transactions": [
          "pickup",
          "delivery"
         ],
         "url": "https://www.yelp.com/biz/zingari-ristorante-and-rooftop-san-francisco?adjust_creative=_dYPnK4bOKVDzAJFX1hsFg&utm_campaign=yelp_api_v3&utm_medium=api_v3_business_search&utm_source=_dYPnK4bOKVDzAJFX1hsFg"
        }
       ],
       "region": {
        "center": {
         "latitude": 37.788238266945065,
         "longitude": -122.40740159308447
        }
       },
       "total": 449
      },
      "text/plain": [
       "<IPython.core.display.JSON object>"
      ]
     },
     "execution_count": 119,
     "metadata": {
      "application/json": {
       "expanded": false,
       "root": "root"
      }
     },
     "output_type": "execute_result"
    }
   ],
   "source": [
    "JSON(data)"
   ]
  },
  {
   "cell_type": "code",
   "execution_count": null,
   "metadata": {},
   "outputs": [],
   "source": []
  },
  {
   "cell_type": "code",
   "execution_count": null,
   "metadata": {},
   "outputs": [],
   "source": []
  }
 ],
 "metadata": {
  "kernelspec": {
   "display_name": "Python 3",
   "language": "python",
   "name": "python3"
  },
  "language_info": {
   "codemirror_mode": {
    "name": "ipython",
    "version": 3
   },
   "file_extension": ".py",
   "mimetype": "text/x-python",
   "name": "python",
   "nbconvert_exporter": "python",
   "pygments_lexer": "ipython3",
   "version": "3.8.5"
  }
 },
 "nbformat": 4,
 "nbformat_minor": 4
}
